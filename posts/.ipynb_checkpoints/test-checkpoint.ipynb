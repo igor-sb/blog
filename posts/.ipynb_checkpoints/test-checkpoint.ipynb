{
 "cells": [
  {
   "cell_type": "markdown",
   "metadata": {},
   "source": [
    "# Logistic regression: intuitive explanation"
   ]
  },
  {
   "cell_type": "markdown",
   "metadata": {},
   "source": [
    "When even crossed hockey sticks won't help fit perfectly separated data. Huh!"
   ]
  },
  {
   "cell_type": "markdown",
   "metadata": {},
   "source": [
    "## Who ordered this?!"
   ]
  },
  {
   "cell_type": "markdown",
   "metadata": {},
   "source": [
    "As of this writing, Google search for \"logistic regression tutorial\" shows about 11.2M results. Why add another thing to this pile?\n",
    "\n",
    "Because after reading a good number of articles, books, guides and various other types of documentation, I realized that they fall into at least one or more of these categories:\n",
    "\n",
    "1. Correct, but any intuitive explanations are buried deep underneath the sea of matrix manipulation and Greek alphabet.\n",
    "2. Misleading.\n",
    "3. Just plain wrong.\n",
    "\n",
    "Compounding this, there are a lot of scientists in general dabbling with data without a STEM background. Even after going through all the math, a person typically ends up providing abstract mathematical explanations (\"this works because the math works out that way\"). In my experience this only adds to the understanding _after_ the topic is understood conceptually.\n",
    "\n",
    "Given this, we start by clearing up common misconceptions. Logistic regression is **not**:\n",
    "\n",
    "- linear regression but with a sigmoid curve replacing a line\n",
    "- classification algorithm\n",
    "- sigmoid curve \"fit\" of a decision boundary separating two classes of points in the x-y plane\n",
    "\n",
    "Some of these can be summarized in the following hand-drawn images that summarize internet search for \"logistic regression\":"
   ]
  },
  {
   "cell_type": "markdown",
   "metadata": {},
   "source": [
    "![Image of not logistic regressions](../images/not_a_logit.png)"
   ]
  },
  {
   "cell_type": "markdown",
   "metadata": {},
   "source": [
    "Instead of trying to decipher these, we will start from the beginning.\n",
    "\n",
    "By the way, across this post, we will be using Python for calculations and simulation, but R can be used equally well."
   ]
  },
  {
   "cell_type": "markdown",
   "metadata": {},
   "source": [
    "## What _is_ a logistic regression?"
   ]
  },
  {
   "cell_type": "markdown",
   "metadata": {},
   "source": [
    "Logistic regression is a regression model that returns a probability of a binary outcome (0 or 1), assuming that log of the odds is a linear combination of one or more inputs. Odds is a ratio between probability of outcome happening and the probability of the outcome not happening: $p/(1-p)$. When we have one input/predictor, this starting assumption is mathematically expressed as:"
   ]
  },
  {
   "cell_type": "markdown",
   "id": 1,
   "metadata": {},
   "source": [
    "$$x = 1$$"
   ]
  },
  {
   "cell_type": "markdown",
   "metadata": {},
   "source": []
  }
 ],
 "metadata": {
  "kernelspec": {
   "display_name": "Python 3 (ipykernel)",
   "language": "python",
   "name": "python3"
  },
  "language_info": {
   "codemirror_mode": {
    "name": "ipython",
    "version": 3
   },
   "file_extension": ".py",
   "mimetype": "text/x-python",
   "name": "python",
   "nbconvert_exporter": "python",
   "pygments_lexer": "ipython3",
   "version": "3.8.10"
  }
 },
 "nbformat": 4,
 "nbformat_minor": 2
}
