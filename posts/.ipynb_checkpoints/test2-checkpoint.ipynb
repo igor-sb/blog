{
 "cells": [
  {
   "cell_type": "markdown",
   "id": "d8f16c96",
   "metadata": {},
   "source": [
    "Test text"
   ]
  },
  {
   "cell_type": "markdown",
   "id": "1912b6bd",
   "metadata": {},
   "source": [
    "$$x = 1$$"
   ]
  },
  {
   "cell_type": "code",
   "execution_count": null,
   "id": "46e9e377",
   "metadata": {},
   "outputs": [],
   "source": []
  }
 ],
 "metadata": {
  "kernelspec": {
   "display_name": "Python 3 (ipykernel)",
   "language": "python",
   "name": "python3"
  },
  "language_info": {
   "codemirror_mode": {
    "name": "ipython",
    "version": 3
   },
   "file_extension": ".py",
   "mimetype": "text/x-python",
   "name": "python",
   "nbconvert_exporter": "python",
   "pygments_lexer": "ipython3",
   "version": "3.8.10"
  }
 },
 "nbformat": 4,
 "nbformat_minor": 5
}
