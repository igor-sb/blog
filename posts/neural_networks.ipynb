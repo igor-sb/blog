{
 "cells": [
  {
   "attachments": {},
   "cell_type": "markdown",
   "metadata": {},
   "source": [
    "Linear and logistic regressions as graphs:"
   ]
  },
  {
   "attachments": {},
   "cell_type": "markdown",
   "metadata": {},
   "source": [
    "Both linear and logistic regressions can be viewed as generic methods that are composed of:\n",
    "\n",
    "1. input predictors or features $x_1, x_2, \\cdots$ \n",
    "2. weights $w_0, w_1, w_2, \\cdots$ multiplying predictors\n",
    "3. transformation function to produce predicted outputs $h(x_1, x_2, \\cdots)$\n",
    "4. cost function being optimized that quantifies how far the predicted output is from the observed values $y$"
   ]
  },
  {
   "attachments": {},
   "cell_type": "markdown",
   "metadata": {},
   "source": [
    "For example, for two predictors, linear regression model would have:"
   ]
  },
  {
   "attachments": {},
   "cell_type": "markdown",
   "metadata": {},
   "source": [
    "$$h(x_1, x_2) = w_1x_1 + w_2x_2 + w_0$$"
   ]
  },
  {
   "attachments": {},
   "cell_type": "markdown",
   "metadata": {},
   "source": [
    "For logistic regression model:"
   ]
  },
  {
   "attachments": {},
   "cell_type": "markdown",
   "metadata": {},
   "source": [
    "<img src=\"neural_networks/graph_linear_model.png\" width=\"400\">"
   ]
  },
  {
   "attachments": {},
   "cell_type": "markdown",
   "metadata": {},
   "source": [
    "But lets focus here on the linear regression. The idea behind neural networks is to create models that can fit nonlinear features. One way to do this is to just add more terms into the model, for example we can engineer or make up a bunch of features based on $x_1$ and $x_2$ and toss them all into a linear model \"salad\":"
   ]
  },
  {
   "attachments": {},
   "cell_type": "markdown",
   "metadata": {},
   "source": [
    "$$h(x_1, x_2) = w_0 + w_1x_1 + w_2x_2 + w_3x_1x_2 + w_4x_1^5 + w_5\\log(x_1)\\sin(x_2) + \\cdots$$"
   ]
  },
  {
   "attachments": {},
   "cell_type": "markdown",
   "metadata": {},
   "source": [
    "There are couple of disadvantages with this approach:\n",
    "\n",
    "1. it cannot capture non-linear effects, where coefficients are not linearly related to the outcome\n",
    "2. we usually need different features for different models, so need to keep re-engineering them\n",
    "3. interpretability can be very challenging with many complex features"
   ]
  },
  {
   "attachments": {},
   "cell_type": "markdown",
   "metadata": {},
   "source": []
  }
 ],
 "metadata": {
  "kernelspec": {
   "display_name": "blog--v8k-B20-py3.8",
   "language": "python",
   "name": "python3"
  },
  "language_info": {
   "name": "python",
   "version": "3.8.10"
  },
  "orig_nbformat": 4
 },
 "nbformat": 4,
 "nbformat_minor": 2
}
