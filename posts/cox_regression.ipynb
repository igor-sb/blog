{
 "cells": [
  {
   "cell_type": "code",
   "execution_count": 8,
   "metadata": {},
   "outputs": [],
   "source": [
    "from lifelines import CoxPHFitter\n",
    "import pandas as pd\n",
    "import numpy as np\n",
    "import plotnine as p9"
   ]
  },
  {
   "attachments": {},
   "cell_type": "markdown",
   "metadata": {},
   "source": [
    "The goal of Cox regression model is to asses the relationship of predictor variables to survival time of a certain event."
   ]
  },
  {
   "attachments": {},
   "cell_type": "markdown",
   "metadata": {},
   "source": [
    "## Introduction\n",
    "\n",
    "Let's start by creating a simple simulated dataset for survival models. We have 5 subjects labeled A to E. Each subject falls into one of the following categories:\n",
    "\n",
    "- They underwent a preventive treatment (x = 1) or did not (x = 0) before the study.\n",
    "- They either got a disease (event = 1) during the study or remained disease-free (event = 0).\n",
    "\n",
    "If a subject contracted a disease, the \"time\" column indicates the specific timepoint when they acquired it. For subjects who did not develop any disease throughout the study, we list the last time point we checked on them (considered as timepoint 6) and label event = 0.\n",
    "\n",
    "In simple terms, our only predictor variable is x, indicating whether the subject received preventive treatment. The event column is used to keep track of subjects who remained disease-free during the study (\"censored\"). Technically, if the study is long enough to capture all disease occurrences, the event column becomes redundant. However, most statistical packages for Cox regression require it regardless.\n",
    "\n",
    "Our objective here is to assess whether the preventive treatment (x) increases the survival time - a duration before experiencing an event."
   ]
  },
  {
   "cell_type": "code",
   "execution_count": 9,
   "metadata": {},
   "outputs": [
    {
     "data": {
      "text/html": [
       "<div>\n",
       "<style scoped>\n",
       "    .dataframe tbody tr th:only-of-type {\n",
       "        vertical-align: middle;\n",
       "    }\n",
       "\n",
       "    .dataframe tbody tr th {\n",
       "        vertical-align: top;\n",
       "    }\n",
       "\n",
       "    .dataframe thead th {\n",
       "        text-align: right;\n",
       "    }\n",
       "</style>\n",
       "<table border=\"1\" class=\"dataframe\">\n",
       "  <thead>\n",
       "    <tr style=\"text-align: right;\">\n",
       "      <th></th>\n",
       "      <th>subject</th>\n",
       "      <th>time</th>\n",
       "      <th>event</th>\n",
       "      <th>x</th>\n",
       "    </tr>\n",
       "  </thead>\n",
       "  <tbody>\n",
       "    <tr>\n",
       "      <th>0</th>\n",
       "      <td>A</td>\n",
       "      <td>1</td>\n",
       "      <td>1</td>\n",
       "      <td>0</td>\n",
       "    </tr>\n",
       "    <tr>\n",
       "      <th>1</th>\n",
       "      <td>B</td>\n",
       "      <td>3</td>\n",
       "      <td>1</td>\n",
       "      <td>0</td>\n",
       "    </tr>\n",
       "    <tr>\n",
       "      <th>2</th>\n",
       "      <td>C</td>\n",
       "      <td>5</td>\n",
       "      <td>1</td>\n",
       "      <td>0</td>\n",
       "    </tr>\n",
       "    <tr>\n",
       "      <th>3</th>\n",
       "      <td>D</td>\n",
       "      <td>4</td>\n",
       "      <td>1</td>\n",
       "      <td>1</td>\n",
       "    </tr>\n",
       "    <tr>\n",
       "      <th>4</th>\n",
       "      <td>E</td>\n",
       "      <td>6</td>\n",
       "      <td>0</td>\n",
       "      <td>1</td>\n",
       "    </tr>\n",
       "  </tbody>\n",
       "</table>\n",
       "</div>"
      ],
      "text/plain": [
       "  subject  time  event  x\n",
       "0       A     1      1  0\n",
       "1       B     3      1  0\n",
       "2       C     5      1  0\n",
       "3       D     4      1  1\n",
       "4       E     6      0  1"
      ]
     },
     "execution_count": 9,
     "metadata": {},
     "output_type": "execute_result"
    }
   ],
   "source": [
    "sample_df = pd.DataFrame({\n",
    "    'subject': ['A', 'B', 'C', 'D', 'E'],\n",
    "    'time': [1, 3, 5, 4, 6],\n",
    "    'event': [1, 1, 1, 1, 0],\n",
    "    'x': [0, 0, 0, 1, 1],\n",
    "})\n",
    "\n",
    "sample_df"
   ]
  },
  {
   "attachments": {},
   "cell_type": "markdown",
   "metadata": {},
   "source": [
    "In order to better visualize the events of getting a disease in this table, we can plot the data as a horizontal \"lollipop\" plot:"
   ]
  },
  {
   "cell_type": "code",
   "execution_count": 10,
   "metadata": {},
   "outputs": [
    {
     "data": {
      "image/png": "[encoded data removed]",
      "text/plain": [
       "<Figure size 640x279.134 with 1 Axes>"
      ]
     },
     "metadata": {},
     "output_type": "display_data"
    },
    {
     "data": {
      "text/plain": [
       "<ggplot: (8753393077474)>"
      ]
     },
     "execution_count": 10,
     "metadata": {},
     "output_type": "execute_result"
    }
   ],
   "source": [
    "from cox.plots import plot_subject_event_times\n",
    "plot_subject_event_times(sample_df)"
   ]
  },
  {
   "attachments": {},
   "cell_type": "markdown",
   "metadata": {},
   "source": [
    "On this plot, lines indicate the duration of time each subject experienced before getting a disease. The \"getting a disease\" event is marked with a filled circle. Subject E does not have a circle since it \"survived\" the entire study without getting a disease (experiencing an event). Teal colors are used for subjects D and E, who had gotten a preventive treatment (x = 1). Red colors are for subjects A, B and C who had not gotten a preventive treatment (x = 0).\n",
    "\n",
    "Note: Throughout this post, we will focus on datasets where only one event occurs at each time. This simplification allows for a clearer understanding of the Cox model, as the mathematical equations become significantly more complex and can hinder intuitive comprehension when multiple events are tied at same times."
   ]
  },
  {
   "attachments": {},
   "cell_type": "markdown",
   "metadata": {},
   "source": [
    "## Hazards\n",
    "\n",
    "Hazard represents the probability of a event occurring within a specific unit of time - assuming that the event did not occur before and that it can occur at most once. Hazard signifies the rate at which events take place and is measured in inverse time units. Unlike regular probability, which ranges between 0 and 1, hazard values can span from zero to infinity (e.g., 500 events per second). In a broader context, hazard can also vary over time. For instance, in the case of an event like \"diagnosis with cancer,\" the hazard tends to increase with time.\n",
    "\n",
    "In Cox regression, the hazard function, denoted as $h(t, x)$, is modeled in a manner similar to the odds in logistic regression. Logistic regression employs the odds ratio, represented as p/(1-p), to transform probabilities that range in [0, 1] into odds, which have a range in [0, ∞). Next, a logarithmic transformation is applied to the odds to produce values that reside within a symmetric interval of (-∞, ∞). This is done since values derived from linear combinations of predictor variables ($\\beta_1 x_1 + \\beta_2 x_2 + ...$) also fall within the same interval (-∞, ∞).\n",
    "\n",
    "Similarly, in Cox regression, the logarithm is utilized to transform the range of hazard values from [0, ∞) to (-∞, ∞):"
   ]
  },
  {
   "attachments": {},
   "cell_type": "markdown",
   "id": "eq_log_hazard",
   "metadata": {},
   "source": [
    "$$\n",
    "\\log h(t, x) = \\beta x + \\beta_0\n",
    "$$"
   ]
  },
  {
   "attachments": {},
   "cell_type": "markdown",
   "metadata": {},
   "source": [
    "If you read previous posts on logistic regression, you may remember that this type of log-probabilistic model could not fit perfectly separable data. We will get back to this point later, but for now it should trigger a \"yellow flag\" to you that care might be needed here as well.\n",
    "\n",
    "In addition to the assumption of log-hazards having linear relationship with predictors, Cox regression also assumes that any time dependence of log-hazard is contained _only_ in the intercept term, $\\beta_0(t)$:"
   ]
  },
  {
   "attachments": {},
   "cell_type": "markdown",
   "id": "eq_log_hazard_with_time",
   "metadata": {},
   "source": [
    "$$\n",
    "\\log h(t, x) = \\beta x + \\beta_0(t)\n",
    "$$"
   ]
  },
  {
   "attachments": {},
   "cell_type": "markdown",
   "metadata": {},
   "source": [
    "This assumption is motivated mathematically - we will see in the following section that it significantly simplifies the fitting process. It also happens to work well in practice. Across the literature, the intercept term $\\beta_0(t)$ is usually moved to the left side of this equation and instead expressed as a _baseline hazard_ $\\log[h_0(t)]$:"
   ]
  },
  {
   "attachments": {},
   "cell_type": "markdown",
   "id": "eq_log_hazard_with_baseline",
   "metadata": {},
   "source": [
    "$$\n",
    "\\log\\left[\\frac{h(t, x)}{h_0(t)}\\right] = \\beta x\n",
    "$$"
   ]
  },
  {
   "attachments": {},
   "cell_type": "markdown",
   "metadata": {},
   "source": [
    "From this equation, we can expressed the hazard $h(t, x)$:"
   ]
  },
  {
   "attachments": {},
   "cell_type": "markdown",
   "id": "hazard",
   "metadata": {},
   "source": [
    "$$\n",
    "h(t, x) = h_0(t) e^{\\beta x}\n",
    "$$"
   ]
  },
  {
   "attachments": {},
   "cell_type": "markdown",
   "metadata": {},
   "source": [
    "This equation does not seem particularly useful, as it seems like we now also need a mathematical model for the baseline hazard $h_0(t)$?"
   ]
  },
  {
   "attachments": {},
   "cell_type": "markdown",
   "metadata": {},
   "source": [
    "## Fitting concepts"
   ]
  },
  {
   "attachments": {},
   "cell_type": "markdown",
   "metadata": {},
   "source": [
    "It turns out, we can leave this pesky baseline hazard $h_0(t)$ undefined, as it will completely cancel out when fitting a model, using a technique called Maximum Likelihood Estimation. Likelihood is a probability of observing the data (here, survival times) given some model parameters (here, $\\beta$). How is likelihood defined in a Cox model?\n",
    "\n",
    "##### 1. Sort events by their survival times.\n",
    "\n",
    "_This is the only part where a survival time is used in a Cox model!_ In fact, as long as the ranking of survival times stays the same, their actual values _do not matter at all_. In our case:"
   ]
  },
  {
   "cell_type": "code",
   "execution_count": 11,
   "metadata": {},
   "outputs": [
    {
     "data": {
      "text/html": [
       "<div>\n",
       "<style scoped>\n",
       "    .dataframe tbody tr th:only-of-type {\n",
       "        vertical-align: middle;\n",
       "    }\n",
       "\n",
       "    .dataframe tbody tr th {\n",
       "        vertical-align: top;\n",
       "    }\n",
       "\n",
       "    .dataframe thead th {\n",
       "        text-align: right;\n",
       "    }\n",
       "</style>\n",
       "<table border=\"1\" class=\"dataframe\">\n",
       "  <thead>\n",
       "    <tr style=\"text-align: right;\">\n",
       "      <th></th>\n",
       "      <th>subject</th>\n",
       "      <th>time</th>\n",
       "      <th>event</th>\n",
       "      <th>x</th>\n",
       "    </tr>\n",
       "  </thead>\n",
       "  <tbody>\n",
       "    <tr>\n",
       "      <th>0</th>\n",
       "      <td>A</td>\n",
       "      <td>1</td>\n",
       "      <td>1</td>\n",
       "      <td>0</td>\n",
       "    </tr>\n",
       "    <tr>\n",
       "      <th>1</th>\n",
       "      <td>B</td>\n",
       "      <td>3</td>\n",
       "      <td>1</td>\n",
       "      <td>0</td>\n",
       "    </tr>\n",
       "    <tr>\n",
       "      <th>3</th>\n",
       "      <td>D</td>\n",
       "      <td>4</td>\n",
       "      <td>1</td>\n",
       "      <td>1</td>\n",
       "    </tr>\n",
       "    <tr>\n",
       "      <th>2</th>\n",
       "      <td>C</td>\n",
       "      <td>5</td>\n",
       "      <td>1</td>\n",
       "      <td>0</td>\n",
       "    </tr>\n",
       "    <tr>\n",
       "      <th>4</th>\n",
       "      <td>E</td>\n",
       "      <td>6</td>\n",
       "      <td>0</td>\n",
       "      <td>1</td>\n",
       "    </tr>\n",
       "  </tbody>\n",
       "</table>\n",
       "</div>"
      ],
      "text/plain": [
       "  subject  time  event  x\n",
       "0       A     1      1  0\n",
       "1       B     3      1  0\n",
       "3       D     4      1  1\n",
       "2       C     5      1  0\n",
       "4       E     6      0  1"
      ]
     },
     "execution_count": 11,
     "metadata": {},
     "output_type": "execute_result"
    }
   ],
   "source": [
    "sample_df.sort_values(by='time')"
   ]
  },
  {
   "attachments": {},
   "cell_type": "markdown",
   "metadata": {},
   "source": [
    "#### 2. Calculate likelihood for each time point\n",
    "\n",
    "We start from subject A that underwent an event at its own event time = 1. The likelihood of this event for subject A, is a proportion of the hazard of subject A among the hazards from all subjects _still at risk_ for undergoing an event at that time:"
   ]
  },
  {
   "attachments": {},
   "cell_type": "markdown",
   "id": "eq_likelihood_A_def",
   "metadata": {},
   "source": [
    "$$\n",
    "L_A = L(t=1, \\beta) = \\frac{h_A}{h_A + h_B + h_D + h_C + h_E}\n",
    "$$"
   ]
  },
  {
   "attachments": {},
   "cell_type": "markdown",
   "id": "eq_likelihood_A_expanded",
   "metadata": {},
   "source": [
    "$$\n",
    "L_A = \\frac{h_0(t) e^{\\beta x_A}}{h_0(t) e^{\\beta x_A} + h_0(t) e^{\\beta x_B} + h_0(t) e^{\\beta x_D} + h_0(t) e^{\\beta x_C} + h_0(t) e^{\\beta x_E}}\n",
    "$$"
   ]
  },
  {
   "attachments": {},
   "cell_type": "markdown",
   "metadata": {},
   "source": [
    "Here observe that $h_0(t)$ can be cancelled out from this expression, hence the reason for not modeling it earlier. After plugging in each subject's values for $x$, we get an expression that depends only on $\\beta$:"
   ]
  },
  {
   "attachments": {},
   "cell_type": "markdown",
   "id": "eq_likelihood_A_final",
   "metadata": {},
   "source": [
    "$$\n",
    "L_A = \\frac{e^{\\beta \\cdot 0}}{e^{\\beta \\cdot 0} + e^{\\beta \\cdot 0} + e^{\\beta \\cdot 1} + e^{\\beta \\cdot 0} + e^{\\beta \\cdot 1}} = \\frac{1}{3 + 2e^{\\beta}}\n",
    "$$"
   ]
  },
  {
   "attachments": {},
   "cell_type": "markdown",
   "metadata": {},
   "source": [
    "From any time after t = 1, hazard of subject A can be considered to be zero, so subject A will be excluded from further likelihoods. This is because events considered here occur at most once, and subject A already experienced the event. Next, we move on to the second time point (t = 3) when subject B undergoes an event and we repeat this process:"
   ]
  },
  {
   "attachments": {},
   "cell_type": "markdown",
   "id": "eq_likelihood_B",
   "metadata": {},
   "source": [
    "$$\n",
    "L_B = \\frac{h_B}{h_B + h_D + h_C + h_E} = \\frac{1}{2 + 2e^{\\beta}}\n",
    "$$"
   ]
  },
  {
   "attachments": {},
   "cell_type": "markdown",
   "metadata": {},
   "source": [
    "We keep going until we write down likelihoods for all subjects that experienced an event. Subject E never experienced an event during our simulated study (subject is \"censored\"), so we do not write any separate likelihood for it.\n",
    "\n",
    "We can visualize likelihood calculations on our lollipop plot:"
   ]
  },
  {
   "cell_type": "code",
   "execution_count": 12,
   "metadata": {},
   "outputs": [
    {
     "data": {
      "text/html": [
       "<video width=\"640\" height=\"274\" controls autoplay loop>\n",
       "  <source type=\"video/mp4\" src=\"data:video/mp4;base64,AAAAHGZ0eXBNNFYgAAACAGlzb21pc28yYXZjMQAAAAhmcmVlAAAphm1kYXQAAAKtBgX//6ncRem9\n",
       "5tlIt5Ys2CDZI+7veDI2NCAtIGNvcmUgMTU1IHIyOTE3IDBhODRkOTggLSBILjI2NC9NUEVHLTQg\n",
       "QVZDIGNvZGVjIC0gQ29weWxlZnQgMjAwMy0yMDE4IC0gaHR0cDovL3d3dy52aWRlb2xhbi5vcmcv\n",
       "eDI2NC5odG1sIC0gb3B0aW9uczogY2FiYWM9MSByZWY9MyBkZWJsb2NrPTE6MDowIGFuYWx5c2U9\n",
       "MHgzOjB4MTEzIG1lPWhleCBzdWJtZT03IHBzeT0xIHBzeV9yZD0xLjAwOjAuMDAgbWl4ZWRfcmVm\n",
       "PTEgbWVfcmFuZ2U9MTYgY2hyb21hX21lPTEgdHJlbGxpcz0xIDh4OGRjdD0xIGNxbT0wIGRlYWR6\n",
       "b25lPTIxLDExIGZhc3RfcHNraXA9MSBjaHJvbWFfcXBfb2Zmc2V0PS0yIHRocmVhZHM9OSBsb29r\n",
       "YWhlYWRfdGhyZWFkcz0xIHNsaWNlZF90aHJlYWRzPTAgbnI9MCBkZWNpbWF0ZT0xIGludGVybGFj\n",
       "ZWQ9MCBibHVyYXlfY29tcGF0PTAgY29uc3RyYWluZWRfaW50cmE9MCBiZnJhbWVzPTMgYl9weXJh\n",
       "bWlkPTIgYl9hZGFwdD0xIGJfYmlhcz0wIGRpcmVjdD0xIHdlaWdodGI9MSBvcGVuX2dvcD0wIHdl\n",
       "aWdodHA9MiBrZXlpbnQ9MjUwIGtleWludF9taW49MSBzY2VuZWN1dD00MCBpbnRyYV9yZWZyZXNo\n",
       "PTAgcmNfbG9va2FoZWFkPTQwIHJjPWNyZiBtYnRyZWU9MSBjcmY9MjMuMCBxY29tcD0wLjYwIHFw\n",
       "bWluPTAgcXBtYXg9NjkgcXBzdGVwPTQgaXBfcmF0aW89MS40MCBhcT0xOjEuMDAAgAAAGvRliIQA\n",
       "F//+99S3zLLtU2+2C6j3op4mX0N1JQGblsTtOoAAAAMAAAMAAB68FzgCX4kK868AAAMAyubX//Vz\n",
       "3h4gA5VRRAno+TarNMmsgOnFA2AtPVLDnFVVr+1/Xouz+GA5BxqzWxekXQWbqBsYuOu63xyvqNa5\n",
       "7DXXQfjgyHpP1FlXAYuuF/fApbbKlbMOWlKmfIbvEpdMc/o1WLnYe7BUMjhmh5wAuqjp+vsn4nIs\n",
       "ewMH0QtfR70PiabQNH5OffjX7/3TQWP8Js77hgBucFZtRofAHH3zUQa+15kYP8T47zOCF9rPJeUZ\n",
       "S0N93788EFjqNgKOQAP+lvf4NRj+QP/NYW0Ho4UOJB/4D1iJr6ZY+qyDrfYfSRpiuYr1a2ftRI5F\n",
       "RhQhezUU7k2w2DGzYC9ag2ap2FJhgkS4FQI95WBbg+wk13Uw3tCorliM58km5Qu6i447HrXrmvAp\n",
       "KC8QepH+C+l6JAHRHao3jPlxlTg7ik+0ktlM96lvQFjs7BqZL7LHd6+e/U9jvnT/0GJeZA+D+86g\n",
       "vKKWfJFe0QilfAArPSiwnE657IAK344O7PoJQ+5uuIpVdThE7Ecw0BW3hpmqJJ1dmEUZgrg6ucUM\n",
       "SdaiF7rPpBxVXEf/A3sungV8sRCJAk+QjYZzWUEPw/FpMPKvaXpira6vE1EZyUJHWkjDEsxDjNDU\n",
       "+sfnwgx2ML1ybFzhYO9/c6TDyqHazorx7LVwcxPjbuFI+8icHMKsSn9iukTHrQDHCcS5Bw48YIBS\n",
       "QwiWSkw3IQnLUE/brJ/z4a5uAe17sYiQia91++w1yWt/x+XRSmz2cS2bJUlcQca6jueOiuQNy/eT\n",
       "+tLlPo9jI+o4JnE2xn3WZVZdBQ48qLvdEYTDA8Y1eCaIABgnRi0JoITIwX/AuumRN3AI12l9CsbZ\n",
       "kewGVUFf2Z23m/RL9qr9uRbiKWVMQr0Iu3kgSD6deXRkse46P18sqiUg5nuZlJUe4i8u29Ginq3z\n",
       "WiSkIkmnOobOv0RRMYX+NzZvSdcW9z8W6jS8gCOZSnsgxXyE2QyAg2qVQydABAHrQ7NWCj5YATRv\n",
       "jsApwOG7LxByQmfD9/akPBGV/ZjRZlJM+Y1D9kmToZw4zdIM0i+zSWZolIf+X4HBqrenyrt9D4QX\n",
       "Z8loTBp4eyMFBOHfJ0uV0aKPOy05hd+rlN8iCX8K4tINKw+ZZ9B8NDa841eKAc0VyYQUMSc5FI1C\n",
       "59Co23F2cdtyPZETtVkLE/cFy7JP8/tGF5rmnHcaMpmXD77GsIMDxfPwXQilS58wC4BoeuzUBjRc\n",
       "fGnQMS7q0fmc2+ahF2H9T3Z/qeaQSnsKd95RN4S6qO8RQp3uZnuf0ZfRz5p6SQAAAwC/AiO8hsYJ\n",
       "Ubdd1x6e0EM6PUi5qylR9NEp4AfqGiXMPPJN3lNVT+zj7rjexIaaOm/Cyas+gXQ9X9uhUxnFIibo\n",
       "ZqjyLl7eW0dRvQ4+vug5tcTD1nM/iqHXpt/AnNk2HbuAmGs5nuKe/IPH7kdHD+yr6pXlIOqYbVpl\n",
       "EK6zCPQjuHOHJ8zDF7YBDssmjDG3JYTANStx41Aga/WLJ6ceS4bQKYqmU1Xn8oTN5nZy//+FFU7h\n",
       "yxOnJ2sCShVoQVTqCkpEdqt55rSA+4y0flaHMGrqt6+c31zp39k1AraPiOULocTNLVdmSy1CZcN0\n",
       "NFXACXmJZqiZRDK2QYvnVbDHkxZ9OZdru+x0EjlfQxnVAC5T8+mtifyBm95M+DZADsDNdEPC0Ohj\n",
       "LC5mO9ocXlLyo5KRT68UP6vB5JgFnBdZe3Sv7WE66h88U954rb0cJE66SJ0YAV0EUtUiU7515nE3\n",
       "CHrFCFcNtzJKOdkBgJzBzG6+tFXQ29/kqu4FLcn8fwSP7zkZI/GELm0Y+pzCtG1szBR+TWptXy0n\n",
       "2j2kekslvH7StoDV2wZtLySwxT3qtGw5ES/TS5Ytyof5ux/7uFUUriAaPgDrzx1a3sgRXV8A9x/D\n",
       "u+OADFArkXr88ZnVxOFGpYZO3HxGWMMnrZSnbvVUx+Zvmt8Q8fc/qOAZZR7U/MLZ/raQSfIVcZbr\n",
       "fiilgWS/wl5FJ7MQZvIH1CrXq4pzpo93ugwSR0foB0OycfGnd9ZAGL4JU2Xl7WO4ok3NB/FxlQIE\n",
       "UZ5cqWJFOMhN6LXlDAj9CmeREeM0fRrFH8QU3O9FAqxSnjb4lxtkZaur5+kN7K/meH1pyYpN6sHV\n",
       "vz8c0dOMKaxEZld2MzcmoeX6xmXfruyCR3UZjvRmTEDOlXU0thNBwk6IVopUEI3ilTE6dgIMEVYS\n",
       "BwP9v4Mg11p2RVaBbh9HOHnJS2C/fBZarvFEundTeckSvTQO5g3U126+9Uo42iekwhXAMJmirf7j\n",
       "QfbhyHNXe1U9G5SAAGuOoj/65Dbt177Je2FRSmZlbEqdnAy8aMoW/3+vcGaHvdlrd1SXeP93Zubi\n",
       "EvhVXp4ZcJjQoXO0DP9UuXT90Tsb6F42nl85zFMVHrihyRVw0pRsHQX/KTw0FglG+cWzzl1RyqEn\n",
       "gGvpdJ8apKiEDQFAR0N/eJdy3yFI6MmqU+rOrlUHX/lY6uxqnWHuH5bEW7A4odEfTm7lOqbzoqAj\n",
       "m57FK2x65aPZ2qH1wSOuokpqm66kqa6H8PDCpsEIBz1FeeFei2zeTzsUN1zA3do0jS9HwtUhEiWJ\n",
       "lMGd8/6IjTn4iyy8x97FE8SlKJssdUA2jv4jYOTy1lL22ZufNKfdWRzUUelCqFXsTTjTmfnzk3GE\n",
       "0J7pHvDvItYgkhr8bCoI0ypN+jnX2wxjsYX3TbpOwuCKA0qKZOBBLK/iU9kZ1+Nc8w4eRj+IsRdT\n",
       "6OiExRUQjK6tpLeE69dfCJfxaBIhzSu1aNBiLnexD5uV0m8R6ariDZV47I70fI9WU02lxDQmxP+C\n",
       "cixV4xJSosRh5iwVxNovp2ZOF6AabEB3MJgtQ2iHbCmKPvgQy7PdSgEBDjoNqYFUniPpq5ix7neU\n",
       "XsKgyLooXxiHs4xlSFpKpoXh99NteB2Aky4+TpMQpGLizzhcuffmdyyswx8V97Ba6HKN16SjDrso\n",
       "nZV7IVdRMaxWAZEnt6scDMM6lJ6G8bRjgxcisHEYZVIvxWpvL00KmQta5RQDr5O/DR7BeJ42cS5t\n",
       "DGS8no/IOUUa5T973Z3jQdhbOW+5k9mmRDZNQMSTr3nco3yuEiJCvg3fivpZ8TAzfoEFLQU7FJ5i\n",
       "edLzy9pUEHWnM/iyb5oqSQ2dhNo8A8ZhSPT06EcKq0fCnpXIuTp9NH/HEZymz4g6wn2h0VlS6blC\n",
       "qDY1TgYr5Hpy7Xb9EgzAj/xHDrFhbgBL7Djj0iyYl/RoKlOh2g0G8M53YOF3eBi7D80q/xbcFsAS\n",
       "wzHVef2fuUdgSCprBxMUX/q5JwxKBpuhNAv/3tyLlWG+DAp5AT7vekTG6p74bCzU+Offyn6K3RIj\n",
       "pyO5gnxuKlI0ficsLnW1Tz9FvdhMULvVEiiaY14cv5YGZMTGi97Fro2srYJ/9XczgCmMsuouRYFC\n",
       "Pe4+TgNcxDw3CByj63e8Be/rwWjrhABKI3w1WnLNOZ+sOETODeSNw5WWNm4lnqAA5ruuSWc86lRg\n",
       "5TpHacknA1xgkSo9BzeS0y0PI2H93o4q+Yl1WAOL93/Nzc/EYiWVxoH1T2nxuEyEBboh859Yqs9Z\n",
       "s7HE0Nr4UDM13MumzXHBGGEedqPXKqu9H+MvTGHgfCmlOJ1/mAx8WEmnsckljBo/oTL0A59fwi7c\n",
       "/HhgeHnVPP36a8wmFzSTSIb9aXMD4I0M4EDIGim8Gs7TVOu9AnkqVBQyxZQDQjqBtXCbmaFYkWPR\n",
       "Xk70zf4D7XxLGcFD/2gXFj4lxv9Q3VLX+pp0FGelGrwV0OhOalka5UAOjVk3ZXfIjVIfvZEDQAGM\n",
       "5uFgvpT/kq6H7Y6T4GVr3TzYsibrKGC5Pn/mCDZc6Feoe+d10OUUffSKQCdvtTn9J5uOi2H3yGeH\n",
       "VqkK5tErugijaqo4sECQTS7ayFFSjdLok1aa/T0lwAON9okr9mayQ3pw7nhlf1MfDB4Jj4E6p6Gi\n",
       "raNLiufevKgkRjNFkjNHUcyahokUCsz3LOLd5DA/gQngiKIFRkVaDM5otEgL5wOn5juAk0eT7FaN\n",
       "UFOjgZlH87lggrKPhqR5MaCFdAiWulBThKfm1KZ4kYrc/pe4bijzanHWJtI0P8lno+2oqB1UEura\n",
       "kOrQ2v+oJvHMHYkHl/912krfyst/9KGHvJ/EBPwiAFMM9IBUdLqbmhZq73rxp+8HvfxT8OZnlaKE\n",
       "qB5Zly1oinvHs8iJp8rBI7Thyhct/3a4B2HZga1OnxKnnSo6zl7OcJfzJ4XSqdiQTCkUorf9fICi\n",
       "+OHSNvTKw6FvZRCxK+DsGL6hw0vYa7y1vTe0kG+7z/83vw5AbE+bEvc6VrN7RGWmW7a/odC74kCg\n",
       "N1zfAOHLfS5XAaeV6n+erouT5Ol/nFi+Xs0yfLtMUt33QyT47vBnjVpsZ0DqzTax90lY78YzmCyF\n",
       "lxbEJSKD6ParXr9r39YrFH+itYLDpC3zVALATn0iKnjjrMQk42c97/bxxOxt27VfjtKPI/h9svjB\n",
       "zg9N/M8XSblNvdYSq+xUWvJHlKgd+hz8ynEkkn8oXPHYJUjAZ8dwDZnlYjyHGPy76UlNh995i+fP\n",
       "30HfH1hUpQgLww5IYL6sk4N00ACHJl5iv7W7BEliLEfnzeEfezdNjB/OhXv4LEqAJeHrRtViALO8\n",
       "gYxg3IDLCVVG4YDtDt3WdjpdHURV6RiWGP9MFfBNOxCyv1GJO33ALi20Aw/6fTP6UbPhsuLz5Nss\n",
       "GV9+6QUoJNPt8GcEF2yf9OYQ5Zadqntr0+WcOIDDE2Ihq+A2g+N209hkhCzquLnvAv7FmEJcXHhd\n",
       "SFIN0YeDjX/b1sZiu+Bxlh292V3/3/rZmMBUw6Q/RQJdQdZSAnutQXhqvgjAWbeq72zQHx0sz/CC\n",
       "ZQmofv5+e9/I6RO20+J3vH23PuTHR/qNg1gXP27klhLO+EHJFvDFK/QaaueIex2uQm5zTiuyLInG\n",
       "K4dHsFn/zMSM8/qABLaYXjd4+RIZRLt6bzu+etUJlnbGCGAcqYp3wmjWarPuXj47JdRnFxxD2+fh\n",
       "93ztwrB6icvcuf4mXaLT98gkDhcC2kxnRFKJqiesBOYcoXt6Hg+eWncUXFk80MRDsXUloWhuFRKN\n",
       "5W4wNBvhFqqDys4M2ncjzl5007hxJMczoGh4WPZ19kwZiii8T9eWdctQq1x3zhkJQqDWtXYbfZdH\n",
       "pWJpW0CIZRE6EuEE+XtAuAuSAaR5GB78Vx4lQImEJFzHyT0ToRwsZyZQmgkXoetkUM15d90fc1se\n",
       "OTUYG7XmNeQYlwH+pPa2VXNO4e5VEBSr6sBJ2Tb2p13fDOB4TsgFOOgDhzGqkr9L85XxwwXZILkb\n",
       "HSuIS+F0prd3ILSEpmN5kUkRkoU5cw7EtbUfJGpDANk5rJFNpDSYDoBu/eDrvTYoJo/A3ZuqlHbd\n",
       "/r+1hADb2Dc0ZXSKiq/RHgLaDbQ5xcHzcU/Z07/x6wKekHmdGnwItnKQlM/SFz/oggToVQ8PnJXW\n",
       "u8vd4ZIrGP5vTwQSwte9F2OSOTF9KMP2j5PpiDRoA0Rjif00dObgb/Rpc8/on5K4+uNQ2wwkikBt\n",
       "UbmKwJIBfEKXFweThn39M5yI7v9xboQV1CD6Lte1jB135Eu9ufxA98UxcXLkL52OveD/vq3VuxCi\n",
       "tjSjKNMgFiNnPaMOOj3fc34LsUrjET+MXR1FqYdMSqnZ3NpnoAlnmXSJbTvtEQh4TkY1dAdzcqjI\n",
       "Y3+P2iIFF5jh+u7oDKGDZGIcYC96+BHNS9SrXa//y4nkAjzhshP4l19g1SlDjI+dzNlDw4gSY35V\n",
       "OnPE6DPociHyfRbpZ5fzUERM4igmGZHvUKAL4oe6Im/OYA9NC4ZPYGs4lTcKJU1J2q5c07oRZJMG\n",
       "hycaESLaFh8ylfOqPUk4/+83Vj/8eoL15YetSzbqbrqEyHb96Tj4TBBk9zhDry8yieiXeB4E/Kz1\n",
       "+pECa3YsHwR1pvz+tEqxmQwK88n+q/zEUN/IYx0clhQPrJ7hdXcQzWI1USUokIGcz0EoOVIptqTt\n",
       "M7AGbJaXW2LTtOjSIq4jwoL1j9rBmr6a5IEXjc5CBf4Z+9c2vyMlzhGym7WHmf/EbIvaGBLXzwwG\n",
       "+YZ/v9wSvWwb4jvf6UT3HEJbnYGX8IC95vLlOIkNw1a7sCWCCWHKh/Yo2c0gKacaECwRiy83JRMJ\n",
       "wnGnJSpENNxu9HpuLhMSOy/DrPIn1iBOPds9Y3jvLFrHmk3SKi8I1kVJ+1djbcIH+v/+9Mf5UO42\n",
       "Z2CQdyy9QYTM04O9h+nLllmAFwcWufqQBnwn9NbW0EXU7tmzaMjKfvgE9FhNWIk6RKkMV22ub62I\n",
       "zs/aFUcrya/0WoXFJL6iy+R6FAuzBKa3lthAknqmBs47JhpQvkvynvdXIS5z8H5xFS8oVYiSD/A/\n",
       "kPZjPLPb4NlxkVZqIqUgw0XAoR8Qww6l+ZoQ17d65ISmgq4NLpdsJsJnoBfBXPu3tQKgw7IEdzj2\n",
       "PS8rTkDx8U7bQE9I9KwgcaEaIdWIHwyo3jYOGh/bcUdjgEESIAyBe7dMX4hHaROA1wr/fhY4hDRP\n",
       "UW6XMWQcntcYL/hcyO2qlYpwgnS0lM86lGmNTTOb34moybF7gr2NBDkSiF44aivmeRbvcRXAU3RC\n",
       "blLpR9q0nEWnf/cwubhqmpiL5dEINf+LIThJVue/jNQqizUopGIxp2+76uh70buCAcnqY2OLkncQ\n",
       "/EUcpgWRS+C6l1n8fFZ5OTeQBgkcX+SAdtiTAR5iSueuOPmoCaL5ZlY4iUzZcT57104R/mYRZ4C4\n",
       "uSHs8MOXAPKG3KY/cYBOt+SyoDE9DHkGuCXcakH5eUzWB4N3+7WyN68/oDy3swYoowu/AHktFq8J\n",
       "3CWnUgtbuDK3/qZofg1qP1AYarVA/2mpvpc8UmYdufDSsXkxtPD0Sn9n3ha/3sSTwotdsjz0Fp0C\n",
       "t0hzMYHnJJMncMvJ9YifpoO1HIfnoWcFgiKiLaphTDWFqKb3nIG7KTOHMflY776luZpsQalklCY8\n",
       "L85ZR60vtb/ZlQbkjR7qVDlfMwGtNzjfn9uCrsSY5c443nJdPrh9jr4A9jbLoOKTY4zBNlPLbWjH\n",
       "H//b2VSMmNScaT3VH8HctmvXlGGa6/z3b9hUf7J10tsyIQ5XLRHbHZ73dousoYIoMFJAeVo2flGA\n",
       "yz49NnYTH+EQdZ3QKZxmrpYVlQLZ4nY685u2p20/fip45P8Hl+j8Eq//0ZO9G2q+0rksOn3jlLaM\n",
       "nLN8kLjUTyOKDVZxUBaOixLL8nE9PSpEq39fsrBN/njDuTjgIZXMk6is7M5/2UVP9oTOXrJuuiac\n",
       "fa0muTahQghfZH9EXNMgf/tODnQz+N+scmDsH+1IBDEPsD1imNbdXZblDeZyAkmHDE90r5g2iTTz\n",
       "i0+mHPhM8bmmzi6vYXEXxviEFSX7XyO2oy1ZOElnflBwG1HsM2uu2gpS9NFe/zm3FaabQk5qCUhl\n",
       "Pl76t/BN4Zg+g2EK5kK6sxaSlgj2AAMpvIDftoTS3thvnkhb+fgOq3XeQ91zivrP/tkENJIbnwEa\n",
       "AewCZeI+C71elHe+f5NID4egEsrh6GRU/6rsCZ6ModavXmUL8RCn/+PD//xQlmAd3UYRLfwhDoN4\n",
       "tl4GpRIsAqA/uXgSmpVzsg4c5PcjnHZnXFWjPPwGO3w/Xll0vRuWKuxg9z2/M/FB15dQz8BfyfcG\n",
       "YCwnJS7axtrnl2PMV0V+ryspV7uUACadUMpqUUN35XNR0LUgRLsjPLf/KShVHexsL3s8Bci4UWIb\n",
       "8Xu2MkNv3lyfU+/+G33lfsXidC60XJTlDh2V604zixu1aWAeYDMlzOeYR7h/KpIRCMYFF2xziZ65\n",
       "9zxeJwbUX6RmmKExxg1QtxYnk7GjboNnBtS4Yh2MeH5e9PxXzd9yZJ7Q/Dz+lBghxtSjezXJX+AH\n",
       "8r5IGFbGeAIzdtfv6+q2xWfvzj+KIxwyIsSDEwUBZrxanCvDoRp/jXpCHGthYYd6qYwFI+hwFkxM\n",
       "i5MsAgSb8INuTTf+uRy3qLwcpuZZ8H/YoGlA4nIE2XczvhDs/O7NaHmgBVleMW/m0B/SQ+QNRcMT\n",
       "waA7KBeShBcEY1JeLOcGkiz2ADsA82je74Zh30Qjxwqn4gJg0ZvYdh8YuKjpCrouTq2c23b85XWl\n",
       "bnCOivLoVEmSqku1NNYSsQXu22HTq8EHJUpO9MFIW16rAoen3n3XkZktPoU4dkggSJbK6/O+RlzZ\n",
       "cJc0Kf2HRcWna5z7pUlFewZXDlNRRKwTKYIE2iL6KqqBgJ03DZiF4UiufR8e/xdMcSinq9K1IpaL\n",
       "s/CtjObpFdJfnWEQsr0dshLgi9ItlbPum9D1HWRjF4dLRTwvbmyqdiXpAoC9LrqmlEUK/XtF7khP\n",
       "B1/pdubdmCtF01aGZVh9DNe/a8Hsdblcq+BTdBXKjcBp4AfiW1VkoyJVSNFC+MpM7Zv2cltvYmTQ\n",
       "NrnT7PkcIBUtpYCTBm23MDhybknhao7qiNLYVzM9YGPjlNNjS6mmFqWyKloeJtLNzjIjVbsmjwME\n",
       "ZHSXZ7vDrVhINNrR7uxw3VtrB9z5f9riDjU3rCAZdLajC1/pz7cbKrXx+25lwoN6aYc1Euh/89ho\n",
       "EfIQFSbXbV7It2MeejPTcb9SWj5RiuxDG03Is929eIOg2K+gafgR+C+eIz47LM1PQ5/PhTF0VFfb\n",
       "qmW7was4G1cr/V5lUvqWgM09ohnlgzD6xDSCAuUYmBWfo/TMao+rCq1LITU6UfkHszpzC4sCf78p\n",
       "daVPbDQRC69QeAabuUt470XOeo4QWpf5QxL/0UwxPyDVOAn9/SG53S7qOVaVhmydrcfwglKy9iSt\n",
       "FYpZgSVuH64DNj8WEhTirZ6TkH+6Hk4lHvu+h343jIcMrZgY0jZQQ3/y0CqlTEdu/VrI+lv4wVAM\n",
       "1SqiV+eqe6qf1nDmocZTpqABHKvTuVvxeKG+uM7J6I7jYbqNalIaRFiYxW1aU3ZPfigAAAMAAApR\n",
       "vNPbqidjGgrOzp+Ut22iCIKCsjm6oz3vu61RKWIvY61bkxetwSPJ81uoE2x6TT2z5zVakw0d45cY\n",
       "lWhFIGFKOCdtP/ZxlpGszwvV8nQndFQMe0kBifR3BvuWh2urmcXvYQ387+tWT1CZmCgUM+AAAc0A\n",
       "AAOYQZojbEFf/talUAGg+fhgel//1c95AAE7Hc71PoA6t125ByvxFd6qHloHymCxoSFPxedPgAfb\n",
       "Nr7ensXQUsBBKj9IjtTrvdhPN0+ep9/GLQb7HpyCURpnEX42DOcLPNpcYTGiznGIADcRt1u3eXw0\n",
       "KuGThi64FMAWOZY1EvETeqQkrTY0cMxot8e/kdkiuDXFVy2N6W+f4MKXLydYgvQW5DzpES5m6lhG\n",
       "ZQJDDddbSsnuf6HJ4X8DRXTemlBGOWe1Xp/ul/O7Imp10S6nkDmRsAKKGROaw26LQx932sELVEi4\n",
       "LK7Z/TldOPgEkHju2jkGHB+KdLO79NYwz/zSSIIaJAQRvD/45H82m+8p7R/WX+0xIaiQ+TEo9Xha\n",
       "S0TxE1nxWVNIr2jiPms7sOQbaZxAwwy7LR+jlMuQTFLcFQ1fzOn4yfAdtN26ycQ0rYTSZin90LSE\n",
       "13dy57KSaUi8wMEqhvd3oVH4i0QWkFwrnOcJP9br33izaLwDjijGTA3lufbWFVWlr7erK05v8hs8\n",
       "HhXVTJhkyg5KP/riiMXf6BCKHL7IzQ2H/v67/fzHqbozKohjk4XfSSkJ/HUaJSpmmTk/rwQfOaIx\n",
       "wOMW2VuhLrLN1eShK4Ch39cMmk67ZsMMx/sNpnBzHOomaTYocJJcmnf4nG4egmWx/mOjnmUT6VpI\n",
       "1rdfoZnQZLMuvjgEqTMi6xptc+HlXRRpqD1S44P25w6/OLZplGjiHaU+xR5eLAlgGQyLRtquHeH9\n",
       "KK4vGgAo9XwGU3dzRZjIt8qx9MVXSBc/hQuAOSoTrPeO3W/sXl6La26pCcFcDcuoa7PU5yOdPjeJ\n",
       "TfOghp+L2vFQYRy3prjrxntsLsqKwEGh7OHbu7jH8DpaPNGclAAToIcCAUfqk7JVtwl6ylLFpwTy\n",
       "Oa19PCl6SFB/MVxttg/7kVUdy7ciov6GS2vVaz1Hdg4KoKqGQqo69Vz1njP3VAZ5DM0pxsG+QP3t\n",
       "+3QBNb7+IRNUWLEAYxCdV1+bxeL89tTU1yJa/NQ3SOilyOannqm+7upQzvMF4jp/3yiwkmcY3Ruo\n",
       "LM9wVC5iX2ZcdzWOtAnAAB3888mcACp9vH0trZNkyMjg05d5fVYh6aq4FX9va/hGyYLCFDTRpwTA\n",
       "NX+1yNaXXpInARkcyrvcyi6gWhdQPPWHgMbnGcnQG1uxfyQkibOG68GRPukMOGO2RJMNBlEsPsWx\n",
       "zdFdTVoh1/2s76AAAARRQZ5BeIK/AAEUkWGR7P/9XOueABOx3O9T6AOrdduQcr8RXeqh5aB8pgsa\n",
       "EhT8XnT4AH2za+3p7Dp5ePKHezgAd8dqdgbsJ5unz1Pv4xaDfY9OQSiNM4i/GwZzhZ5tLjCY0Wc4\n",
       "xAAbiNut27y+GhVwycMXXApgCxzLGol4ib1SENsxB1Y8LRw4+IN5wdwSiC5xHJSm54AV1l9FSo7T\n",
       "u/ir06jXMVV5FC9CTUQMBmqkF3B1DITG+8PbGR0JCaWV1bY5MMA3pdgHXRLqeQOZHoP8buAZBfnN\n",
       "+CNSXqiK3sRk4OZv0q2I114Vf5fMTHSsBqAWePGs8ZQpfjP+fAtjATjmkOWqrxf226l1EqAPxnDi\n",
       "aEfa/Kp2Rs/HFaByNNVQv1U3eBlEuyx8qKwKZASDpBYQqHYrFMG/FsBSfGOi8cJe3zypHNkZk1pi\n",
       "Tt7ncXogZd1ieoN8z4oy4o6lfs2Erem67d9iaCK06ld6vs8ErlDuVg6Tnfsl9IEhFEqRsd1okSIo\n",
       "cv+yLoVyCVm0SvItruDQwfSQnHOLBkzJkQj4zW3LM7ZTNvD6l6niDz1JQbPl4x/UTFkZoIcZvtx6\n",
       "z+jrWZSm/+D7Zzj/D5GytuqFMQKxjTkk2sqThpiaqHEyWcFDvobE+Z2GNK/VSeddY/23Yz7OmLKg\n",
       "bI5c55oJwgf/sgVEHu6nP44m8A+tOGubqNbbqDjyEdrswRu4S7DVBoYfwu2bBfWvt2qW+fWxvRGa\n",
       "RSsXly20vHvGulV1U6NuYhdfOwK04Qm1ZPN3PygYiBUbqAFznBHcTQxHKgTU3ihkdcjEPg9VpPF8\n",
       "r+8nWrPAQcbnoFDzQv4W+5XTYErukYNklzoIK82OhWb1Wsu6PuUOPEcpyaioyc6VYHiUCvqUpOsb\n",
       "mJDEAVqpbVd8zscM0nozHrkpSweS84gu9xlhk9/ZndMxY8/X9YsqwEqE3thUOdzN1VtjUWQaSkU0\n",
       "mBuGAQmsCfbhZjGvCFBlzMmuBtEu+YQt68Z99cOZjU+uJdK5QvckGbUUxbeeGYNURvfWKcIhBzae\n",
       "CCkDqpHx9OXhYpCX596DzWgJVN8eg8bPmDQBhIxhcGAfsfNi+vyNi025yQssu9zdujZHhR5h+UDc\n",
       "4sli+dtfIuaRHI20tcQKKehtJqvqCqtFaoaonTdhs0c69RYMeN7QFXOM6HnBmNNFh73FoEDKuZhQ\n",
       "6DFvfcdYxEnmkCVbMmYg84PCU2gsBKxL3w1Si9OpFqRA2A6S4IBSGXOmXJ7wM9cOaAQgFHttrsCB\n",
       "PiQEfYQ88T+uaNsJWMPaLdHp6jf88yy5Px9bLf5xIVdECpQOAd+hBDn/DyH/+SE4P+D4ABvVfLEW\n",
       "GBz09HCN3ZmpOhJnIYVL6LD25VrfKuxhuLdJZTGnzRKE8JJpSnIAEXIDtuf9RGFw7sybi8oF9LzB\n",
       "9V0XSv9+bCFk1+WyW/Dye+zwPiXrzTPN/3badaWCIfazcpDbMQAAA+ABnmJqQV8AANxTi+HH/8Pi\n",
       "DgAF0ug765JMvE3fChQrnFLAJzIBM+XQcBlIe1Y2rKDjQpKVKfJbYDMWtp1yctcwjNhxotjZeR7d\n",
       "4voFVQwLE+0uciAgR4vW47gNDCg13LSfHJhW1Gi5Sx+0F28aRBIOSmvCME9dG/x7Suhx63gna6f9\n",
       "P1keAHuOLXea3VW7ruAKLyv95EO0Dpdb1UYgmj4EseXIkvx7ZIvB/ojCbbC3G8zae6cAPnTOKn0V\n",
       "TTvSFnbG2DsTcX//Bq2CuUQpcWLIfGmk0JzJIL92F8XRnZrnY+XPfe1YJh3nJChh9UxuTAqtQn8t\n",
       "MP8AHHNRX8sQpOD+wj00GXn3WHDu34jTvzOmPmDcFs2RwkccX6e1oENN0m6BSQ90LMir9Urc7Z8L\n",
       "ocPJyXFk6DLGwEk98QaX94Z+HhA//PvIlPYx0Uy8rDtdqu/6Pk/Jsoe9w1GuyNwbeSDqezIxqMFz\n",
       "Q4QDPPVcGi4/KWe4uZLAIZKvwzfszC4FyM1WUk9yPUJqPwo0SF0k3b5wbQpn6C7f8l+Z+mtekVU+\n",
       "K2Y9/Wt+wq+REK/ryxxFdlkMdxUyq8oOQD5y2MR7Xmqrsz1jIWTFovCEpbcfWS6eVjFAG/W4Fgva\n",
       "H1UudslwKZjG3U0li9hoCDHTqQPOtf3pJeRoUSE8Uqd1zX0RWar//40+mPMwsgcL5uOMhTMWUiEd\n",
       "ZpxViFKyn5HsaxKmDVQ+snu3K4DBn5q3R5q3W7bUcncFqxXi1QMY6+bXWWsaOJOigcromUW1PYu8\n",
       "YyK+/KUB1PW2SSmheYocS3e/cFXIpO+Jq3cyZUdoFAz0lSaTbDrYtS/RlYG6Q/H34sKCH4IdyrTq\n",
       "JKOrGz2bV/bsQfg52Uj8Nu4668DacbAKyT1iHznJq0uHqqSYRT3xiLrVGwOXVTo71rlrSh/vQvyt\n",
       "DEx2xvHClCRusqWs5IcdaJnMhBuxb2wlmYSzx6JuHosP6kGUlaucGlUBEYvQGCTcC72kfVhi4GSx\n",
       "PJWxU1j0G5QhjUsqsc/H4OCFSFRxfjUjNeXWnqHCAfXstXzLxqks3l+snUxeArM0pqJCaPsIXuvu\n",
       "PZ7+WKyX3H1nnXtS2hFFsVs95ECtRgVRPpCEqPG1HkkoOdONzMksk7OqrrhCxYuR/gOeBymCuB7b\n",
       "FkcVOaC0royMpNU9+2muUexiVwgDa0v1nFnFMcI0klFtzB4+AM1+q86+Y0r6dVHjz95/5W1xknXb\n",
       "3VErBv8umSvE0bc5ktJbmkBaCQ7rNGHAuS8hvEd14WuqEnVC3JUQMT5znJLE9Yu38l+/FRDcz4RX\n",
       "bYJgo6WJgAAAA1htb292AAAAbG12aGQAAAAAAAAAAAAAAAAAAAPoAAAfQAABAAABAAAAAAAAAAAA\n",
       "AAAAAQAAAAAAAAAAAAAAAAAAAAEAAAAAAAAAAAAAAAAAAEAAAAAAAAAAAAAAAAAAAAAAAAAAAAAA\n",
       "AAAAAAAAAAACAAACgnRyYWsAAABcdGtoZAAAAAMAAAAAAAAAAAAAAAEAAAAAAAAfQAAAAAAAAAAA\n",
       "AAAAAAAAAAAAAQAAAAAAAAAAAAAAAAAAAAEAAAAAAAAAAAAAAAAAAEAAAAACgAAAARIAAAAAACRl\n",
       "ZHRzAAAAHGVsc3QAAAAAAAAAAQAAH0AAAQAAAAEAAAAAAfptZGlhAAAAIG1kaGQAAAAAAAAAAAAA\n",
       "AAAAAEAAAAIAAFXEAAAAAAAtaGRscgAAAAAAAAAAdmlkZQAAAAAAAAAAAAAAAFZpZGVvSGFuZGxl\n",
       "cgAAAAGlbWluZgAAABR2bWhkAAAAAQAAAAAAAAAAAAAAJGRpbmYAAAAcZHJlZgAAAAAAAAABAAAA\n",
       "DHVybCAAAAABAAABZXN0YmwAAAC1c3RzZAAAAAAAAAABAAAApWF2YzEAAAAAAAAAAQAAAAAAAAAA\n",
       "AAAAAAAAAAACgAESAEgAAABIAAAAAAAAAAEAAAAAAAAAAAAAAAAAAAAAAAAAAAAAAAAAAAAAAAAA\n",
       "AAAY//8AAAAzYXZjQwFkABX/4QAaZ2QAFazZQKAl+IhAAAADAIAAAAMAg8WLZYABAAZo6+PLIsAA\n",
       "AAAcdXVpZGtoQPJfJE/FujmlG88DI/MAAAAAAAAAGHN0dHMAAAAAAAAAAQAAAAQAAIAAAAAAFHN0\n",
       "c3MAAAAAAAAAAQAAAAEAAAAoY3R0cwAAAAAAAAADAAAAAQABAAAAAAABAAIAAAAAAAIAAIAAAAAA\n",
       "HHN0c2MAAAAAAAAAAQAAAAEAAAAEAAAAAQAAACRzdHN6AAAAAAAAAAAAAAAEAAAdqQAAA5wAAARV\n",
       "AAAD5AAAABRzdGNvAAAAAAAAAAEAAAAsAAAAYnVkdGEAAABabWV0YQAAAAAAAAAhaGRscgAAAAAA\n",
       "AAAAbWRpcmFwcGwAAAAAAAAAAAAAAAAtaWxzdAAAACWpdG9vAAAAHWRhdGEAAAABAAAAAExhdmY1\n",
       "OC4yOS4xMDA=\n",
       "\">\n",
       "  Your browser does not support the video tag.\n",
       "</video>"
      ],
      "text/plain": [
       "<plotnine.animation.PlotnineAnimation at 0x7f60ee2988e0>"
      ]
     },
     "execution_count": 12,
     "metadata": {},
     "output_type": "execute_result"
    }
   ],
   "source": [
    "from cox.plots import animate_subject_event_times_and_mark_at_risk\n",
    "animate_subject_event_times_and_mark_at_risk(sample_df)"
   ]
  },
  {
   "attachments": {},
   "cell_type": "markdown",
   "metadata": {},
   "source": [
    "#### 3. Find $\\beta$ for which sum of log-likelihoods is maximal"
   ]
  },
  {
   "attachments": {},
   "cell_type": "markdown",
   "metadata": {},
   "source": [
    "If each event occurs independently of each other, then the joint probability (likelihood) of observing all events given some parameters $\\beta$, is the product of individual likelihoods $L = L_A L_B L_C L_D L_E$. However, products of many expressions that contain exponential functions can produce very large numbers and can lead to large numerical errors. Therefore, this likelihood is log-transformed, because logarithm turns a product of likelihoods into sum of log-likelihoods:"
   ]
  },
  {
   "attachments": {},
   "cell_type": "markdown",
   "id": "eq_sum_likelihoods_def",
   "metadata": {},
   "source": [
    "$$\n",
    "\\log L = \\log L_A + \\log L_B + \\log L_C + \\log L_D + \\log L_E\n",
    "$$"
   ]
  },
  {
   "attachments": {},
   "cell_type": "markdown",
   "metadata": {},
   "source": [
    "$$\n",
    "\\log L_A = \\beta x_A - \\log \\left(e^{\\beta x_A} + e^{\\beta x_B} + e^{\\beta x_C} + e^{\\beta x_D} + e^{\\beta x_E}\\right)\n",
    "$$"
   ]
  },
  {
   "attachments": {},
   "cell_type": "markdown",
   "metadata": {},
   "source": [
    "The fitting process then tries to find $\\beta$ s that maximize this sum of log-likelihoods. Alternatively, to make this comparable to cost functions we are familiar with from linear and logistic regressions, we could define cost as negative log-likelihood and then minimize the cost.\n",
    "\n",
    "### Fitting implementation\n",
    "\n",
    "We can implement this algorithm in Python as follows. Since we are iterating per each subject, we first need to find event time and a predictor $x$ of each subject - this is done using `event_time_and_x_from_subject()`. Next, using the event time of that subject, we subset our data frame to find rows for each subject that is _still at risk_ - this is done using `subjects_at_risk_data()`. Finally, the log-likelihood of that subject is calculated using `log_likelihood` based on the last equation:"
   ]
  },
  {
   "cell_type": "code",
   "execution_count": 13,
   "metadata": {},
   "outputs": [],
   "source": [
    "def event_time_and_x_from_subject(df, subject):\n",
    "    subject_with_event_df = df.query(f\"subject == '{subject}' & event == 1\")\n",
    "    if subject_with_event_df.empty: # For censored subjects return infinite time\n",
    "        return (np.inf, 0)\n",
    "    return subject_with_event_df.iloc[0][['time', 'x']]\n",
    "\n",
    "def subjects_at_risk_data(df, subject):\n",
    "    time = event_time_and_x_from_subject(df, subject)[0]\n",
    "    return df.query(f'time >= {time}')\n",
    "\n",
    "def log_likelihood(df, subject, beta):\n",
    "    x_subjects_at_risk = subjects_at_risk_data(df, subject)['x']\n",
    "    x_subject = event_time_and_x_from_subject(df, subject)[1]\n",
    "    at_risk_hazards = np.exp(beta * x_subjects_at_risk)\n",
    "    return beta * x_subject - np.log(np.sum(at_risk_hazards))"
   ]
  },
  {
   "attachments": {},
   "cell_type": "markdown",
   "metadata": {},
   "source": [
    "For visualization purposes we will be plotting the \"cost\" or negative log-likelihoods, so we need to calculate those for each subject for specific value of $\\beta$:\n"
   ]
  },
  {
   "cell_type": "code",
   "execution_count": 14,
   "metadata": {},
   "outputs": [],
   "source": [
    "def neg_log_likelihood_for_all_subjects(df, beta):\n",
    "    subjects = df.query(\"event == 1\")['subject'].tolist()\n",
    "    neg_log_likelihoods = [-log_likelihood(df, subject, beta) for subject in subjects]\n",
    "    return pd.DataFrame({\n",
    "        'subject': subjects,\n",
    "        'neg_log_likelihood': neg_log_likelihoods\n",
    "    })"
   ]
  },
  {
   "attachments": {},
   "cell_type": "markdown",
   "metadata": {},
   "source": [
    "In order to find the minimum of this cost, as a function of $\\beta$ we need to sweep a range of $\\beta$ s. Finally, instead of aggregating this data frame by summing log-likelihoods (grouped by subject), we will leave them as they are, but plot them as stacked bar charts. Then the total height of each bar represents the sum of negative log-likelihoods:"
   ]
  },
  {
   "cell_type": "code",
   "execution_count": 19,
   "metadata": {},
   "outputs": [
    {
     "data": {
      "text/html": [
       "<div>\n",
       "<style scoped>\n",
       "    .dataframe tbody tr th:only-of-type {\n",
       "        vertical-align: middle;\n",
       "    }\n",
       "\n",
       "    .dataframe tbody tr th {\n",
       "        vertical-align: top;\n",
       "    }\n",
       "\n",
       "    .dataframe thead th {\n",
       "        text-align: right;\n",
       "    }\n",
       "</style>\n",
       "<table border=\"1\" class=\"dataframe\">\n",
       "  <thead>\n",
       "    <tr style=\"text-align: right;\">\n",
       "      <th></th>\n",
       "      <th>beta</th>\n",
       "      <th>subject</th>\n",
       "      <th>neg_log_likelihood</th>\n",
       "    </tr>\n",
       "  </thead>\n",
       "  <tbody>\n",
       "    <tr>\n",
       "      <th>0</th>\n",
       "      <td>-5.0</td>\n",
       "      <td>A</td>\n",
       "      <td>1.103094</td>\n",
       "    </tr>\n",
       "    <tr>\n",
       "      <th>1</th>\n",
       "      <td>-5.0</td>\n",
       "      <td>B</td>\n",
       "      <td>0.699863</td>\n",
       "    </tr>\n",
       "    <tr>\n",
       "      <th>2</th>\n",
       "      <td>-5.0</td>\n",
       "      <td>C</td>\n",
       "      <td>0.006715</td>\n",
       "    </tr>\n",
       "    <tr>\n",
       "      <th>3</th>\n",
       "      <td>-5.0</td>\n",
       "      <td>D</td>\n",
       "      <td>5.013386</td>\n",
       "    </tr>\n",
       "    <tr>\n",
       "      <th>0</th>\n",
       "      <td>-4.9</td>\n",
       "      <td>A</td>\n",
       "      <td>1.103564</td>\n",
       "    </tr>\n",
       "    <tr>\n",
       "      <th>...</th>\n",
       "      <td>...</td>\n",
       "      <td>...</td>\n",
       "      <td>...</td>\n",
       "    </tr>\n",
       "    <tr>\n",
       "      <th>3</th>\n",
       "      <td>5.3</td>\n",
       "      <td>D</td>\n",
       "      <td>0.695640</td>\n",
       "    </tr>\n",
       "    <tr>\n",
       "      <th>0</th>\n",
       "      <td>5.4</td>\n",
       "      <td>A</td>\n",
       "      <td>6.099899</td>\n",
       "    </tr>\n",
       "    <tr>\n",
       "      <th>1</th>\n",
       "      <td>5.4</td>\n",
       "      <td>B</td>\n",
       "      <td>6.097654</td>\n",
       "    </tr>\n",
       "    <tr>\n",
       "      <th>2</th>\n",
       "      <td>5.4</td>\n",
       "      <td>C</td>\n",
       "      <td>5.404506</td>\n",
       "    </tr>\n",
       "    <tr>\n",
       "      <th>3</th>\n",
       "      <td>5.4</td>\n",
       "      <td>D</td>\n",
       "      <td>0.695403</td>\n",
       "    </tr>\n",
       "  </tbody>\n",
       "</table>\n",
       "<p>420 rows × 3 columns</p>\n",
       "</div>"
      ],
      "text/plain": [
       "    beta subject  neg_log_likelihood\n",
       "0   -5.0       A            1.103094\n",
       "1   -5.0       B            0.699863\n",
       "2   -5.0       C            0.006715\n",
       "3   -5.0       D            5.013386\n",
       "0   -4.9       A            1.103564\n",
       "..   ...     ...                 ...\n",
       "3    5.3       D            0.695640\n",
       "0    5.4       A            6.099899\n",
       "1    5.4       B            6.097654\n",
       "2    5.4       C            5.404506\n",
       "3    5.4       D            0.695403\n",
       "\n",
       "[420 rows x 3 columns]"
      ]
     },
     "execution_count": 19,
     "metadata": {},
     "output_type": "execute_result"
    }
   ],
   "source": [
    "def neg_log_likelihood_all_subjects_sweep_betas(df, betas=np.arange(-5, 5, 0.5)):\n",
    "    loglikelihoods_per_beta = []\n",
    "    for beta in betas:\n",
    "        beta_df = neg_log_likelihood_for_all_subjects(df, beta)\n",
    "        beta_df.insert(0, 'beta', beta)\n",
    "        loglikelihoods_per_beta.append(beta_df)\n",
    "    return pd.concat(loglikelihoods_per_beta)\n",
    "\n",
    "beta_step = 0.1\n",
    "negloglik_sweep_betas_df = neg_log_likelihood_all_subjects_sweep_betas(\n",
    "    sample_df,\n",
    "    betas=np.arange(-5, 5.5, beta_step)\n",
    ")\n",
    "negloglik_sweep_betas_df"
   ]
  },
  {
   "cell_type": "code",
   "execution_count": 20,
   "metadata": {},
   "outputs": [
    {
     "data": {
      "image/png": "[encoded data removed]",
      "text/plain": [
       "<Figure size 640x480 with 1 Axes>"
      ]
     },
     "metadata": {},
     "output_type": "display_data"
    },
    {
     "data": {
      "text/plain": [
       "<ggplot: (8753463886343)>"
      ]
     },
     "execution_count": 20,
     "metadata": {},
     "output_type": "execute_result"
    }
   ],
   "source": [
    "from cox.plots import plot_cost_vs_beta\n",
    "plot_cost_vs_beta(negloglik_sweep_betas_df, width=beta_step)"
   ]
  },
  {
   "attachments": {},
   "cell_type": "markdown",
   "metadata": {},
   "source": [
    "Large bars = small likelihoods\n",
    "\n",
    "If $\\beta$ is negative, then the hazards of subjects with x = 1 (A, B, C) get suppressed"
   ]
  },
  {
   "cell_type": "code",
   "execution_count": null,
   "metadata": {},
   "outputs": [],
   "source": [
    "def total_log_likelihood(df, beta):\n",
    "    subjects = df['subject'].unique()\n",
    "    sum_log_likelihood = 0\n",
    "    for subject in subjects:\n",
    "        sum_log_likelihood += log_likelihood(df, subject, beta)\n",
    "    return(sum_log_likelihood)"
   ]
  },
  {
   "cell_type": "code",
   "execution_count": null,
   "metadata": {},
   "outputs": [],
   "source": [
    "def total_loglik_vs_beta(df, betas=np.arange(-5, 5, 0.1)):\n",
    "    total_log_likelihoods = [total_log_likelihood(df, beta) for beta in betas]\n",
    "    return(\n",
    "        pd.DataFrame({\n",
    "            'beta': betas,\n",
    "            'total_log_lik': total_log_likelihoods\n",
    "        })\n",
    "    )"
   ]
  },
  {
   "cell_type": "code",
   "execution_count": null,
   "metadata": {},
   "outputs": [
    {
     "data": {
      "text/html": [
       "<div>\n",
       "<style scoped>\n",
       "    .dataframe tbody tr th:only-of-type {\n",
       "        vertical-align: middle;\n",
       "    }\n",
       "\n",
       "    .dataframe tbody tr th {\n",
       "        vertical-align: top;\n",
       "    }\n",
       "\n",
       "    .dataframe thead th {\n",
       "        text-align: right;\n",
       "    }\n",
       "</style>\n",
       "<table border=\"1\" class=\"dataframe\">\n",
       "  <tbody>\n",
       "    <tr>\n",
       "      <th>model</th>\n",
       "      <td>lifelines.CoxPHFitter</td>\n",
       "    </tr>\n",
       "    <tr>\n",
       "      <th>duration col</th>\n",
       "      <td>'time'</td>\n",
       "    </tr>\n",
       "    <tr>\n",
       "      <th>event col</th>\n",
       "      <td>'event'</td>\n",
       "    </tr>\n",
       "    <tr>\n",
       "      <th>baseline estimation</th>\n",
       "      <td>breslow</td>\n",
       "    </tr>\n",
       "    <tr>\n",
       "      <th>number of observations</th>\n",
       "      <td>5</td>\n",
       "    </tr>\n",
       "    <tr>\n",
       "      <th>number of events observed</th>\n",
       "      <td>4</td>\n",
       "    </tr>\n",
       "    <tr>\n",
       "      <th>partial log-likelihood</th>\n",
       "      <td>-4.17</td>\n",
       "    </tr>\n",
       "    <tr>\n",
       "      <th>time fit was run</th>\n",
       "      <td>2023-06-03 16:08:08 UTC</td>\n",
       "    </tr>\n",
       "  </tbody>\n",
       "</table>\n",
       "</div><table border=\"1\" class=\"dataframe\">\n",
       "  <thead>\n",
       "    <tr style=\"text-align: right;\">\n",
       "      <th style=\"min-width: 12px;\"></th>\n",
       "      <th style=\"min-width: 12px;\">coef</th>\n",
       "      <th style=\"min-width: 12px;\">exp(coef)</th>\n",
       "      <th style=\"min-width: 12px;\">se(coef)</th>\n",
       "      <th style=\"min-width: 12px;\">coef lower 95%</th>\n",
       "      <th style=\"min-width: 12px;\">coef upper 95%</th>\n",
       "      <th style=\"min-width: 12px;\">exp(coef) lower 95%</th>\n",
       "      <th style=\"min-width: 12px;\">exp(coef) upper 95%</th>\n",
       "      <th style=\"min-width: 12px;\">cmp to</th>\n",
       "      <th style=\"min-width: 12px;\">z</th>\n",
       "      <th style=\"min-width: 12px;\">p</th>\n",
       "      <th style=\"min-width: 12px;\">-log2(p)</th>\n",
       "    </tr>\n",
       "  </thead>\n",
       "  <tbody>\n",
       "    <tr>\n",
       "      <th>x</th>\n",
       "      <td>-1.21</td>\n",
       "      <td>0.30</td>\n",
       "      <td>1.17</td>\n",
       "      <td>-3.51</td>\n",
       "      <td>1.09</td>\n",
       "      <td>0.03</td>\n",
       "      <td>2.98</td>\n",
       "      <td>0.00</td>\n",
       "      <td>-1.03</td>\n",
       "      <td>0.30</td>\n",
       "      <td>1.72</td>\n",
       "    </tr>\n",
       "  </tbody>\n",
       "</table><br><div>\n",
       "<style scoped>\n",
       "    .dataframe tbody tr th:only-of-type {\n",
       "        vertical-align: middle;\n",
       "    }\n",
       "\n",
       "    .dataframe tbody tr th {\n",
       "        vertical-align: top;\n",
       "    }\n",
       "\n",
       "    .dataframe thead th {\n",
       "        text-align: right;\n",
       "    }\n",
       "</style>\n",
       "<table border=\"1\" class=\"dataframe\">\n",
       "  <tbody>\n",
       "    <tr>\n",
       "      <th>Concordance</th>\n",
       "      <td>0.70</td>\n",
       "    </tr>\n",
       "    <tr>\n",
       "      <th>Partial AIC</th>\n",
       "      <td>10.35</td>\n",
       "    </tr>\n",
       "    <tr>\n",
       "      <th>log-likelihood ratio test</th>\n",
       "      <td>1.23 on 1 df</td>\n",
       "    </tr>\n",
       "    <tr>\n",
       "      <th>-log2(p) of ll-ratio test</th>\n",
       "      <td>1.90</td>\n",
       "    </tr>\n",
       "  </tbody>\n",
       "</table>\n",
       "</div>"
      ],
      "text/latex": [
       "\\begin{tabular}{lrrrrrrrrrrr}\n",
       " & coef & exp(coef) & se(coef) & coef lower 95% & coef upper 95% & exp(coef) lower 95% & exp(coef) upper 95% & cmp to & z & p & -log2(p) \\\\\n",
       "covariate &  &  &  &  &  &  &  &  &  &  &  \\\\\n",
       "x & -1.21 & 0.30 & 1.17 & -3.51 & 1.09 & 0.03 & 2.98 & 0.00 & -1.03 & 0.30 & 1.72 \\\\\n",
       "\\end{tabular}\n"
      ],
      "text/plain": [
       "<lifelines.CoxPHFitter: fitted with 5 total observations, 1 right-censored observations>\n",
       "             duration col = 'time'\n",
       "                event col = 'event'\n",
       "      baseline estimation = breslow\n",
       "   number of observations = 5\n",
       "number of events observed = 4\n",
       "   partial log-likelihood = -4.17\n",
       "         time fit was run = 2023-06-03 16:08:08 UTC\n",
       "\n",
       "---\n",
       "            coef  exp(coef)   se(coef)   coef lower 95%   coef upper 95%  exp(coef) lower 95%  exp(coef) upper 95%\n",
       "covariate                                                                                                         \n",
       "x          -1.21       0.30       1.17            -3.51             1.09                 0.03                 2.98\n",
       "\n",
       "            cmp to     z    p   -log2(p)\n",
       "covariate                               \n",
       "x             0.00 -1.03 0.30       1.72\n",
       "---\n",
       "Concordance = 0.70\n",
       "Partial AIC = 10.35\n",
       "log-likelihood ratio test = 1.23 on 1 df\n",
       "-log2(p) of ll-ratio test = 1.90"
      ]
     },
     "metadata": {},
     "output_type": "display_data"
    }
   ],
   "source": [
    "cph = CoxPHFitter()\n",
    "cph.fit(sample_df, duration_col='time', event_col='event', formula='x')\n",
    "cph.print_summary()"
   ]
  },
  {
   "attachments": {},
   "cell_type": "markdown",
   "metadata": {},
   "source": [
    "## Perfectly separated data"
   ]
  },
  {
   "cell_type": "code",
   "execution_count": null,
   "metadata": {},
   "outputs": [
    {
     "data": {
      "text/html": [
       "<div>\n",
       "<style scoped>\n",
       "    .dataframe tbody tr th:only-of-type {\n",
       "        vertical-align: middle;\n",
       "    }\n",
       "\n",
       "    .dataframe tbody tr th {\n",
       "        vertical-align: top;\n",
       "    }\n",
       "\n",
       "    .dataframe thead th {\n",
       "        text-align: right;\n",
       "    }\n",
       "</style>\n",
       "<table border=\"1\" class=\"dataframe\">\n",
       "  <thead>\n",
       "    <tr style=\"text-align: right;\">\n",
       "      <th></th>\n",
       "      <th>subject</th>\n",
       "      <th>time</th>\n",
       "      <th>event</th>\n",
       "      <th>x</th>\n",
       "    </tr>\n",
       "  </thead>\n",
       "  <tbody>\n",
       "    <tr>\n",
       "      <th>0</th>\n",
       "      <td>A</td>\n",
       "      <td>1</td>\n",
       "      <td>1</td>\n",
       "      <td>0.1</td>\n",
       "    </tr>\n",
       "    <tr>\n",
       "      <th>1</th>\n",
       "      <td>B</td>\n",
       "      <td>3</td>\n",
       "      <td>1</td>\n",
       "      <td>0.2</td>\n",
       "    </tr>\n",
       "    <tr>\n",
       "      <th>2</th>\n",
       "      <td>C</td>\n",
       "      <td>4</td>\n",
       "      <td>1</td>\n",
       "      <td>0.3</td>\n",
       "    </tr>\n",
       "    <tr>\n",
       "      <th>3</th>\n",
       "      <td>D</td>\n",
       "      <td>5</td>\n",
       "      <td>1</td>\n",
       "      <td>0.9</td>\n",
       "    </tr>\n",
       "    <tr>\n",
       "      <th>4</th>\n",
       "      <td>E</td>\n",
       "      <td>6</td>\n",
       "      <td>0</td>\n",
       "      <td>1.2</td>\n",
       "    </tr>\n",
       "  </tbody>\n",
       "</table>\n",
       "</div>"
      ],
      "text/plain": [
       "  subject  time  event    x\n",
       "0       A     1      1  0.1\n",
       "1       B     3      1  0.2\n",
       "2       C     4      1  0.3\n",
       "3       D     5      1  0.9\n",
       "4       E     6      0  1.2"
      ]
     },
     "execution_count": 22,
     "metadata": {},
     "output_type": "execute_result"
    }
   ],
   "source": [
    "sample_cont_df = pd.DataFrame({\n",
    "    'subject': ['A', 'B', 'C', 'D', 'E'],\n",
    "    'time': [1, 3, 4, 5, 6],\n",
    "    'event': [1, 1, 1, 1, 0],\n",
    "    'x': [0.1, 0.2, 0.3, 0.9, 1.2],\n",
    "})\n",
    "\n",
    "sample_cont_df"
   ]
  },
  {
   "cell_type": "code",
   "execution_count": null,
   "metadata": {},
   "outputs": [
    {
     "data": {
      "image/png": "[encoded data removed]",
      "text/plain": [
       "<Figure size 640x480 with 1 Axes>"
      ]
     },
     "metadata": {},
     "output_type": "display_data"
    },
    {
     "data": {
      "text/plain": [
       "<ggplot: (8772782576547)>"
      ]
     },
     "execution_count": 23,
     "metadata": {},
     "output_type": "execute_result"
    }
   ],
   "source": [
    "plot_cost_vs_beta(sample_cont_df, betas=np.arange(-20, 7, 0.1))"
   ]
  },
  {
   "cell_type": "code",
   "execution_count": null,
   "metadata": {},
   "outputs": [
    {
     "ename": "KeyError",
     "evalue": "None",
     "output_type": "error",
     "traceback": [
      "\u001b[0;31m---------------------------------------------------------------------------\u001b[0m",
      "\u001b[0;31mKeyError\u001b[0m                                  Traceback (most recent call last)",
      "Cell \u001b[0;32mIn[24], line 2\u001b[0m\n\u001b[1;32m      1\u001b[0m sample_cont_cox \u001b[39m=\u001b[39m CoxPHFitter()\n\u001b[0;32m----> 2\u001b[0m sample_cont_cox\u001b[39m.\u001b[39;49mfit(sample_cont_df, )\n",
      "File \u001b[0;32m~/.cache/pypoetry/virtualenvs/blog--v8k-B20-py3.8/lib/python3.8/site-packages/lifelines/utils/__init__.py:56\u001b[0m, in \u001b[0;36mCensoringType.right_censoring.<locals>.f\u001b[0;34m(model, *args, **kwargs)\u001b[0m\n\u001b[1;32m     53\u001b[0m \u001b[39m@wraps\u001b[39m(function)\n\u001b[1;32m     54\u001b[0m \u001b[39mdef\u001b[39;00m \u001b[39mf\u001b[39m(model, \u001b[39m*\u001b[39margs, \u001b[39m*\u001b[39m\u001b[39m*\u001b[39mkwargs):\n\u001b[1;32m     55\u001b[0m     \u001b[39mcls\u001b[39m\u001b[39m.\u001b[39mset_censoring_type(model, \u001b[39mcls\u001b[39m\u001b[39m.\u001b[39mRIGHT)\n\u001b[0;32m---> 56\u001b[0m     \u001b[39mreturn\u001b[39;00m function(model, \u001b[39m*\u001b[39;49margs, \u001b[39m*\u001b[39;49m\u001b[39m*\u001b[39;49mkwargs)\n",
      "File \u001b[0;32m~/.cache/pypoetry/virtualenvs/blog--v8k-B20-py3.8/lib/python3.8/site-packages/lifelines/fitters/coxph_fitter.py:290\u001b[0m, in \u001b[0;36mCoxPHFitter.fit\u001b[0;34m(self, df, duration_col, event_col, show_progress, initial_point, strata, weights_col, cluster_col, robust, batch_mode, timeline, formula, entry_col, fit_options)\u001b[0m\n\u001b[1;32m    184\u001b[0m \u001b[39m\u001b[39m\u001b[39m\"\"\"\u001b[39;00m\n\u001b[1;32m    185\u001b[0m \u001b[39mFit the Cox proportional hazard model to a right-censored dataset. Alias of `fit_right_censoring`.\u001b[39;00m\n\u001b[1;32m    186\u001b[0m \n\u001b[0;32m   (...)\u001b[0m\n\u001b[1;32m    287\u001b[0m \n\u001b[1;32m    288\u001b[0m \u001b[39m\"\"\"\u001b[39;00m\n\u001b[1;32m    289\u001b[0m \u001b[39mself\u001b[39m\u001b[39m.\u001b[39mstrata \u001b[39m=\u001b[39m utils\u001b[39m.\u001b[39m_to_list_or_singleton(utils\u001b[39m.\u001b[39mcoalesce(strata, \u001b[39mself\u001b[39m\u001b[39m.\u001b[39mstrata))\n\u001b[0;32m--> 290\u001b[0m \u001b[39mself\u001b[39m\u001b[39m.\u001b[39m_model \u001b[39m=\u001b[39m \u001b[39mself\u001b[39;49m\u001b[39m.\u001b[39;49m_fit_model(\n\u001b[1;32m    291\u001b[0m     df,\n\u001b[1;32m    292\u001b[0m     duration_col,\n\u001b[1;32m    293\u001b[0m     event_col\u001b[39m=\u001b[39;49mevent_col,\n\u001b[1;32m    294\u001b[0m     show_progress\u001b[39m=\u001b[39;49mshow_progress,\n\u001b[1;32m    295\u001b[0m     initial_point\u001b[39m=\u001b[39;49minitial_point,\n\u001b[1;32m    296\u001b[0m     strata\u001b[39m=\u001b[39;49m\u001b[39mself\u001b[39;49m\u001b[39m.\u001b[39;49mstrata,\n\u001b[1;32m    297\u001b[0m     weights_col\u001b[39m=\u001b[39;49mweights_col,\n\u001b[1;32m    298\u001b[0m     cluster_col\u001b[39m=\u001b[39;49mcluster_col,\n\u001b[1;32m    299\u001b[0m     robust\u001b[39m=\u001b[39;49mrobust,\n\u001b[1;32m    300\u001b[0m     batch_mode\u001b[39m=\u001b[39;49mbatch_mode,\n\u001b[1;32m    301\u001b[0m     timeline\u001b[39m=\u001b[39;49mtimeline,\n\u001b[1;32m    302\u001b[0m     formula\u001b[39m=\u001b[39;49mformula,\n\u001b[1;32m    303\u001b[0m     entry_col\u001b[39m=\u001b[39;49mentry_col,\n\u001b[1;32m    304\u001b[0m     fit_options\u001b[39m=\u001b[39;49mfit_options,\n\u001b[1;32m    305\u001b[0m )\n\u001b[1;32m    306\u001b[0m \u001b[39mreturn\u001b[39;00m \u001b[39mself\u001b[39m\n",
      "File \u001b[0;32m~/.cache/pypoetry/virtualenvs/blog--v8k-B20-py3.8/lib/python3.8/site-packages/lifelines/fitters/coxph_fitter.py:610\u001b[0m, in \u001b[0;36mCoxPHFitter._fit_model\u001b[0;34m(self, *args, **kwargs)\u001b[0m\n\u001b[1;32m    608\u001b[0m \u001b[39mdef\u001b[39;00m \u001b[39m_fit_model\u001b[39m(\u001b[39mself\u001b[39m, \u001b[39m*\u001b[39margs, \u001b[39m*\u001b[39m\u001b[39m*\u001b[39mkwargs):\n\u001b[1;32m    609\u001b[0m     \u001b[39mif\u001b[39;00m \u001b[39mself\u001b[39m\u001b[39m.\u001b[39mbaseline_estimation_method \u001b[39m==\u001b[39m \u001b[39m\"\u001b[39m\u001b[39mbreslow\u001b[39m\u001b[39m\"\u001b[39m:\n\u001b[0;32m--> 610\u001b[0m         \u001b[39mreturn\u001b[39;00m \u001b[39mself\u001b[39;49m\u001b[39m.\u001b[39;49m_fit_model_breslow(\u001b[39m*\u001b[39;49margs, \u001b[39m*\u001b[39;49m\u001b[39m*\u001b[39;49mkwargs)\n\u001b[1;32m    611\u001b[0m     \u001b[39melif\u001b[39;00m \u001b[39mself\u001b[39m\u001b[39m.\u001b[39mbaseline_estimation_method \u001b[39m==\u001b[39m \u001b[39m\"\u001b[39m\u001b[39mspline\u001b[39m\u001b[39m\"\u001b[39m:\n\u001b[1;32m    612\u001b[0m         \u001b[39mreturn\u001b[39;00m \u001b[39mself\u001b[39m\u001b[39m.\u001b[39m_fit_model_spline(\u001b[39m*\u001b[39margs, \u001b[39m*\u001b[39m\u001b[39m*\u001b[39mkwargs)\n",
      "File \u001b[0;32m~/.cache/pypoetry/virtualenvs/blog--v8k-B20-py3.8/lib/python3.8/site-packages/lifelines/fitters/coxph_fitter.py:623\u001b[0m, in \u001b[0;36mCoxPHFitter._fit_model_breslow\u001b[0;34m(self, *args, **kwargs)\u001b[0m\n\u001b[1;32m    619\u001b[0m model \u001b[39m=\u001b[39m SemiParametricPHFitter(\n\u001b[1;32m    620\u001b[0m     penalizer\u001b[39m=\u001b[39m\u001b[39mself\u001b[39m\u001b[39m.\u001b[39mpenalizer, l1_ratio\u001b[39m=\u001b[39m\u001b[39mself\u001b[39m\u001b[39m.\u001b[39ml1_ratio, strata\u001b[39m=\u001b[39m\u001b[39mself\u001b[39m\u001b[39m.\u001b[39mstrata, alpha\u001b[39m=\u001b[39m\u001b[39mself\u001b[39m\u001b[39m.\u001b[39malpha, label\u001b[39m=\u001b[39m\u001b[39mself\u001b[39m\u001b[39m.\u001b[39m_label\n\u001b[1;32m    621\u001b[0m )\n\u001b[1;32m    622\u001b[0m \u001b[39mif\u001b[39;00m utils\u001b[39m.\u001b[39mCensoringType\u001b[39m.\u001b[39mis_right_censoring(\u001b[39mself\u001b[39m):\n\u001b[0;32m--> 623\u001b[0m     model\u001b[39m.\u001b[39;49mfit(\u001b[39m*\u001b[39;49margs, \u001b[39m*\u001b[39;49m\u001b[39m*\u001b[39;49mkwargs)\n\u001b[1;32m    624\u001b[0m     \u001b[39mreturn\u001b[39;00m model\n\u001b[1;32m    625\u001b[0m \u001b[39melse\u001b[39;00m:\n",
      "File \u001b[0;32m~/.cache/pypoetry/virtualenvs/blog--v8k-B20-py3.8/lib/python3.8/site-packages/lifelines/utils/__init__.py:56\u001b[0m, in \u001b[0;36mCensoringType.right_censoring.<locals>.f\u001b[0;34m(model, *args, **kwargs)\u001b[0m\n\u001b[1;32m     53\u001b[0m \u001b[39m@wraps\u001b[39m(function)\n\u001b[1;32m     54\u001b[0m \u001b[39mdef\u001b[39;00m \u001b[39mf\u001b[39m(model, \u001b[39m*\u001b[39margs, \u001b[39m*\u001b[39m\u001b[39m*\u001b[39mkwargs):\n\u001b[1;32m     55\u001b[0m     \u001b[39mcls\u001b[39m\u001b[39m.\u001b[39mset_censoring_type(model, \u001b[39mcls\u001b[39m\u001b[39m.\u001b[39mRIGHT)\n\u001b[0;32m---> 56\u001b[0m     \u001b[39mreturn\u001b[39;00m function(model, \u001b[39m*\u001b[39;49margs, \u001b[39m*\u001b[39;49m\u001b[39m*\u001b[39;49mkwargs)\n",
      "File \u001b[0;32m~/.cache/pypoetry/virtualenvs/blog--v8k-B20-py3.8/lib/python3.8/site-packages/lifelines/fitters/coxph_fitter.py:1229\u001b[0m, in \u001b[0;36mSemiParametricPHFitter.fit\u001b[0;34m(self, df, duration_col, event_col, show_progress, initial_point, strata, weights_col, cluster_col, robust, batch_mode, timeline, formula, entry_col, fit_options)\u001b[0m\n\u001b[1;32m   1226\u001b[0m \u001b[39mself\u001b[39m\u001b[39m.\u001b[39mformula \u001b[39m=\u001b[39m formula\n\u001b[1;32m   1227\u001b[0m \u001b[39mself\u001b[39m\u001b[39m.\u001b[39mentry_col \u001b[39m=\u001b[39m entry_col\n\u001b[0;32m-> 1229\u001b[0m X, T, E, weights, entries, original_index, \u001b[39mself\u001b[39m\u001b[39m.\u001b[39m_clusters \u001b[39m=\u001b[39m \u001b[39mself\u001b[39;49m\u001b[39m.\u001b[39;49m_preprocess_dataframe(df)\n\u001b[1;32m   1231\u001b[0m \u001b[39mself\u001b[39m\u001b[39m.\u001b[39mdurations \u001b[39m=\u001b[39m T\u001b[39m.\u001b[39mcopy()\n\u001b[1;32m   1232\u001b[0m \u001b[39mself\u001b[39m\u001b[39m.\u001b[39mevent_observed \u001b[39m=\u001b[39m E\u001b[39m.\u001b[39mcopy()\n",
      "File \u001b[0;32m~/.cache/pypoetry/virtualenvs/blog--v8k-B20-py3.8/lib/python3.8/site-packages/lifelines/fitters/coxph_fitter.py:1306\u001b[0m, in \u001b[0;36mSemiParametricPHFitter._preprocess_dataframe\u001b[0;34m(self, df)\u001b[0m\n\u001b[1;32m   1304\u001b[0m \u001b[39melse\u001b[39;00m:\n\u001b[1;32m   1305\u001b[0m     sort_by \u001b[39m=\u001b[39m [\u001b[39mself\u001b[39m\u001b[39m.\u001b[39mduration_col, \u001b[39mself\u001b[39m\u001b[39m.\u001b[39mevent_col] \u001b[39mif\u001b[39;00m \u001b[39mself\u001b[39m\u001b[39m.\u001b[39mevent_col \u001b[39melse\u001b[39;00m [\u001b[39mself\u001b[39m\u001b[39m.\u001b[39mduration_col]\n\u001b[0;32m-> 1306\u001b[0m     df \u001b[39m=\u001b[39m df\u001b[39m.\u001b[39;49msort_values(by\u001b[39m=\u001b[39;49msort_by)\n\u001b[1;32m   1307\u001b[0m     original_index \u001b[39m=\u001b[39m df\u001b[39m.\u001b[39mindex\u001b[39m.\u001b[39mcopy()\n\u001b[1;32m   1309\u001b[0m \u001b[39m# Extract time, event and metadata\u001b[39;00m\n",
      "File \u001b[0;32m~/.cache/pypoetry/virtualenvs/blog--v8k-B20-py3.8/lib/python3.8/site-packages/pandas/core/frame.py:6766\u001b[0m, in \u001b[0;36mDataFrame.sort_values\u001b[0;34m(self, by, axis, ascending, inplace, kind, na_position, ignore_index, key)\u001b[0m\n\u001b[1;32m   6762\u001b[0m \u001b[39melif\u001b[39;00m \u001b[39mlen\u001b[39m(by):\n\u001b[1;32m   6763\u001b[0m     \u001b[39m# len(by) == 1\u001b[39;00m\n\u001b[1;32m   6765\u001b[0m     by \u001b[39m=\u001b[39m by[\u001b[39m0\u001b[39m]\n\u001b[0;32m-> 6766\u001b[0m     k \u001b[39m=\u001b[39m \u001b[39mself\u001b[39;49m\u001b[39m.\u001b[39;49m_get_label_or_level_values(by, axis\u001b[39m=\u001b[39;49maxis)\n\u001b[1;32m   6768\u001b[0m     \u001b[39m# need to rewrap column in Series to apply key function\u001b[39;00m\n\u001b[1;32m   6769\u001b[0m     \u001b[39mif\u001b[39;00m key \u001b[39mis\u001b[39;00m \u001b[39mnot\u001b[39;00m \u001b[39mNone\u001b[39;00m:\n\u001b[1;32m   6770\u001b[0m         \u001b[39m# error: Incompatible types in assignment (expression has type\u001b[39;00m\n\u001b[1;32m   6771\u001b[0m         \u001b[39m# \"Series\", variable has type \"ndarray\")\u001b[39;00m\n",
      "File \u001b[0;32m~/.cache/pypoetry/virtualenvs/blog--v8k-B20-py3.8/lib/python3.8/site-packages/pandas/core/generic.py:1778\u001b[0m, in \u001b[0;36mNDFrame._get_label_or_level_values\u001b[0;34m(self, key, axis)\u001b[0m\n\u001b[1;32m   1776\u001b[0m     values \u001b[39m=\u001b[39m \u001b[39mself\u001b[39m\u001b[39m.\u001b[39maxes[axis]\u001b[39m.\u001b[39mget_level_values(key)\u001b[39m.\u001b[39m_values\n\u001b[1;32m   1777\u001b[0m \u001b[39melse\u001b[39;00m:\n\u001b[0;32m-> 1778\u001b[0m     \u001b[39mraise\u001b[39;00m \u001b[39mKeyError\u001b[39;00m(key)\n\u001b[1;32m   1780\u001b[0m \u001b[39m# Check for duplicates\u001b[39;00m\n\u001b[1;32m   1781\u001b[0m \u001b[39mif\u001b[39;00m values\u001b[39m.\u001b[39mndim \u001b[39m>\u001b[39m \u001b[39m1\u001b[39m:\n",
      "\u001b[0;31mKeyError\u001b[0m: None"
     ]
    }
   ],
   "source": [
    "sample_cont_cox = CoxPHFitter()\n",
    "sample_cont_cox.fit(sample_cont_df, )"
   ]
  }
 ],
 "metadata": {
  "kernelspec": {
   "display_name": "blog--v8k-B20-py3.8",
   "language": "python",
   "name": "python3"
  },
  "language_info": {
   "codemirror_mode": {
    "name": "ipython",
    "version": 3
   },
   "file_extension": ".py",
   "mimetype": "text/x-python",
   "name": "python",
   "nbconvert_exporter": "python",
   "pygments_lexer": "ipython3",
   "version": "3.8.10"
  },
  "orig_nbformat": 4
 },
 "nbformat": 4,
 "nbformat_minor": 2
}
