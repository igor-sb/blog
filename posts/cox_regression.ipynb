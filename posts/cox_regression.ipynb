{
 "cells": [
  {
   "cell_type": "code",
   "execution_count": 1,
   "metadata": {},
   "outputs": [],
   "source": [
    "from lifelines import CoxPHFitter\n",
    "import pandas as pd\n",
    "import numpy as np\n",
    "import plotnine as p9"
   ]
  },
  {
   "attachments": {},
   "cell_type": "markdown",
   "metadata": {},
   "source": [
    "The goal of Cox regression model is to asses the relationship of predictor variables to survival time of a certain event."
   ]
  },
  {
   "attachments": {},
   "cell_type": "markdown",
   "metadata": {},
   "source": [
    "## Introduction\n",
    "\n",
    "Let's start by creating a simple simulated dataset for survival models. We have 5 subjects labeled A to E. Each subject falls into one of the following categories:\n",
    "\n",
    "- They underwent a preventive treatment (x = 1) or did not (x = 0) before the study.\n",
    "- They either got a disease (event = 1) during the study or remained disease-free (event = 0).\n",
    "\n",
    "If a subject contracted a disease, the \"time\" column indicates the specific timepoint when they acquired it. For subjects who did not develop any disease throughout the study, we list the last time point we checked on them (considered as timepoint 6) and label event = 0.\n",
    "\n",
    "In simple terms, our only predictor variable is x, indicating whether the subject received preventive treatment. The event column is used to keep track of subjects who remained disease-free during the study (\"censored\"). Technically, if the study is long enough to capture all disease occurrences, the event column becomes redundant. However, most statistical packages for Cox regression require it regardless.\n",
    "\n",
    "Our objective here is to assess whether the preventive treatment (x) increases the survival time - a duration before contracting a disease."
   ]
  },
  {
   "cell_type": "code",
   "execution_count": 2,
   "metadata": {},
   "outputs": [
    {
     "data": {
      "text/html": [
       "<div>\n",
       "<style scoped>\n",
       "    .dataframe tbody tr th:only-of-type {\n",
       "        vertical-align: middle;\n",
       "    }\n",
       "\n",
       "    .dataframe tbody tr th {\n",
       "        vertical-align: top;\n",
       "    }\n",
       "\n",
       "    .dataframe thead th {\n",
       "        text-align: right;\n",
       "    }\n",
       "</style>\n",
       "<table border=\"1\" class=\"dataframe\">\n",
       "  <thead>\n",
       "    <tr style=\"text-align: right;\">\n",
       "      <th></th>\n",
       "      <th>subject</th>\n",
       "      <th>time</th>\n",
       "      <th>event</th>\n",
       "      <th>x</th>\n",
       "    </tr>\n",
       "  </thead>\n",
       "  <tbody>\n",
       "    <tr>\n",
       "      <th>0</th>\n",
       "      <td>A</td>\n",
       "      <td>1</td>\n",
       "      <td>1</td>\n",
       "      <td>0</td>\n",
       "    </tr>\n",
       "    <tr>\n",
       "      <th>1</th>\n",
       "      <td>B</td>\n",
       "      <td>3</td>\n",
       "      <td>1</td>\n",
       "      <td>0</td>\n",
       "    </tr>\n",
       "    <tr>\n",
       "      <th>2</th>\n",
       "      <td>C</td>\n",
       "      <td>5</td>\n",
       "      <td>1</td>\n",
       "      <td>0</td>\n",
       "    </tr>\n",
       "    <tr>\n",
       "      <th>3</th>\n",
       "      <td>D</td>\n",
       "      <td>4</td>\n",
       "      <td>1</td>\n",
       "      <td>1</td>\n",
       "    </tr>\n",
       "    <tr>\n",
       "      <th>4</th>\n",
       "      <td>E</td>\n",
       "      <td>6</td>\n",
       "      <td>0</td>\n",
       "      <td>1</td>\n",
       "    </tr>\n",
       "  </tbody>\n",
       "</table>\n",
       "</div>"
      ],
      "text/plain": [
       "  subject  time  event  x\n",
       "0       A     1      1  0\n",
       "1       B     3      1  0\n",
       "2       C     5      1  0\n",
       "3       D     4      1  1\n",
       "4       E     6      0  1"
      ]
     },
     "execution_count": 2,
     "metadata": {},
     "output_type": "execute_result"
    }
   ],
   "source": [
    "sample_df = pd.DataFrame({\n",
    "    'subject': ['A', 'B', 'C', 'D', 'E'],\n",
    "    'time': [1, 3, 5, 4, 6],\n",
    "    'event': [1, 1, 1, 1, 0],\n",
    "    'x': [0, 0, 0, 1, 1],\n",
    "})\n",
    "\n",
    "sample_df"
   ]
  },
  {
   "attachments": {},
   "cell_type": "markdown",
   "metadata": {},
   "source": [
    "In order to better visualize the events of getting a disease in this table, we can plot the data:"
   ]
  },
  {
   "cell_type": "code",
   "execution_count": 3,
   "metadata": {},
   "outputs": [
    {
     "data": {
      "image/png": "[encoded data removed]",
      "text/plain": [
       "<Figure size 640x279.134 with 1 Axes>"
      ]
     },
     "metadata": {},
     "output_type": "display_data"
    },
    {
     "data": {
      "text/plain": [
       "<ggplot: (8730598180084)>"
      ]
     },
     "execution_count": 3,
     "metadata": {},
     "output_type": "execute_result"
    }
   ],
   "source": [
    "def plot_eventtimes_per_subject(df, color_map='factor(x)'):\n",
    "    return (\n",
    "        p9.ggplot(\n",
    "            df, p9.aes(x='time', y='subject', color=color_map)\n",
    "        )\n",
    "        + p9.geom_segment(\n",
    "            p9.aes(x=0, xend='time', yend='subject'), size=2\n",
    "        )\n",
    "        + p9.geom_point(data=df[df['event'] == 1], shape='o', size=5, show_legend=False)\n",
    "        + p9.scale_x_continuous(expand=[0, 0], breaks=range(7))\n",
    "        + p9.coord_fixed(0.5)\n",
    "        + p9.theme_classic()\n",
    "        + p9.theme(\n",
    "            axis_line_y=p9.element_blank(),\n",
    "            axis_ticks_major_y=p9.element_blank()\n",
    "        )\n",
    "    )\n",
    "\n",
    "plot_eventtimes_per_subject(sample_df)"
   ]
  },
  {
   "attachments": {},
   "cell_type": "markdown",
   "metadata": {},
   "source": [
    "On this plot, lines indicate the duration of time each subject experienced before getting a disease. The \"getting a disease\" event is marked with a filled circle. Subject E does not have a circle since it \"survived\" the entire study without getting a disease (experiencing an event). Teal colors are used for subjects D and E, who had gotten a preventive treatment (x = 1). Red colors are for subjects A, B and C who had not gotten a preventive treatment (x = 0).\n",
    "\n",
    "Note: Throughout this post, we will focus on datasets where only one event occurs at each time. This simplification allows for a clearer understanding of the Cox model, as the mathematical equations become significantly more complex and can hinder intuitive comprehension when multiple events are tied."
   ]
  },
  {
   "attachments": {},
   "cell_type": "markdown",
   "metadata": {},
   "source": [
    "## Hazards\n",
    "\n",
    "Hazard represents the probability of an event occurring within a specific unit of time. It signifies the rate at which events take place and is measured in inverse time units. Unlike regular probability, which ranges between 0 and 1, hazard values can span from zero to infinity (e.g., 500 events per second). In a broader context, hazard can also vary over time. For instance, in the case of an event like \"diagnosis with cancer,\" the hazard tends to increase with time.\n",
    "\n",
    "In Cox regression, the hazard function, denoted as $h(t, x)$, is modeled in a manner akin to the odds in logistic regression. Logistic regression employs the odds ratio, represented as p/(1-p), to transform probabilities within the range of [0, 1] into odds, which have a skewed range of values: [0, ∞). Next, a logarithmic transformation is applied to the odds to produce values that reside within a symmetric interval of (-∞, ∞). This adjustment is made because the values derived from linear combinations of predictor variables also fall within the same interval.\n",
    "\n",
    "Similarly, in Cox regression, the logarithm is utilized to transform the range of hazard values from [0, ∞) to (-∞, ∞). This transformation generates values within the (-∞, ∞) interval,  through linear combinations."
   ]
  },
  {
   "attachments": {},
   "cell_type": "markdown",
   "metadata": {},
   "source": [
    "$$\n",
    "\\log h(t, x) = \\beta x + \\beta_0\n",
    "$$"
   ]
  },
  {
   "attachments": {},
   "cell_type": "markdown",
   "metadata": {},
   "source": [
    "The main assumption of Cox regression is that any time dependence in log-hazard is _only_ part of the intercept term, $\\beta_0(t)$:"
   ]
  },
  {
   "attachments": {},
   "cell_type": "markdown",
   "metadata": {},
   "source": [
    "$$\n",
    "\\log h(t, x) = \\beta x + \\beta_0(t)\n",
    "$$"
   ]
  },
  {
   "attachments": {},
   "cell_type": "markdown",
   "metadata": {},
   "source": [
    "As we will see later, this assumption significantly simplifies the fitting process. Across the literature, the intercept term $\\beta_0(t)$ is usually moved to the left side of the equation and instead expressed as a _baseline hazard_ $\\log[h_0(t)]$:"
   ]
  },
  {
   "attachments": {},
   "cell_type": "markdown",
   "metadata": {},
   "source": [
    "$$\n",
    "\\log\\left[\\frac{h(t, x)}{h_0(t)}\\right] = \\beta x\n",
    "$$"
   ]
  },
  {
   "attachments": {},
   "cell_type": "markdown",
   "metadata": {},
   "source": [
    "From this equation, we can expressed the hazard $h(t, x)$:"
   ]
  },
  {
   "attachments": {},
   "cell_type": "markdown",
   "metadata": {},
   "source": [
    "$$\n",
    "h(t, x) = h_0(t) e^{\\beta x}\n",
    "$$"
   ]
  },
  {
   "attachments": {},
   "cell_type": "markdown",
   "metadata": {},
   "source": [
    "This equation does not seem particularly useful, unless we come up with a mathematical model for the baseline hazard $h_0(t)$?"
   ]
  },
  {
   "attachments": {},
   "cell_type": "markdown",
   "metadata": {},
   "source": [
    "## Fitting"
   ]
  },
  {
   "attachments": {},
   "cell_type": "markdown",
   "metadata": {},
   "source": [
    "It turns out, we can leave this pesky term $h_0(t)$ undefined, as it will completely cancel out when fitting a model, using a technique called Maximum Likelihood Estimation (short: MLE)! Likelihood is a probability of observing the data (here, survival times) given some model parameters (here, $\\beta$).\n",
    "\n",
    "How do we create an expression for likelihood in a Cox model?\n",
    "\n",
    "##### 1. Sort events by their survival times.\n",
    "\n",
    "_This is the only place where a survival time is used in a Cox model!_ In fact, as long as the ranking of survival times stays the same, their actual values _do not matter at all_. In our case:"
   ]
  },
  {
   "cell_type": "code",
   "execution_count": 19,
   "metadata": {},
   "outputs": [
    {
     "data": {
      "text/html": [
       "<div>\n",
       "<style scoped>\n",
       "    .dataframe tbody tr th:only-of-type {\n",
       "        vertical-align: middle;\n",
       "    }\n",
       "\n",
       "    .dataframe tbody tr th {\n",
       "        vertical-align: top;\n",
       "    }\n",
       "\n",
       "    .dataframe thead th {\n",
       "        text-align: right;\n",
       "    }\n",
       "</style>\n",
       "<table border=\"1\" class=\"dataframe\">\n",
       "  <thead>\n",
       "    <tr style=\"text-align: right;\">\n",
       "      <th></th>\n",
       "      <th>subject</th>\n",
       "      <th>time</th>\n",
       "      <th>event</th>\n",
       "      <th>x</th>\n",
       "    </tr>\n",
       "  </thead>\n",
       "  <tbody>\n",
       "    <tr>\n",
       "      <th>0</th>\n",
       "      <td>A</td>\n",
       "      <td>1</td>\n",
       "      <td>1</td>\n",
       "      <td>0</td>\n",
       "    </tr>\n",
       "    <tr>\n",
       "      <th>1</th>\n",
       "      <td>B</td>\n",
       "      <td>3</td>\n",
       "      <td>1</td>\n",
       "      <td>0</td>\n",
       "    </tr>\n",
       "    <tr>\n",
       "      <th>3</th>\n",
       "      <td>D</td>\n",
       "      <td>4</td>\n",
       "      <td>1</td>\n",
       "      <td>1</td>\n",
       "    </tr>\n",
       "    <tr>\n",
       "      <th>2</th>\n",
       "      <td>C</td>\n",
       "      <td>5</td>\n",
       "      <td>1</td>\n",
       "      <td>0</td>\n",
       "    </tr>\n",
       "    <tr>\n",
       "      <th>4</th>\n",
       "      <td>E</td>\n",
       "      <td>6</td>\n",
       "      <td>0</td>\n",
       "      <td>1</td>\n",
       "    </tr>\n",
       "  </tbody>\n",
       "</table>\n",
       "</div>"
      ],
      "text/plain": [
       "  subject  time  event  x\n",
       "0       A     1      1  0\n",
       "1       B     3      1  0\n",
       "3       D     4      1  1\n",
       "2       C     5      1  0\n",
       "4       E     6      0  1"
      ]
     },
     "execution_count": 19,
     "metadata": {},
     "output_type": "execute_result"
    }
   ],
   "source": [
    "sample_df.sort_values(by = 'time')"
   ]
  },
  {
   "attachments": {},
   "cell_type": "markdown",
   "metadata": {},
   "source": [
    "#### 2. Calculate likelihood for each time point\n",
    "\n",
    "We start from subject A that underwent an event at time = 1. The likelihood of this event for subject A is the hazard of subject A at time 1, $h_A = h(t=1, x)$ as a proportion of the sum of all hazards at that time for all subjects that are still at risk for undergoing an event: $h_A + h_B + h_C + h_D + h_E$:"
   ]
  },
  {
   "attachments": {},
   "cell_type": "markdown",
   "metadata": {},
   "source": [
    "$$\n",
    "L_A = L(t=1, \\beta) = \\frac{h_A}{h_A + h_B + h_D + h_C + h_E}\n",
    "$$"
   ]
  },
  {
   "attachments": {},
   "cell_type": "markdown",
   "metadata": {},
   "source": [
    "$$\n",
    "L_A = \\frac{h_0(t) e^{\\beta x_A}}{h_0(t) e^{\\beta x_A} + h_0(t) e^{\\beta x_B} + h_0(t) e^{\\beta x_D} + h_0(t) e^{\\beta x_C} + h_0(t) e^{\\beta x_E}}\n",
    "$$"
   ]
  },
  {
   "attachments": {},
   "cell_type": "markdown",
   "metadata": {},
   "source": [
    "$h_0(t)$ can be cancelled out from this expression, and after plugging in various values for $x$ we get:"
   ]
  },
  {
   "attachments": {},
   "cell_type": "markdown",
   "metadata": {},
   "source": [
    "$$\n",
    "L_A = \\frac{1}{1 + 1 +  e^{\\beta} + 1 + e^{\\beta}} = \\frac{1}{3 + 2e^{\\beta}}\n",
    "$$"
   ]
  },
  {
   "attachments": {},
   "cell_type": "markdown",
   "metadata": {},
   "source": [
    "Next, we move on to the second time point (t = 3) when subject B undergoes an event and we repeat this process. Keep in mind that subject A is now excluded, since it already experienced an event before:"
   ]
  },
  {
   "attachments": {},
   "cell_type": "markdown",
   "metadata": {},
   "source": [
    "$$\n",
    "L_B = \\frac{h_B}{h_B + h_D + h_C + h_E} = \\frac{1}{1 + e^{\\beta} + 1 + e^{\\beta}} = \\frac{1}{2 + 2e^{\\beta}}\n",
    "$$"
   ]
  },
  {
   "attachments": {},
   "cell_type": "markdown",
   "metadata": {},
   "source": [
    "We keep going until we write down likelihoods for all subjects that experienced an event (E is just left out):"
   ]
  },
  {
   "attachments": {},
   "cell_type": "markdown",
   "metadata": {},
   "source": [
    "$$\n",
    "L_D = \\frac{h_D}{h_D + h_C + h_E} = \\frac{e^{\\beta}}{1 + 2e^{\\beta}}\n",
    "$$"
   ]
  },
  {
   "attachments": {},
   "cell_type": "markdown",
   "metadata": {},
   "source": [
    "$$\n",
    "L_C = \\frac{h_C}{h_C + h_E} = \\frac{1}{1 + e^{\\beta}}\n",
    "$$"
   ]
  },
  {
   "attachments": {},
   "cell_type": "markdown",
   "metadata": {},
   "source": [
    "#### 3. Find $\\beta$ for which sum of log-likelihoods is maximal"
   ]
  },
  {
   "attachments": {},
   "cell_type": "markdown",
   "metadata": {},
   "source": [
    "If each event occurs independently of each other, the total probability (likelihood) is simply the product of individual likelihoods $L = L_A L_B L_D L_C$. However, products of many expressions that contain exponential functions can produce very large numbers that can lead to large numerical errors, so typically this likelihood is log-transformed. Logarithm of a product then becomes a sum of logarithms across all subjects and we call this expression \"log-likelihood\":"
   ]
  },
  {
   "attachments": {},
   "cell_type": "markdown",
   "metadata": {},
   "source": [
    "$$\n",
    "\\log L = \\log L_A + \\log L_B + \\log L_D + \\log L_C\n",
    "$$"
   ]
  },
  {
   "attachments": {},
   "cell_type": "markdown",
   "metadata": {},
   "source": [
    "### Implementation\n",
    "\n",
    "We can implement this algorithm in Python:"
   ]
  },
  {
   "cell_type": "code",
   "execution_count": 81,
   "metadata": {},
   "outputs": [],
   "source": [
    "def log_likelihood(df, subject, beta):\n",
    "    subject_with_event_df = df.query(f\"subject == '{subject}' & event == 1\")\n",
    "    time, x = subject_with_event_df.iloc[0][['time', 'x']]\n",
    "    x_subjects_at_risk = df.query(f\"time >= {time}\")['x']\n",
    "    at_risk_hazards = np.exp(beta*x_subjects_at_risk)\n",
    "    return beta*x - np.log(np.sum(at_risk_hazards))"
   ]
  },
  {
   "cell_type": "code",
   "execution_count": 102,
   "metadata": {},
   "outputs": [],
   "source": [
    "def neg_log_likelihood_all_subjects(df, beta):\n",
    "    subjects = df.query(\"event == 1\")['subject'].tolist()\n",
    "    neg_log_likelihoods = [-log_likelihood(df, subject, beta) for subject in subjects]\n",
    "    return (\n",
    "        pd.DataFrame({\n",
    "            'subject': subjects,\n",
    "            'neg_log_likelihood': neg_log_likelihoods\n",
    "        })\n",
    "    )"
   ]
  },
  {
   "cell_type": "code",
   "execution_count": 103,
   "metadata": {},
   "outputs": [
    {
     "data": {
      "text/html": [
       "<div>\n",
       "<style scoped>\n",
       "    .dataframe tbody tr th:only-of-type {\n",
       "        vertical-align: middle;\n",
       "    }\n",
       "\n",
       "    .dataframe tbody tr th {\n",
       "        vertical-align: top;\n",
       "    }\n",
       "\n",
       "    .dataframe thead th {\n",
       "        text-align: right;\n",
       "    }\n",
       "</style>\n",
       "<table border=\"1\" class=\"dataframe\">\n",
       "  <thead>\n",
       "    <tr style=\"text-align: right;\">\n",
       "      <th></th>\n",
       "      <th>subject</th>\n",
       "      <th>neg_log_likelihood</th>\n",
       "    </tr>\n",
       "  </thead>\n",
       "  <tbody>\n",
       "    <tr>\n",
       "      <th>0</th>\n",
       "      <td>A</td>\n",
       "      <td>2.877968</td>\n",
       "    </tr>\n",
       "    <tr>\n",
       "      <th>1</th>\n",
       "      <td>B</td>\n",
       "      <td>2.820075</td>\n",
       "    </tr>\n",
       "    <tr>\n",
       "      <th>2</th>\n",
       "      <td>C</td>\n",
       "      <td>2.126928</td>\n",
       "    </tr>\n",
       "    <tr>\n",
       "      <th>3</th>\n",
       "      <td>D</td>\n",
       "      <td>0.758624</td>\n",
       "    </tr>\n",
       "  </tbody>\n",
       "</table>\n",
       "</div>"
      ],
      "text/plain": [
       "  subject  neg_log_likelihood\n",
       "0       A            2.877968\n",
       "1       B            2.820075\n",
       "2       C            2.126928\n",
       "3       D            0.758624"
      ]
     },
     "execution_count": 103,
     "metadata": {},
     "output_type": "execute_result"
    }
   ],
   "source": [
    "neg_log_likelihood_all_subjects(sample_df, 2)"
   ]
  },
  {
   "cell_type": "code",
   "execution_count": 104,
   "metadata": {},
   "outputs": [],
   "source": [
    "def neg_log_likelihood_all_subjects_betas(df, betas=np.arange(-5, 5, 0.5)):\n",
    "    loglikelihoods_per_beta = []\n",
    "    for beta in betas:\n",
    "        beta_df = neg_log_likelihood_all_subjects(df, beta)\n",
    "        beta_df.insert(0, 'beta', beta)\n",
    "        loglikelihoods_per_beta.append(beta_df)\n",
    "    return pd.concat(loglikelihoods_per_beta)"
   ]
  },
  {
   "cell_type": "code",
   "execution_count": 105,
   "metadata": {},
   "outputs": [
    {
     "data": {
      "text/html": [
       "<div>\n",
       "<style scoped>\n",
       "    .dataframe tbody tr th:only-of-type {\n",
       "        vertical-align: middle;\n",
       "    }\n",
       "\n",
       "    .dataframe tbody tr th {\n",
       "        vertical-align: top;\n",
       "    }\n",
       "\n",
       "    .dataframe thead th {\n",
       "        text-align: right;\n",
       "    }\n",
       "</style>\n",
       "<table border=\"1\" class=\"dataframe\">\n",
       "  <thead>\n",
       "    <tr style=\"text-align: right;\">\n",
       "      <th></th>\n",
       "      <th>beta</th>\n",
       "      <th>subject</th>\n",
       "      <th>neg_log_likelihood</th>\n",
       "    </tr>\n",
       "  </thead>\n",
       "  <tbody>\n",
       "    <tr>\n",
       "      <th>0</th>\n",
       "      <td>-5.0</td>\n",
       "      <td>A</td>\n",
       "      <td>1.103094</td>\n",
       "    </tr>\n",
       "    <tr>\n",
       "      <th>1</th>\n",
       "      <td>-5.0</td>\n",
       "      <td>B</td>\n",
       "      <td>0.699863</td>\n",
       "    </tr>\n",
       "    <tr>\n",
       "      <th>2</th>\n",
       "      <td>-5.0</td>\n",
       "      <td>C</td>\n",
       "      <td>0.006715</td>\n",
       "    </tr>\n",
       "    <tr>\n",
       "      <th>3</th>\n",
       "      <td>-5.0</td>\n",
       "      <td>D</td>\n",
       "      <td>5.013386</td>\n",
       "    </tr>\n",
       "    <tr>\n",
       "      <th>0</th>\n",
       "      <td>-4.5</td>\n",
       "      <td>A</td>\n",
       "      <td>1.105991</td>\n",
       "    </tr>\n",
       "    <tr>\n",
       "      <th>1</th>\n",
       "      <td>-4.5</td>\n",
       "      <td>B</td>\n",
       "      <td>0.704195</td>\n",
       "    </tr>\n",
       "    <tr>\n",
       "      <th>2</th>\n",
       "      <td>-4.5</td>\n",
       "      <td>C</td>\n",
       "      <td>0.011048</td>\n",
       "    </tr>\n",
       "    <tr>\n",
       "      <th>3</th>\n",
       "      <td>-4.5</td>\n",
       "      <td>D</td>\n",
       "      <td>4.521975</td>\n",
       "    </tr>\n",
       "    <tr>\n",
       "      <th>0</th>\n",
       "      <td>-4.0</td>\n",
       "      <td>A</td>\n",
       "      <td>1.110749</td>\n",
       "    </tr>\n",
       "    <tr>\n",
       "      <th>1</th>\n",
       "      <td>-4.0</td>\n",
       "      <td>B</td>\n",
       "      <td>0.711297</td>\n",
       "    </tr>\n",
       "  </tbody>\n",
       "</table>\n",
       "</div>"
      ],
      "text/plain": [
       "   beta subject  neg_log_likelihood\n",
       "0  -5.0       A            1.103094\n",
       "1  -5.0       B            0.699863\n",
       "2  -5.0       C            0.006715\n",
       "3  -5.0       D            5.013386\n",
       "0  -4.5       A            1.105991\n",
       "1  -4.5       B            0.704195\n",
       "2  -4.5       C            0.011048\n",
       "3  -4.5       D            4.521975\n",
       "0  -4.0       A            1.110749\n",
       "1  -4.0       B            0.711297"
      ]
     },
     "execution_count": 105,
     "metadata": {},
     "output_type": "execute_result"
    }
   ],
   "source": [
    "negloglik_beta_df = neg_log_likelihood_all_subjects_betas(sample_df)\n",
    "negloglik_beta_df.head(10)"
   ]
  },
  {
   "cell_type": "code",
   "execution_count": 106,
   "metadata": {},
   "outputs": [],
   "source": [
    "def plot_cost_vs_beta(df, betas=np.arange(-5, 5.5, 0.1)):\n",
    "    negloglik_beta_df = neg_log_likelihood_all_subjects_betas(df, betas)\n",
    "    return (\n",
    "        p9.ggplot(negloglik_beta_df, p9.aes('beta', 'neg_log_likelihood', fill='subject'))\n",
    "        + p9.geom_col(width=betas[1]-betas[0])\n",
    "        + p9.scale_x_continuous(expand=[0, 0])\n",
    "        + p9.scale_y_continuous(name='negative log-likelihoods (\"cost\")', expand=[0, 0])\n",
    "        + p9.theme_classic()\n",
    "    )"
   ]
  },
  {
   "cell_type": "code",
   "execution_count": 107,
   "metadata": {},
   "outputs": [
    {
     "data": {
      "image/png": "[encoded data removed]",
      "text/plain": [
       "<Figure size 640x480 with 1 Axes>"
      ]
     },
     "metadata": {},
     "output_type": "display_data"
    },
    {
     "data": {
      "text/plain": [
       "<ggplot: (8730591533129)>"
      ]
     },
     "execution_count": 107,
     "metadata": {},
     "output_type": "execute_result"
    }
   ],
   "source": [
    "plot_cost_vs_beta(sample_df)"
   ]
  },
  {
   "attachments": {},
   "cell_type": "markdown",
   "metadata": {},
   "source": [
    "Large bars = small likelihoods\n",
    "\n",
    "If $\\beta$ is negative, then the hazards of subjects with x = 1 (A, B, C) get suppressed"
   ]
  },
  {
   "cell_type": "code",
   "execution_count": 10,
   "metadata": {},
   "outputs": [],
   "source": [
    "def total_log_likelihood(df, beta):\n",
    "    subjects = df['subject'].unique()\n",
    "    sum_log_likelihood = 0\n",
    "    for subject in subjects:\n",
    "        sum_log_likelihood += log_likelihood(df, subject, beta)\n",
    "    return(sum_log_likelihood)"
   ]
  },
  {
   "cell_type": "code",
   "execution_count": 11,
   "metadata": {},
   "outputs": [],
   "source": [
    "def total_loglik_vs_beta(df, betas=np.arange(-5, 5, 0.1)):\n",
    "    total_log_likelihoods = [total_log_likelihood(df, beta) for beta in betas]\n",
    "    return(\n",
    "        pd.DataFrame({\n",
    "            'beta': betas,\n",
    "            'total_log_lik': total_log_likelihoods\n",
    "        })\n",
    "    )"
   ]
  },
  {
   "cell_type": "code",
   "execution_count": 12,
   "metadata": {},
   "outputs": [
    {
     "data": {
      "text/html": [
       "<div>\n",
       "<style scoped>\n",
       "    .dataframe tbody tr th:only-of-type {\n",
       "        vertical-align: middle;\n",
       "    }\n",
       "\n",
       "    .dataframe tbody tr th {\n",
       "        vertical-align: top;\n",
       "    }\n",
       "\n",
       "    .dataframe thead th {\n",
       "        text-align: right;\n",
       "    }\n",
       "</style>\n",
       "<table border=\"1\" class=\"dataframe\">\n",
       "  <thead>\n",
       "    <tr style=\"text-align: right;\">\n",
       "      <th></th>\n",
       "      <th>beta</th>\n",
       "      <th>total_log_lik</th>\n",
       "    </tr>\n",
       "  </thead>\n",
       "  <tbody>\n",
       "    <tr>\n",
       "      <th>0</th>\n",
       "      <td>-5.0</td>\n",
       "      <td>-6.823058</td>\n",
       "    </tr>\n",
       "    <tr>\n",
       "      <th>1</th>\n",
       "      <td>-4.9</td>\n",
       "      <td>-6.726333</td>\n",
       "    </tr>\n",
       "    <tr>\n",
       "      <th>2</th>\n",
       "      <td>-4.8</td>\n",
       "      <td>-6.629949</td>\n",
       "    </tr>\n",
       "    <tr>\n",
       "      <th>3</th>\n",
       "      <td>-4.7</td>\n",
       "      <td>-6.533940</td>\n",
       "    </tr>\n",
       "    <tr>\n",
       "      <th>4</th>\n",
       "      <td>-4.6</td>\n",
       "      <td>-6.438346</td>\n",
       "    </tr>\n",
       "    <tr>\n",
       "      <th>...</th>\n",
       "      <td>...</td>\n",
       "      <td>...</td>\n",
       "    </tr>\n",
       "    <tr>\n",
       "      <th>95</th>\n",
       "      <td>4.5</td>\n",
       "      <td>-15.623602</td>\n",
       "    </tr>\n",
       "    <tr>\n",
       "      <th>96</th>\n",
       "      <td>4.6</td>\n",
       "      <td>-15.919423</td>\n",
       "    </tr>\n",
       "    <tr>\n",
       "      <th>97</th>\n",
       "      <td>4.7</td>\n",
       "      <td>-16.215638</td>\n",
       "    </tr>\n",
       "    <tr>\n",
       "      <th>98</th>\n",
       "      <td>4.8</td>\n",
       "      <td>-16.512209</td>\n",
       "    </tr>\n",
       "    <tr>\n",
       "      <th>99</th>\n",
       "      <td>4.9</td>\n",
       "      <td>-16.809104</td>\n",
       "    </tr>\n",
       "  </tbody>\n",
       "</table>\n",
       "<p>100 rows × 2 columns</p>\n",
       "</div>"
      ],
      "text/plain": [
       "    beta  total_log_lik\n",
       "0   -5.0      -6.823058\n",
       "1   -4.9      -6.726333\n",
       "2   -4.8      -6.629949\n",
       "3   -4.7      -6.533940\n",
       "4   -4.6      -6.438346\n",
       "..   ...            ...\n",
       "95   4.5     -15.623602\n",
       "96   4.6     -15.919423\n",
       "97   4.7     -16.215638\n",
       "98   4.8     -16.512209\n",
       "99   4.9     -16.809104\n",
       "\n",
       "[100 rows x 2 columns]"
      ]
     },
     "execution_count": 12,
     "metadata": {},
     "output_type": "execute_result"
    }
   ],
   "source": [
    "fit_df = total_loglik_vs_beta(sample_df)\n",
    "fit_df"
   ]
  },
  {
   "cell_type": "code",
   "execution_count": 13,
   "metadata": {},
   "outputs": [
    {
     "data": {
      "text/html": [
       "<div>\n",
       "<style scoped>\n",
       "    .dataframe tbody tr th:only-of-type {\n",
       "        vertical-align: middle;\n",
       "    }\n",
       "\n",
       "    .dataframe tbody tr th {\n",
       "        vertical-align: top;\n",
       "    }\n",
       "\n",
       "    .dataframe thead th {\n",
       "        text-align: right;\n",
       "    }\n",
       "</style>\n",
       "<table border=\"1\" class=\"dataframe\">\n",
       "  <tbody>\n",
       "    <tr>\n",
       "      <th>model</th>\n",
       "      <td>lifelines.CoxPHFitter</td>\n",
       "    </tr>\n",
       "    <tr>\n",
       "      <th>duration col</th>\n",
       "      <td>'time'</td>\n",
       "    </tr>\n",
       "    <tr>\n",
       "      <th>event col</th>\n",
       "      <td>'event'</td>\n",
       "    </tr>\n",
       "    <tr>\n",
       "      <th>baseline estimation</th>\n",
       "      <td>breslow</td>\n",
       "    </tr>\n",
       "    <tr>\n",
       "      <th>number of observations</th>\n",
       "      <td>5</td>\n",
       "    </tr>\n",
       "    <tr>\n",
       "      <th>number of events observed</th>\n",
       "      <td>4</td>\n",
       "    </tr>\n",
       "    <tr>\n",
       "      <th>partial log-likelihood</th>\n",
       "      <td>-4.17</td>\n",
       "    </tr>\n",
       "    <tr>\n",
       "      <th>time fit was run</th>\n",
       "      <td>2023-06-01 02:54:04 UTC</td>\n",
       "    </tr>\n",
       "  </tbody>\n",
       "</table>\n",
       "</div><table border=\"1\" class=\"dataframe\">\n",
       "  <thead>\n",
       "    <tr style=\"text-align: right;\">\n",
       "      <th style=\"min-width: 12px;\"></th>\n",
       "      <th style=\"min-width: 12px;\">coef</th>\n",
       "      <th style=\"min-width: 12px;\">exp(coef)</th>\n",
       "      <th style=\"min-width: 12px;\">se(coef)</th>\n",
       "      <th style=\"min-width: 12px;\">coef lower 95%</th>\n",
       "      <th style=\"min-width: 12px;\">coef upper 95%</th>\n",
       "      <th style=\"min-width: 12px;\">exp(coef) lower 95%</th>\n",
       "      <th style=\"min-width: 12px;\">exp(coef) upper 95%</th>\n",
       "      <th style=\"min-width: 12px;\">cmp to</th>\n",
       "      <th style=\"min-width: 12px;\">z</th>\n",
       "      <th style=\"min-width: 12px;\">p</th>\n",
       "      <th style=\"min-width: 12px;\">-log2(p)</th>\n",
       "    </tr>\n",
       "  </thead>\n",
       "  <tbody>\n",
       "    <tr>\n",
       "      <th>x</th>\n",
       "      <td>-1.21</td>\n",
       "      <td>0.30</td>\n",
       "      <td>1.17</td>\n",
       "      <td>-3.51</td>\n",
       "      <td>1.09</td>\n",
       "      <td>0.03</td>\n",
       "      <td>2.98</td>\n",
       "      <td>0.00</td>\n",
       "      <td>-1.03</td>\n",
       "      <td>0.30</td>\n",
       "      <td>1.72</td>\n",
       "    </tr>\n",
       "  </tbody>\n",
       "</table><br><div>\n",
       "<style scoped>\n",
       "    .dataframe tbody tr th:only-of-type {\n",
       "        vertical-align: middle;\n",
       "    }\n",
       "\n",
       "    .dataframe tbody tr th {\n",
       "        vertical-align: top;\n",
       "    }\n",
       "\n",
       "    .dataframe thead th {\n",
       "        text-align: right;\n",
       "    }\n",
       "</style>\n",
       "<table border=\"1\" class=\"dataframe\">\n",
       "  <tbody>\n",
       "    <tr>\n",
       "      <th>Concordance</th>\n",
       "      <td>0.70</td>\n",
       "    </tr>\n",
       "    <tr>\n",
       "      <th>Partial AIC</th>\n",
       "      <td>10.35</td>\n",
       "    </tr>\n",
       "    <tr>\n",
       "      <th>log-likelihood ratio test</th>\n",
       "      <td>1.23 on 1 df</td>\n",
       "    </tr>\n",
       "    <tr>\n",
       "      <th>-log2(p) of ll-ratio test</th>\n",
       "      <td>1.90</td>\n",
       "    </tr>\n",
       "  </tbody>\n",
       "</table>\n",
       "</div>"
      ],
      "text/latex": [
       "\\begin{tabular}{lrrrrrrrrrrr}\n",
       " & coef & exp(coef) & se(coef) & coef lower 95% & coef upper 95% & exp(coef) lower 95% & exp(coef) upper 95% & cmp to & z & p & -log2(p) \\\\\n",
       "covariate &  &  &  &  &  &  &  &  &  &  &  \\\\\n",
       "x & -1.21 & 0.30 & 1.17 & -3.51 & 1.09 & 0.03 & 2.98 & 0.00 & -1.03 & 0.30 & 1.72 \\\\\n",
       "\\end{tabular}\n"
      ],
      "text/plain": [
       "<lifelines.CoxPHFitter: fitted with 5 total observations, 1 right-censored observations>\n",
       "             duration col = 'time'\n",
       "                event col = 'event'\n",
       "      baseline estimation = breslow\n",
       "   number of observations = 5\n",
       "number of events observed = 4\n",
       "   partial log-likelihood = -4.17\n",
       "         time fit was run = 2023-06-01 02:54:04 UTC\n",
       "\n",
       "---\n",
       "            coef  exp(coef)   se(coef)   coef lower 95%   coef upper 95%  exp(coef) lower 95%  exp(coef) upper 95%\n",
       "covariate                                                                                                         \n",
       "x          -1.21       0.30       1.17            -3.51             1.09                 0.03                 2.98\n",
       "\n",
       "            cmp to     z    p   -log2(p)\n",
       "covariate                               \n",
       "x             0.00 -1.03 0.30       1.72\n",
       "---\n",
       "Concordance = 0.70\n",
       "Partial AIC = 10.35\n",
       "log-likelihood ratio test = 1.23 on 1 df\n",
       "-log2(p) of ll-ratio test = 1.90"
      ]
     },
     "metadata": {},
     "output_type": "display_data"
    }
   ],
   "source": [
    "cph = CoxPHFitter()\n",
    "cph.fit(sample_df, duration_col='time', event_col='event', formula='x')\n",
    "cph.print_summary()"
   ]
  },
  {
   "attachments": {},
   "cell_type": "markdown",
   "metadata": {},
   "source": [
    "## Continuous example"
   ]
  },
  {
   "cell_type": "code",
   "execution_count": 14,
   "metadata": {},
   "outputs": [
    {
     "data": {
      "text/html": [
       "<div>\n",
       "<style scoped>\n",
       "    .dataframe tbody tr th:only-of-type {\n",
       "        vertical-align: middle;\n",
       "    }\n",
       "\n",
       "    .dataframe tbody tr th {\n",
       "        vertical-align: top;\n",
       "    }\n",
       "\n",
       "    .dataframe thead th {\n",
       "        text-align: right;\n",
       "    }\n",
       "</style>\n",
       "<table border=\"1\" class=\"dataframe\">\n",
       "  <thead>\n",
       "    <tr style=\"text-align: right;\">\n",
       "      <th></th>\n",
       "      <th>subject</th>\n",
       "      <th>time</th>\n",
       "      <th>event</th>\n",
       "      <th>x</th>\n",
       "    </tr>\n",
       "  </thead>\n",
       "  <tbody>\n",
       "    <tr>\n",
       "      <th>0</th>\n",
       "      <td>A</td>\n",
       "      <td>1</td>\n",
       "      <td>1</td>\n",
       "      <td>0.1</td>\n",
       "    </tr>\n",
       "    <tr>\n",
       "      <th>1</th>\n",
       "      <td>B</td>\n",
       "      <td>3</td>\n",
       "      <td>1</td>\n",
       "      <td>0.2</td>\n",
       "    </tr>\n",
       "    <tr>\n",
       "      <th>2</th>\n",
       "      <td>C</td>\n",
       "      <td>4</td>\n",
       "      <td>1</td>\n",
       "      <td>0.3</td>\n",
       "    </tr>\n",
       "    <tr>\n",
       "      <th>3</th>\n",
       "      <td>D</td>\n",
       "      <td>5</td>\n",
       "      <td>1</td>\n",
       "      <td>0.9</td>\n",
       "    </tr>\n",
       "    <tr>\n",
       "      <th>4</th>\n",
       "      <td>E</td>\n",
       "      <td>6</td>\n",
       "      <td>0</td>\n",
       "      <td>1.2</td>\n",
       "    </tr>\n",
       "  </tbody>\n",
       "</table>\n",
       "</div>"
      ],
      "text/plain": [
       "  subject  time  event    x\n",
       "0       A     1      1  0.1\n",
       "1       B     3      1  0.2\n",
       "2       C     4      1  0.3\n",
       "3       D     5      1  0.9\n",
       "4       E     6      0  1.2"
      ]
     },
     "execution_count": 14,
     "metadata": {},
     "output_type": "execute_result"
    }
   ],
   "source": [
    "sample_cont_df = pd.DataFrame({\n",
    "    'subject': ['A', 'B', 'C', 'D', 'E'],\n",
    "    'time': [1, 3, 4, 5, 6],\n",
    "    'event': [1, 1, 1, 1, 0],\n",
    "    'x': [0.1, 0.2, 0.3, 0.9, 1.2],\n",
    "})\n",
    "\n",
    "sample_cont_df"
   ]
  },
  {
   "cell_type": "code",
   "execution_count": 15,
   "metadata": {},
   "outputs": [
    {
     "data": {
      "image/png": "[encoded data removed]",
      "text/plain": [
       "<Figure size 640x480 with 1 Axes>"
      ]
     },
     "metadata": {},
     "output_type": "display_data"
    },
    {
     "data": {
      "text/plain": [
       "<ggplot: (8730593646210)>"
      ]
     },
     "execution_count": 15,
     "metadata": {},
     "output_type": "execute_result"
    }
   ],
   "source": [
    "plot_cost_vs_beta(sample_cont_df, betas=np.arange(-20, 7, 0.1))"
   ]
  },
  {
   "cell_type": "code",
   "execution_count": 16,
   "metadata": {},
   "outputs": [
    {
     "ename": "KeyError",
     "evalue": "None",
     "output_type": "error",
     "traceback": [
      "\u001b[0;31m---------------------------------------------------------------------------\u001b[0m",
      "\u001b[0;31mKeyError\u001b[0m                                  Traceback (most recent call last)",
      "Cell \u001b[0;32mIn[16], line 2\u001b[0m\n\u001b[1;32m      1\u001b[0m sample_cont_cox \u001b[39m=\u001b[39m CoxPHFitter()\n\u001b[0;32m----> 2\u001b[0m sample_cont_cox\u001b[39m.\u001b[39;49mfit(sample_cont_df, )\n",
      "File \u001b[0;32m~/.cache/pypoetry/virtualenvs/blog--v8k-B20-py3.8/lib/python3.8/site-packages/lifelines/utils/__init__.py:56\u001b[0m, in \u001b[0;36mCensoringType.right_censoring.<locals>.f\u001b[0;34m(model, *args, **kwargs)\u001b[0m\n\u001b[1;32m     53\u001b[0m \u001b[39m@wraps\u001b[39m(function)\n\u001b[1;32m     54\u001b[0m \u001b[39mdef\u001b[39;00m \u001b[39mf\u001b[39m(model, \u001b[39m*\u001b[39margs, \u001b[39m*\u001b[39m\u001b[39m*\u001b[39mkwargs):\n\u001b[1;32m     55\u001b[0m     \u001b[39mcls\u001b[39m\u001b[39m.\u001b[39mset_censoring_type(model, \u001b[39mcls\u001b[39m\u001b[39m.\u001b[39mRIGHT)\n\u001b[0;32m---> 56\u001b[0m     \u001b[39mreturn\u001b[39;00m function(model, \u001b[39m*\u001b[39;49margs, \u001b[39m*\u001b[39;49m\u001b[39m*\u001b[39;49mkwargs)\n",
      "File \u001b[0;32m~/.cache/pypoetry/virtualenvs/blog--v8k-B20-py3.8/lib/python3.8/site-packages/lifelines/fitters/coxph_fitter.py:290\u001b[0m, in \u001b[0;36mCoxPHFitter.fit\u001b[0;34m(self, df, duration_col, event_col, show_progress, initial_point, strata, weights_col, cluster_col, robust, batch_mode, timeline, formula, entry_col, fit_options)\u001b[0m\n\u001b[1;32m    184\u001b[0m \u001b[39m\u001b[39m\u001b[39m\"\"\"\u001b[39;00m\n\u001b[1;32m    185\u001b[0m \u001b[39mFit the Cox proportional hazard model to a right-censored dataset. Alias of `fit_right_censoring`.\u001b[39;00m\n\u001b[1;32m    186\u001b[0m \n\u001b[0;32m   (...)\u001b[0m\n\u001b[1;32m    287\u001b[0m \n\u001b[1;32m    288\u001b[0m \u001b[39m\"\"\"\u001b[39;00m\n\u001b[1;32m    289\u001b[0m \u001b[39mself\u001b[39m\u001b[39m.\u001b[39mstrata \u001b[39m=\u001b[39m utils\u001b[39m.\u001b[39m_to_list_or_singleton(utils\u001b[39m.\u001b[39mcoalesce(strata, \u001b[39mself\u001b[39m\u001b[39m.\u001b[39mstrata))\n\u001b[0;32m--> 290\u001b[0m \u001b[39mself\u001b[39m\u001b[39m.\u001b[39m_model \u001b[39m=\u001b[39m \u001b[39mself\u001b[39;49m\u001b[39m.\u001b[39;49m_fit_model(\n\u001b[1;32m    291\u001b[0m     df,\n\u001b[1;32m    292\u001b[0m     duration_col,\n\u001b[1;32m    293\u001b[0m     event_col\u001b[39m=\u001b[39;49mevent_col,\n\u001b[1;32m    294\u001b[0m     show_progress\u001b[39m=\u001b[39;49mshow_progress,\n\u001b[1;32m    295\u001b[0m     initial_point\u001b[39m=\u001b[39;49minitial_point,\n\u001b[1;32m    296\u001b[0m     strata\u001b[39m=\u001b[39;49m\u001b[39mself\u001b[39;49m\u001b[39m.\u001b[39;49mstrata,\n\u001b[1;32m    297\u001b[0m     weights_col\u001b[39m=\u001b[39;49mweights_col,\n\u001b[1;32m    298\u001b[0m     cluster_col\u001b[39m=\u001b[39;49mcluster_col,\n\u001b[1;32m    299\u001b[0m     robust\u001b[39m=\u001b[39;49mrobust,\n\u001b[1;32m    300\u001b[0m     batch_mode\u001b[39m=\u001b[39;49mbatch_mode,\n\u001b[1;32m    301\u001b[0m     timeline\u001b[39m=\u001b[39;49mtimeline,\n\u001b[1;32m    302\u001b[0m     formula\u001b[39m=\u001b[39;49mformula,\n\u001b[1;32m    303\u001b[0m     entry_col\u001b[39m=\u001b[39;49mentry_col,\n\u001b[1;32m    304\u001b[0m     fit_options\u001b[39m=\u001b[39;49mfit_options,\n\u001b[1;32m    305\u001b[0m )\n\u001b[1;32m    306\u001b[0m \u001b[39mreturn\u001b[39;00m \u001b[39mself\u001b[39m\n",
      "File \u001b[0;32m~/.cache/pypoetry/virtualenvs/blog--v8k-B20-py3.8/lib/python3.8/site-packages/lifelines/fitters/coxph_fitter.py:610\u001b[0m, in \u001b[0;36mCoxPHFitter._fit_model\u001b[0;34m(self, *args, **kwargs)\u001b[0m\n\u001b[1;32m    608\u001b[0m \u001b[39mdef\u001b[39;00m \u001b[39m_fit_model\u001b[39m(\u001b[39mself\u001b[39m, \u001b[39m*\u001b[39margs, \u001b[39m*\u001b[39m\u001b[39m*\u001b[39mkwargs):\n\u001b[1;32m    609\u001b[0m     \u001b[39mif\u001b[39;00m \u001b[39mself\u001b[39m\u001b[39m.\u001b[39mbaseline_estimation_method \u001b[39m==\u001b[39m \u001b[39m\"\u001b[39m\u001b[39mbreslow\u001b[39m\u001b[39m\"\u001b[39m:\n\u001b[0;32m--> 610\u001b[0m         \u001b[39mreturn\u001b[39;00m \u001b[39mself\u001b[39;49m\u001b[39m.\u001b[39;49m_fit_model_breslow(\u001b[39m*\u001b[39;49margs, \u001b[39m*\u001b[39;49m\u001b[39m*\u001b[39;49mkwargs)\n\u001b[1;32m    611\u001b[0m     \u001b[39melif\u001b[39;00m \u001b[39mself\u001b[39m\u001b[39m.\u001b[39mbaseline_estimation_method \u001b[39m==\u001b[39m \u001b[39m\"\u001b[39m\u001b[39mspline\u001b[39m\u001b[39m\"\u001b[39m:\n\u001b[1;32m    612\u001b[0m         \u001b[39mreturn\u001b[39;00m \u001b[39mself\u001b[39m\u001b[39m.\u001b[39m_fit_model_spline(\u001b[39m*\u001b[39margs, \u001b[39m*\u001b[39m\u001b[39m*\u001b[39mkwargs)\n",
      "File \u001b[0;32m~/.cache/pypoetry/virtualenvs/blog--v8k-B20-py3.8/lib/python3.8/site-packages/lifelines/fitters/coxph_fitter.py:623\u001b[0m, in \u001b[0;36mCoxPHFitter._fit_model_breslow\u001b[0;34m(self, *args, **kwargs)\u001b[0m\n\u001b[1;32m    619\u001b[0m model \u001b[39m=\u001b[39m SemiParametricPHFitter(\n\u001b[1;32m    620\u001b[0m     penalizer\u001b[39m=\u001b[39m\u001b[39mself\u001b[39m\u001b[39m.\u001b[39mpenalizer, l1_ratio\u001b[39m=\u001b[39m\u001b[39mself\u001b[39m\u001b[39m.\u001b[39ml1_ratio, strata\u001b[39m=\u001b[39m\u001b[39mself\u001b[39m\u001b[39m.\u001b[39mstrata, alpha\u001b[39m=\u001b[39m\u001b[39mself\u001b[39m\u001b[39m.\u001b[39malpha, label\u001b[39m=\u001b[39m\u001b[39mself\u001b[39m\u001b[39m.\u001b[39m_label\n\u001b[1;32m    621\u001b[0m )\n\u001b[1;32m    622\u001b[0m \u001b[39mif\u001b[39;00m utils\u001b[39m.\u001b[39mCensoringType\u001b[39m.\u001b[39mis_right_censoring(\u001b[39mself\u001b[39m):\n\u001b[0;32m--> 623\u001b[0m     model\u001b[39m.\u001b[39;49mfit(\u001b[39m*\u001b[39;49margs, \u001b[39m*\u001b[39;49m\u001b[39m*\u001b[39;49mkwargs)\n\u001b[1;32m    624\u001b[0m     \u001b[39mreturn\u001b[39;00m model\n\u001b[1;32m    625\u001b[0m \u001b[39melse\u001b[39;00m:\n",
      "File \u001b[0;32m~/.cache/pypoetry/virtualenvs/blog--v8k-B20-py3.8/lib/python3.8/site-packages/lifelines/utils/__init__.py:56\u001b[0m, in \u001b[0;36mCensoringType.right_censoring.<locals>.f\u001b[0;34m(model, *args, **kwargs)\u001b[0m\n\u001b[1;32m     53\u001b[0m \u001b[39m@wraps\u001b[39m(function)\n\u001b[1;32m     54\u001b[0m \u001b[39mdef\u001b[39;00m \u001b[39mf\u001b[39m(model, \u001b[39m*\u001b[39margs, \u001b[39m*\u001b[39m\u001b[39m*\u001b[39mkwargs):\n\u001b[1;32m     55\u001b[0m     \u001b[39mcls\u001b[39m\u001b[39m.\u001b[39mset_censoring_type(model, \u001b[39mcls\u001b[39m\u001b[39m.\u001b[39mRIGHT)\n\u001b[0;32m---> 56\u001b[0m     \u001b[39mreturn\u001b[39;00m function(model, \u001b[39m*\u001b[39;49margs, \u001b[39m*\u001b[39;49m\u001b[39m*\u001b[39;49mkwargs)\n",
      "File \u001b[0;32m~/.cache/pypoetry/virtualenvs/blog--v8k-B20-py3.8/lib/python3.8/site-packages/lifelines/fitters/coxph_fitter.py:1229\u001b[0m, in \u001b[0;36mSemiParametricPHFitter.fit\u001b[0;34m(self, df, duration_col, event_col, show_progress, initial_point, strata, weights_col, cluster_col, robust, batch_mode, timeline, formula, entry_col, fit_options)\u001b[0m\n\u001b[1;32m   1226\u001b[0m \u001b[39mself\u001b[39m\u001b[39m.\u001b[39mformula \u001b[39m=\u001b[39m formula\n\u001b[1;32m   1227\u001b[0m \u001b[39mself\u001b[39m\u001b[39m.\u001b[39mentry_col \u001b[39m=\u001b[39m entry_col\n\u001b[0;32m-> 1229\u001b[0m X, T, E, weights, entries, original_index, \u001b[39mself\u001b[39m\u001b[39m.\u001b[39m_clusters \u001b[39m=\u001b[39m \u001b[39mself\u001b[39;49m\u001b[39m.\u001b[39;49m_preprocess_dataframe(df)\n\u001b[1;32m   1231\u001b[0m \u001b[39mself\u001b[39m\u001b[39m.\u001b[39mdurations \u001b[39m=\u001b[39m T\u001b[39m.\u001b[39mcopy()\n\u001b[1;32m   1232\u001b[0m \u001b[39mself\u001b[39m\u001b[39m.\u001b[39mevent_observed \u001b[39m=\u001b[39m E\u001b[39m.\u001b[39mcopy()\n",
      "File \u001b[0;32m~/.cache/pypoetry/virtualenvs/blog--v8k-B20-py3.8/lib/python3.8/site-packages/lifelines/fitters/coxph_fitter.py:1306\u001b[0m, in \u001b[0;36mSemiParametricPHFitter._preprocess_dataframe\u001b[0;34m(self, df)\u001b[0m\n\u001b[1;32m   1304\u001b[0m \u001b[39melse\u001b[39;00m:\n\u001b[1;32m   1305\u001b[0m     sort_by \u001b[39m=\u001b[39m [\u001b[39mself\u001b[39m\u001b[39m.\u001b[39mduration_col, \u001b[39mself\u001b[39m\u001b[39m.\u001b[39mevent_col] \u001b[39mif\u001b[39;00m \u001b[39mself\u001b[39m\u001b[39m.\u001b[39mevent_col \u001b[39melse\u001b[39;00m [\u001b[39mself\u001b[39m\u001b[39m.\u001b[39mduration_col]\n\u001b[0;32m-> 1306\u001b[0m     df \u001b[39m=\u001b[39m df\u001b[39m.\u001b[39;49msort_values(by\u001b[39m=\u001b[39;49msort_by)\n\u001b[1;32m   1307\u001b[0m     original_index \u001b[39m=\u001b[39m df\u001b[39m.\u001b[39mindex\u001b[39m.\u001b[39mcopy()\n\u001b[1;32m   1309\u001b[0m \u001b[39m# Extract time, event and metadata\u001b[39;00m\n",
      "File \u001b[0;32m~/.cache/pypoetry/virtualenvs/blog--v8k-B20-py3.8/lib/python3.8/site-packages/pandas/core/frame.py:6766\u001b[0m, in \u001b[0;36mDataFrame.sort_values\u001b[0;34m(self, by, axis, ascending, inplace, kind, na_position, ignore_index, key)\u001b[0m\n\u001b[1;32m   6762\u001b[0m \u001b[39melif\u001b[39;00m \u001b[39mlen\u001b[39m(by):\n\u001b[1;32m   6763\u001b[0m     \u001b[39m# len(by) == 1\u001b[39;00m\n\u001b[1;32m   6765\u001b[0m     by \u001b[39m=\u001b[39m by[\u001b[39m0\u001b[39m]\n\u001b[0;32m-> 6766\u001b[0m     k \u001b[39m=\u001b[39m \u001b[39mself\u001b[39;49m\u001b[39m.\u001b[39;49m_get_label_or_level_values(by, axis\u001b[39m=\u001b[39;49maxis)\n\u001b[1;32m   6768\u001b[0m     \u001b[39m# need to rewrap column in Series to apply key function\u001b[39;00m\n\u001b[1;32m   6769\u001b[0m     \u001b[39mif\u001b[39;00m key \u001b[39mis\u001b[39;00m \u001b[39mnot\u001b[39;00m \u001b[39mNone\u001b[39;00m:\n\u001b[1;32m   6770\u001b[0m         \u001b[39m# error: Incompatible types in assignment (expression has type\u001b[39;00m\n\u001b[1;32m   6771\u001b[0m         \u001b[39m# \"Series\", variable has type \"ndarray\")\u001b[39;00m\n",
      "File \u001b[0;32m~/.cache/pypoetry/virtualenvs/blog--v8k-B20-py3.8/lib/python3.8/site-packages/pandas/core/generic.py:1778\u001b[0m, in \u001b[0;36mNDFrame._get_label_or_level_values\u001b[0;34m(self, key, axis)\u001b[0m\n\u001b[1;32m   1776\u001b[0m     values \u001b[39m=\u001b[39m \u001b[39mself\u001b[39m\u001b[39m.\u001b[39maxes[axis]\u001b[39m.\u001b[39mget_level_values(key)\u001b[39m.\u001b[39m_values\n\u001b[1;32m   1777\u001b[0m \u001b[39melse\u001b[39;00m:\n\u001b[0;32m-> 1778\u001b[0m     \u001b[39mraise\u001b[39;00m \u001b[39mKeyError\u001b[39;00m(key)\n\u001b[1;32m   1780\u001b[0m \u001b[39m# Check for duplicates\u001b[39;00m\n\u001b[1;32m   1781\u001b[0m \u001b[39mif\u001b[39;00m values\u001b[39m.\u001b[39mndim \u001b[39m>\u001b[39m \u001b[39m1\u001b[39m:\n",
      "\u001b[0;31mKeyError\u001b[0m: None"
     ]
    }
   ],
   "source": [
    "sample_cont_cox = CoxPHFitter()\n",
    "sample_cont_cox.fit(sample_cont_df, )"
   ]
  }
 ],
 "metadata": {
  "kernelspec": {
   "display_name": "blog--v8k-B20-py3.8",
   "language": "python",
   "name": "python3"
  },
  "language_info": {
   "codemirror_mode": {
    "name": "ipython",
    "version": 3
   },
   "file_extension": ".py",
   "mimetype": "text/x-python",
   "name": "python",
   "nbconvert_exporter": "python",
   "pygments_lexer": "ipython3",
   "version": "3.8.10"
  },
  "orig_nbformat": 4
 },
 "nbformat": 4,
 "nbformat_minor": 2
}
