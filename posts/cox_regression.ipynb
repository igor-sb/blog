{
 "cells": [
  {
   "cell_type": "code",
   "execution_count": 1,
   "metadata": {},
   "outputs": [],
   "source": [
    "from lifelines import CoxPHFitter\n",
    "import pandas as pd\n",
    "import numpy as np\n",
    "import plotnine as p9"
   ]
  },
  {
   "attachments": {},
   "cell_type": "markdown",
   "metadata": {},
   "source": [
    "The goal of Cox regression model is to asses the relationship of predictor variables to survival time of a certain event."
   ]
  },
  {
   "attachments": {},
   "cell_type": "markdown",
   "metadata": {},
   "source": [
    "## Introduction\n",
    "\n",
    "Let's start by creating a simple simulated dataset for survival models. We have 5 subjects labeled A to E. Each subject falls into one of the following categories:\n",
    "\n",
    "- They underwent a preventive treatment (x = 1) or did not (x = 0) before the study.\n",
    "- They either got a disease (event = 1) during the study or remained disease-free (event = 0).\n",
    "\n",
    "If a subject contracted a disease, the \"time\" column indicates the specific timepoint when they acquired it. For subjects who did not develop any disease throughout the study, we list the last time point we checked on them (considered as timepoint 6) and label event = 0.\n",
    "\n",
    "In simple terms, our only predictor variable is x, indicating whether the subject received preventive treatment. The event column is used to keep track of subjects who remained disease-free during the study (\"censored\"). Technically, if the study is long enough to capture all disease occurrences, the event column becomes redundant. However, most statistical packages for Cox regression require it regardless.\n",
    "\n",
    "Our objective here is to assess whether the preventive treatment (x) increases the survival time - a duration before contracting a disease."
   ]
  },
  {
   "cell_type": "code",
   "execution_count": 2,
   "metadata": {},
   "outputs": [
    {
     "data": {
      "text/html": [
       "<div>\n",
       "<style scoped>\n",
       "    .dataframe tbody tr th:only-of-type {\n",
       "        vertical-align: middle;\n",
       "    }\n",
       "\n",
       "    .dataframe tbody tr th {\n",
       "        vertical-align: top;\n",
       "    }\n",
       "\n",
       "    .dataframe thead th {\n",
       "        text-align: right;\n",
       "    }\n",
       "</style>\n",
       "<table border=\"1\" class=\"dataframe\">\n",
       "  <thead>\n",
       "    <tr style=\"text-align: right;\">\n",
       "      <th></th>\n",
       "      <th>subject</th>\n",
       "      <th>time</th>\n",
       "      <th>event</th>\n",
       "      <th>x</th>\n",
       "    </tr>\n",
       "  </thead>\n",
       "  <tbody>\n",
       "    <tr>\n",
       "      <th>0</th>\n",
       "      <td>A</td>\n",
       "      <td>1</td>\n",
       "      <td>1</td>\n",
       "      <td>0</td>\n",
       "    </tr>\n",
       "    <tr>\n",
       "      <th>1</th>\n",
       "      <td>B</td>\n",
       "      <td>3</td>\n",
       "      <td>1</td>\n",
       "      <td>0</td>\n",
       "    </tr>\n",
       "    <tr>\n",
       "      <th>2</th>\n",
       "      <td>C</td>\n",
       "      <td>5</td>\n",
       "      <td>1</td>\n",
       "      <td>0</td>\n",
       "    </tr>\n",
       "    <tr>\n",
       "      <th>3</th>\n",
       "      <td>D</td>\n",
       "      <td>4</td>\n",
       "      <td>1</td>\n",
       "      <td>1</td>\n",
       "    </tr>\n",
       "    <tr>\n",
       "      <th>4</th>\n",
       "      <td>E</td>\n",
       "      <td>6</td>\n",
       "      <td>0</td>\n",
       "      <td>1</td>\n",
       "    </tr>\n",
       "  </tbody>\n",
       "</table>\n",
       "</div>"
      ],
      "text/plain": [
       "  subject  time  event  x\n",
       "0       A     1      1  0\n",
       "1       B     3      1  0\n",
       "2       C     5      1  0\n",
       "3       D     4      1  1\n",
       "4       E     6      0  1"
      ]
     },
     "execution_count": 2,
     "metadata": {},
     "output_type": "execute_result"
    }
   ],
   "source": [
    "sample_df = pd.DataFrame({\n",
    "    'subject': ['A', 'B', 'C', 'D', 'E'],\n",
    "    'time': [1, 3, 5, 4, 6],\n",
    "    'event': [1, 1, 1, 1, 0],\n",
    "    'x': [0, 0, 0, 1, 1],\n",
    "})\n",
    "\n",
    "sample_df"
   ]
  },
  {
   "attachments": {},
   "cell_type": "markdown",
   "metadata": {},
   "source": [
    "In order to better visualize the events of getting a disease in this table, we can plot the data:"
   ]
  },
  {
   "cell_type": "code",
   "execution_count": 21,
   "metadata": {},
   "outputs": [
    {
     "data": {
      "image/png": "[encoded data removed]",
      "text/plain": [
       "<Figure size 640x279.134 with 1 Axes>"
      ]
     },
     "metadata": {},
     "output_type": "display_data"
    },
    {
     "data": {
      "text/plain": [
       "<ggplot: (8785234730400)>"
      ]
     },
     "execution_count": 21,
     "metadata": {},
     "output_type": "execute_result"
    }
   ],
   "source": [
    "def plot_subject_event_times(df, color_map='factor(x)'):\n",
    "    return (\n",
    "        p9.ggplot(\n",
    "            df, p9.aes(x='time', y='subject', color=color_map)\n",
    "        )\n",
    "        + p9.geom_segment(\n",
    "            p9.aes(x=0, xend='time', yend='subject'), size=2\n",
    "        )\n",
    "        + p9.geom_point(data=df[df['event'] == 1], shape='o', size=5, show_legend=False)\n",
    "        + p9.scale_x_continuous(expand=[0, 0], breaks=range(7))\n",
    "        + p9.coord_fixed(0.5)\n",
    "        + p9.theme_classic()\n",
    "        + p9.theme(\n",
    "            axis_line_y=p9.element_blank(),\n",
    "            axis_ticks_major_y=p9.element_blank()\n",
    "        )\n",
    "    )\n",
    "\n",
    "plot_subject_event_times(sample_df)"
   ]
  },
  {
   "attachments": {},
   "cell_type": "markdown",
   "metadata": {},
   "source": [
    "On this plot, lines indicate the duration of time each subject experienced before getting a disease. The \"getting a disease\" event is marked with a filled circle. Subject E does not have a circle since it \"survived\" the entire study without getting a disease (experiencing an event). Teal colors are used for subjects D and E, who had gotten a preventive treatment (x = 1). Red colors are for subjects A, B and C who had not gotten a preventive treatment (x = 0).\n",
    "\n",
    "Note: Throughout this post, we will focus on datasets where only one event occurs at each time. This simplification allows for a clearer understanding of the Cox model, as the mathematical equations become significantly more complex and can hinder intuitive comprehension when multiple events are tied."
   ]
  },
  {
   "attachments": {},
   "cell_type": "markdown",
   "metadata": {},
   "source": [
    "## Hazards\n",
    "\n",
    "Hazard represents the probability of an event occurring within a specific unit of time. It signifies the rate at which events take place and is measured in inverse time units. Unlike regular probability, which ranges between 0 and 1, hazard values can span from zero to infinity (e.g., 500 events per second). In a broader context, hazard can also vary over time. For instance, in the case of an event like \"diagnosis with cancer,\" the hazard tends to increase with time.\n",
    "\n",
    "In Cox regression, the hazard function, denoted as $h(t, x)$, is modeled in a manner akin to the odds in logistic regression. Logistic regression employs the odds ratio, represented as p/(1-p), to transform probabilities within the range of [0, 1] into odds, which have a skewed range of values: [0, ∞). Next, a logarithmic transformation is applied to the odds to produce values that reside within a symmetric interval of (-∞, ∞). This adjustment is made because the values derived from linear combinations of predictor variables also fall within the same interval.\n",
    "\n",
    "Similarly, in Cox regression, the logarithm is utilized to transform the range of hazard values from [0, ∞) to (-∞, ∞). This transformation generates values within the (-∞, ∞) interval,  through linear combinations."
   ]
  },
  {
   "attachments": {},
   "cell_type": "markdown",
   "metadata": {},
   "source": [
    "$$\n",
    "\\log h(t, x) = \\beta x + \\beta_0\n",
    "$$"
   ]
  },
  {
   "attachments": {},
   "cell_type": "markdown",
   "metadata": {},
   "source": [
    "The main assumption of Cox regression is that any time dependence in log-hazard is _only_ part of the intercept term, $\\beta_0(t)$:"
   ]
  },
  {
   "attachments": {},
   "cell_type": "markdown",
   "metadata": {},
   "source": [
    "$$\n",
    "\\log h(t, x) = \\beta x + \\beta_0(t)\n",
    "$$"
   ]
  },
  {
   "attachments": {},
   "cell_type": "markdown",
   "metadata": {},
   "source": [
    "As we will see later, this assumption is motivated mathematically, since it significantly simplifies the fitting process, but also works well in practice. Across the literature, the intercept term $\\beta_0(t)$ is usually moved to the left side of the equation and instead expressed as a _baseline hazard_ $\\log[h_0(t)]$:"
   ]
  },
  {
   "attachments": {},
   "cell_type": "markdown",
   "metadata": {},
   "source": [
    "$$\n",
    "\\log\\left[\\frac{h(t, x)}{h_0(t)}\\right] = \\beta x\n",
    "$$"
   ]
  },
  {
   "attachments": {},
   "cell_type": "markdown",
   "metadata": {},
   "source": [
    "From this equation, we can expressed the hazard $h(t, x)$:"
   ]
  },
  {
   "attachments": {},
   "cell_type": "markdown",
   "metadata": {},
   "source": [
    "$$\n",
    "h(t, x) = h_0(t) e^{\\beta x}\n",
    "$$"
   ]
  },
  {
   "attachments": {},
   "cell_type": "markdown",
   "metadata": {},
   "source": [
    "This equation does not seem particularly useful, unless we come up with a mathematical model for the baseline hazard $h_0(t)$?"
   ]
  },
  {
   "attachments": {},
   "cell_type": "markdown",
   "metadata": {},
   "source": [
    "## Fitting"
   ]
  },
  {
   "attachments": {},
   "cell_type": "markdown",
   "metadata": {},
   "source": [
    "It turns out, we can leave this pesky term $h_0(t)$ undefined, as it will completely cancel out when fitting a model, using a technique called Maximum Likelihood Estimation (short: MLE)! Likelihood is a probability of observing the data (here, survival times) given some model parameters (here, $\\beta$).\n",
    "\n",
    "How do we create an expression for likelihood in a Cox model?\n",
    "\n",
    "##### 1. Sort events by their survival times.\n",
    "\n",
    "_This is the only place where a survival time is used in a Cox model!_ In fact, as long as the ranking of survival times stays the same, their actual values _do not matter at all_. In our case:"
   ]
  },
  {
   "cell_type": "code",
   "execution_count": 4,
   "metadata": {},
   "outputs": [
    {
     "data": {
      "text/html": [
       "<div>\n",
       "<style scoped>\n",
       "    .dataframe tbody tr th:only-of-type {\n",
       "        vertical-align: middle;\n",
       "    }\n",
       "\n",
       "    .dataframe tbody tr th {\n",
       "        vertical-align: top;\n",
       "    }\n",
       "\n",
       "    .dataframe thead th {\n",
       "        text-align: right;\n",
       "    }\n",
       "</style>\n",
       "<table border=\"1\" class=\"dataframe\">\n",
       "  <thead>\n",
       "    <tr style=\"text-align: right;\">\n",
       "      <th></th>\n",
       "      <th>subject</th>\n",
       "      <th>time</th>\n",
       "      <th>event</th>\n",
       "      <th>x</th>\n",
       "    </tr>\n",
       "  </thead>\n",
       "  <tbody>\n",
       "    <tr>\n",
       "      <th>0</th>\n",
       "      <td>A</td>\n",
       "      <td>1</td>\n",
       "      <td>1</td>\n",
       "      <td>0</td>\n",
       "    </tr>\n",
       "    <tr>\n",
       "      <th>1</th>\n",
       "      <td>B</td>\n",
       "      <td>3</td>\n",
       "      <td>1</td>\n",
       "      <td>0</td>\n",
       "    </tr>\n",
       "    <tr>\n",
       "      <th>3</th>\n",
       "      <td>D</td>\n",
       "      <td>4</td>\n",
       "      <td>1</td>\n",
       "      <td>1</td>\n",
       "    </tr>\n",
       "    <tr>\n",
       "      <th>2</th>\n",
       "      <td>C</td>\n",
       "      <td>5</td>\n",
       "      <td>1</td>\n",
       "      <td>0</td>\n",
       "    </tr>\n",
       "    <tr>\n",
       "      <th>4</th>\n",
       "      <td>E</td>\n",
       "      <td>6</td>\n",
       "      <td>0</td>\n",
       "      <td>1</td>\n",
       "    </tr>\n",
       "  </tbody>\n",
       "</table>\n",
       "</div>"
      ],
      "text/plain": [
       "  subject  time  event  x\n",
       "0       A     1      1  0\n",
       "1       B     3      1  0\n",
       "3       D     4      1  1\n",
       "2       C     5      1  0\n",
       "4       E     6      0  1"
      ]
     },
     "execution_count": 4,
     "metadata": {},
     "output_type": "execute_result"
    }
   ],
   "source": [
    "sample_df.sort_values(by = 'time')"
   ]
  },
  {
   "attachments": {},
   "cell_type": "markdown",
   "metadata": {},
   "source": [
    "#### 2. Calculate likelihood for each time point\n",
    "\n",
    "We start from subject A that underwent an event at time = 1. The likelihood of this event for subject A is the hazard of subject A at time 1, $h_A = h(t=1, x)$ as a proportion of the sum of all hazards at that time for all subjects that are still at risk for undergoing an event: $h_A + h_B + h_C + h_D + h_E$:"
   ]
  },
  {
   "attachments": {},
   "cell_type": "markdown",
   "metadata": {},
   "source": [
    "$$\n",
    "L_A = L(t=1, \\beta) = \\frac{h_A}{h_A + h_B + h_D + h_C + h_E}\n",
    "$$"
   ]
  },
  {
   "attachments": {},
   "cell_type": "markdown",
   "metadata": {},
   "source": [
    "$$\n",
    "L_A = \\frac{h_0(t) e^{\\beta x_A}}{h_0(t) e^{\\beta x_A} + h_0(t) e^{\\beta x_B} + h_0(t) e^{\\beta x_D} + h_0(t) e^{\\beta x_C} + h_0(t) e^{\\beta x_E}}\n",
    "$$"
   ]
  },
  {
   "attachments": {},
   "cell_type": "markdown",
   "metadata": {},
   "source": [
    "$h_0(t)$ can be cancelled out from this expression, and after plugging in various values for $x$ we get:"
   ]
  },
  {
   "attachments": {},
   "cell_type": "markdown",
   "metadata": {},
   "source": [
    "$$\n",
    "L_A = \\frac{1}{1 + 1 +  e^{\\beta} + 1 + e^{\\beta}} = \\frac{1}{3 + 2e^{\\beta}}\n",
    "$$"
   ]
  },
  {
   "attachments": {},
   "cell_type": "markdown",
   "metadata": {},
   "source": [
    "Next, we move on to the second time point (t = 3) when subject B undergoes an event and we repeat this process. Keep in mind that subject A is now excluded, since it already experienced an event before:"
   ]
  },
  {
   "attachments": {},
   "cell_type": "markdown",
   "metadata": {},
   "source": [
    "$$\n",
    "L_B = \\frac{h_B}{h_B + h_D + h_C + h_E} = \\frac{1}{1 + e^{\\beta} + 1 + e^{\\beta}} = \\frac{1}{2 + 2e^{\\beta}}\n",
    "$$"
   ]
  },
  {
   "attachments": {},
   "cell_type": "markdown",
   "metadata": {},
   "source": [
    "We keep going until we write down likelihoods for all subjects that experienced an event (E is just left out):"
   ]
  },
  {
   "attachments": {},
   "cell_type": "markdown",
   "metadata": {},
   "source": [
    "$$\n",
    "L_D = \\frac{h_D}{h_D + h_C + h_E} = \\frac{e^{\\beta}}{1 + 2e^{\\beta}}\n",
    "$$"
   ]
  },
  {
   "attachments": {},
   "cell_type": "markdown",
   "metadata": {},
   "source": [
    "$$\n",
    "L_C = \\frac{h_C}{h_C + h_E} = \\frac{1}{1 + e^{\\beta}}\n",
    "$$"
   ]
  },
  {
   "cell_type": "code",
   "execution_count": 5,
   "metadata": {},
   "outputs": [
    {
     "data": {
      "text/html": [
       "<div>\n",
       "<style scoped>\n",
       "    .dataframe tbody tr th:only-of-type {\n",
       "        vertical-align: middle;\n",
       "    }\n",
       "\n",
       "    .dataframe tbody tr th {\n",
       "        vertical-align: top;\n",
       "    }\n",
       "\n",
       "    .dataframe thead th {\n",
       "        text-align: right;\n",
       "    }\n",
       "</style>\n",
       "<table border=\"1\" class=\"dataframe\">\n",
       "  <thead>\n",
       "    <tr style=\"text-align: right;\">\n",
       "      <th></th>\n",
       "      <th>subject</th>\n",
       "      <th>time</th>\n",
       "      <th>event</th>\n",
       "      <th>x</th>\n",
       "    </tr>\n",
       "  </thead>\n",
       "  <tbody>\n",
       "    <tr>\n",
       "      <th>0</th>\n",
       "      <td>A</td>\n",
       "      <td>1</td>\n",
       "      <td>1</td>\n",
       "      <td>0</td>\n",
       "    </tr>\n",
       "    <tr>\n",
       "      <th>1</th>\n",
       "      <td>B</td>\n",
       "      <td>3</td>\n",
       "      <td>1</td>\n",
       "      <td>0</td>\n",
       "    </tr>\n",
       "    <tr>\n",
       "      <th>3</th>\n",
       "      <td>D</td>\n",
       "      <td>4</td>\n",
       "      <td>1</td>\n",
       "      <td>1</td>\n",
       "    </tr>\n",
       "    <tr>\n",
       "      <th>2</th>\n",
       "      <td>C</td>\n",
       "      <td>5</td>\n",
       "      <td>1</td>\n",
       "      <td>0</td>\n",
       "    </tr>\n",
       "    <tr>\n",
       "      <th>4</th>\n",
       "      <td>E</td>\n",
       "      <td>6</td>\n",
       "      <td>0</td>\n",
       "      <td>1</td>\n",
       "    </tr>\n",
       "  </tbody>\n",
       "</table>\n",
       "</div>"
      ],
      "text/plain": [
       "  subject  time  event  x\n",
       "0       A     1      1  0\n",
       "1       B     3      1  0\n",
       "3       D     4      1  1\n",
       "2       C     5      1  0\n",
       "4       E     6      0  1"
      ]
     },
     "execution_count": 5,
     "metadata": {},
     "output_type": "execute_result"
    }
   ],
   "source": [
    "sample_df.sort_values('time')"
   ]
  },
  {
   "cell_type": "code",
   "execution_count": 65,
   "metadata": {},
   "outputs": [],
   "source": [
    "def event_time_and_x_from_subject(df, subject):\n",
    "    subject_with_event_df = df.query(f\"subject == '{subject}' & event == 1\")\n",
    "    if subject_with_event_df.empty:\n",
    "        return (np.inf, 0)\n",
    "    return subject_with_event_df.iloc[0][['time', 'x']]\n",
    "\n",
    "def subjects_at_risk_data(df, subject):\n",
    "    time = event_time_and_x_from_subject(df, subject)[0]\n",
    "    return df.query(f'time >= {time}')\n",
    "\n",
    "def subjects_at_risk_at_event_time(df, time):\n",
    "    subjects_at_risk = df.query(f'time >= {time}')['subject']\n",
    "    return pd.DataFrame({\n",
    "        'time': [time] * len(subjects_at_risk),\n",
    "        'subject': subjects_at_risk\n",
    "    })\n",
    "\n",
    "def subjects_at_risk_per_event_time(df):\n",
    "    all_event_times = df.query(f'event == 1')['time']\n",
    "    all_subjects_at_risk_at_time = [\n",
    "        subjects_at_risk_at_event_time(df, time)\n",
    "        for time in all_event_times\n",
    "    ]\n",
    "    return pd.concat(all_subjects_at_risk_at_time)\n",
    "\n",
    "def create_latex_expression_likelihood(df, subject, time):\n",
    "    subjects_at_risk = subjects_at_risk_at_event_time(df, time)['subject'].to_list()\n",
    "    likelihoods_at_risk = ' + '.join(['L_' + subject for subject in subjects_at_risk])\n",
    "    return r'\\frac{L_' + subject + '}{' + likelihoods_at_risk + '}'"
   ]
  },
  {
   "cell_type": "code",
   "execution_count": 126,
   "metadata": {},
   "outputs": [
    {
     "data": {
      "image/png": "[encoded data removed]",
      "text/plain": [
       "<Figure size 640x279.134 with 1 Axes>"
      ]
     },
     "metadata": {},
     "output_type": "display_data"
    },
    {
     "data": {
      "text/plain": [
       "<ggplot: (8785272398812)>"
      ]
     },
     "execution_count": 126,
     "metadata": {},
     "output_type": "execute_result"
    }
   ],
   "source": [
    "def plot_subject_event_times_and_mark_at_risk(df, subject, color_map='factor(x)'):\n",
    "    time = event_time_and_x_from_subject(df, subject)[0]\n",
    "    at_risk_annotation_df = subjects_at_risk_at_event_time(df, time)\n",
    "    likelihood_label_df = pd.DataFrame({\n",
    "        'x': np.max(df['time']),\n",
    "        'y': [len(df['subject']) + 1],\n",
    "        'likelihood': [create_latex_expression_likelihood(df, subject, time)]\n",
    "    })\n",
    "    return (\n",
    "        p9.ggplot(\n",
    "            df, p9.aes(x='time', y='subject', color=color_map)\n",
    "        )\n",
    "        + p9.geom_segment(\n",
    "            p9.aes(x=0, xend='time', yend='subject'), size=2\n",
    "        )\n",
    "        + p9.geom_point(\n",
    "            data=df[df['event'] == 1], shape='o', size=5, show_legend=False\n",
    "        )\n",
    "        + p9.geom_point(\n",
    "            data=at_risk_annotation_df, shape='o', color='black', fill='#ffffff00', size=5, stroke=0.75\n",
    "        )\n",
    "        + p9.geom_text(\n",
    "            p9.aes('x', 1.5, label='likelihood'),            \n",
    "            likelihood_label_df,\n",
    "            ha='right',\n",
    "            inherit_aes=False,\n",
    "            parse=True,\n",
    "            size=20,\n",
    "        )\n",
    "        + p9.scale_x_continuous(\n",
    "            expand=[0, 0], breaks=range(7)\n",
    "        )\n",
    "        + p9.coord_fixed(0.5)\n",
    "        + p9.theme_classic()\n",
    "        + p9.theme(\n",
    "            axis_line_y=p9.element_blank(),\n",
    "            axis_ticks_major_y=p9.element_blank(),\n",
    "            legend_position='right',\n",
    "        )\n",
    "    )\n",
    "\n",
    "\n",
    "from plotnine.animation import PlotnineAnimation\n",
    "from matplotlib import rc\n",
    "rc('animation', html='html5')\n",
    "\n",
    "def animate_subject_event_times_and_mark_at_risk(df):\n",
    "    subjects = df.sort_values('time').query('event == 1')['subject']\n",
    "    plots = (plot_subject_event_times_and_mark_at_risk(df, subject) for subject in subjects)\n",
    "    ani = PlotnineAnimation(plots, interval=2000, repeat_delay=2000)\n",
    "    return ani\n",
    "\n",
    "# animate_subject_event_times_and_mark_at_risk(sample_df)\n",
    "\n",
    "plot_subject_event_times_and_mark_at_risk(sample_df, 'A')"
   ]
  },
  {
   "cell_type": "code",
   "execution_count": 127,
   "metadata": {},
   "outputs": [
    {
     "data": {
      "text/html": [
       "<video width=\"640\" height=\"278\" controls autoplay loop>\n",
       "  <source type=\"video/mp4\" src=\"data:video/mp4;base64,AAAAHGZ0eXBNNFYgAAACAGlzb21pc28yYXZjMQAAAAhmcmVlAAAnS21kYXQAAAKtBgX//6ncRem9\n",
       "5tlIt5Ys2CDZI+7veDI2NCAtIGNvcmUgMTU1IHIyOTE3IDBhODRkOTggLSBILjI2NC9NUEVHLTQg\n",
       "QVZDIGNvZGVjIC0gQ29weWxlZnQgMjAwMy0yMDE4IC0gaHR0cDovL3d3dy52aWRlb2xhbi5vcmcv\n",
       "eDI2NC5odG1sIC0gb3B0aW9uczogY2FiYWM9MSByZWY9MyBkZWJsb2NrPTE6MDowIGFuYWx5c2U9\n",
       "MHgzOjB4MTEzIG1lPWhleCBzdWJtZT03IHBzeT0xIHBzeV9yZD0xLjAwOjAuMDAgbWl4ZWRfcmVm\n",
       "PTEgbWVfcmFuZ2U9MTYgY2hyb21hX21lPTEgdHJlbGxpcz0xIDh4OGRjdD0xIGNxbT0wIGRlYWR6\n",
       "b25lPTIxLDExIGZhc3RfcHNraXA9MSBjaHJvbWFfcXBfb2Zmc2V0PS0yIHRocmVhZHM9OSBsb29r\n",
       "YWhlYWRfdGhyZWFkcz0xIHNsaWNlZF90aHJlYWRzPTAgbnI9MCBkZWNpbWF0ZT0xIGludGVybGFj\n",
       "ZWQ9MCBibHVyYXlfY29tcGF0PTAgY29uc3RyYWluZWRfaW50cmE9MCBiZnJhbWVzPTMgYl9weXJh\n",
       "bWlkPTIgYl9hZGFwdD0xIGJfYmlhcz0wIGRpcmVjdD0xIHdlaWdodGI9MSBvcGVuX2dvcD0wIHdl\n",
       "aWdodHA9MiBrZXlpbnQ9MjUwIGtleWludF9taW49MSBzY2VuZWN1dD00MCBpbnRyYV9yZWZyZXNo\n",
       "PTAgcmNfbG9va2FoZWFkPTQwIHJjPWNyZiBtYnRyZWU9MSBjcmY9MjMuMCBxY29tcD0wLjYwIHFw\n",
       "bWluPTAgcXBtYXg9NjkgcXBzdGVwPTQgaXBfcmF0aW89MS40MCBhcT0xOjEuMDAAgAAAGVpliIQA\n",
       "F//+99S3zLLtU2+2C6j3op4mX0N1JQGblsTtOoAAAAMAAAMAAB68FzgCX4kK868AAAMAyoAYTZPP\n",
       "HhyBwcQA225jeIu2iJZwa5yTal+Z8cfykcq9TIP7ETCRYjb7/bRCkn5k1kVl0D/5ra4moqrXROnT\n",
       "RH2Krg2aF73dOZxW0NktaxZqDRoBbbW12MpcDNTaHl4BlBTIdgF7eC/p0x9s2dLriRm7D6SDQKO/\n",
       "VJlxMdmoKgpKLsDJCskgJcycjIW8/ELSelR0feukhOZv+aIJR/0lqMtbmKoYbDpRN2dWTX3/RFAq\n",
       "WrLP+kZG4EHj7tncNxVxb3NR1fpHUNz+qYzgff6GuJBoF3YwRtoOSYqL8vHiW4k8QpCz2XtNBYDd\n",
       "+WkD9O+OhQy2eyBMdLkvlN1O0LJygXEacwsmuAswGIOvLgVJcdcuBxzzdR9JoAYmL+HHWUK9ZhPx\n",
       "1+Lkat392nKMb4Z7ItqJRc9VFNb6rQ9h2q/yLpW91f3ZzcDdTQjTmkZbtm83wsSZ+V68Q8vO7FuF\n",
       "VtVUwF+I6wLCchruffSr+U7mu1fxhX/U+JzdWBJJdU35EJX9SN7YDHABdibiXU9rAYKx/DvsQ4+8\n",
       "MOxn1Ud63pkXPfY6hDbzN5KRPHt39D5PtRCRp3eRWZagZj0Th31aUgObwwGcLiiK1mJ7nXgfOI8K\n",
       "qSI5u8adtuMsMUFhJRYB2PLgfSQI+EHymFc6GOJRUU5szAGGQymwKcSHT03+EbDlAag4LJ17Cjod\n",
       "H1Xm8LKxEm1Xbr3o0m1AGP9/ySM9w8NTUJeJg3YXvzMxbLwE8RNKPLapQKeI+ssys6jqgh3CWky4\n",
       "kq+hf3x/v9SgFQ2jok6ESGYPXBIqFJEu3srtmsbkcbWgkERHwGLgIqZxh44lQ0jy1zfAd/SWBVpb\n",
       "rbpqC5UW5VyWBgHZKqOy5wFnTTEbmlCxlFsekTXsjMRtolgrXK6F+scaJ4XAdKxKgGzgDR3uG7OG\n",
       "0TaUflDRUKnYs7LeImbrhjgOYq61x5gn67faPV9pAoXE88jVJPfTv6Tb9af5vUZVFrHqmNwraNOL\n",
       "h1dwW3ZqqgCw8+ZLlf8HDBXCV+zAoHW+gF1pQUA4941AyaCxRY29UmgM2gY0ygZQ4vRptaNZR1FC\n",
       "9V3urBXKDzT2f/SM3eiuEBFcD4WaAkR3INz9uMPGlxM0bUwC15cEH0hdBMhATgcvMdfk1052c0S+\n",
       "kOUZRNawMJ8UdE0fT9ibwqk+FS/F4KN4z+xUERQyPp356pI7jZiV2+KfNj4Bu2+qKOF/9KhkYhzl\n",
       "ZRK3y4anwJPF4Lf+f6OnohoBwjlSr0eSJezrrPH/3J77q2lsD/6nUYu1HbqNDL3h3trU1267n8tW\n",
       "2iidH3zkPPAg4fv/dJ9UOeN4DPV+OkUcub75IfRUVdOWiIxY79JNYxLFonxkIWUVu4yZxDJkmMKo\n",
       "UBbHw+bqD7Yr9blHw1KKnZjSWiADSkdryaiR/pLCToMjDZT8rgo/wqWwzoTpsSwANbZSoLiLrSJe\n",
       "o7dngHwzkDpW/+04k5Tt9Sp3TJiWBvnjOe8p+R+Y0z/z/8wpyMhfdTQZtCwutgr0d4TbnX7DVDp1\n",
       "5NzGtpJobD9clONSYZQxr26OSh0Ndb9xsYe5G2eMSCv+sry1+Uj8ieVWHIkkMtMOC391Dtykm06d\n",
       "mnWAIy20NkOu/r2p2nJWEAC8u/KlwsDv6k0/77GynFMYpLIbRUzecmt8dvsRtm7ptEyXFWmmZ4MH\n",
       "z/+n1RD3CKJw7jThPlqNtdtX/J8NkkDvAuFIMUMLUUzJe7dFUnl7sTJJMGNRIgEyYB/7DsVs9KAu\n",
       "AAA5q8rAooaha1YYKJrWYU/nbkUxWDrxR6hac0vtosYQBSkJa4emA1aYgAyLG0dhV/+fU/ZUAKVh\n",
       "YycbgJjVdDc7fO77gHxoE8MTWCa/NvOa7rZdgJHnLDlMkkECJU+FkWKsC84SFKUSLSf0YPg6A01Y\n",
       "s3GAKQ1w9doaX5Lcj5mW+cErp/WyiAkwVYZSXUkS6pl93VWD/BMGRF/XegxAbWDetT3phn2v0Mff\n",
       "D6iulcp18Y7yHfFhWC75AKKZcqFl+KFHh+7D1JY6KcXbYAN//1sBS4bxCIc+3K3trLyNFcG7yLhs\n",
       "fgFSjUE28vgVI+nd1PSj18WFkfLy/Y+r9jprBFbMHIadcTrpgbd2uuFWhU527L2/UAsWke8go3DK\n",
       "LMpC1DjxT8B2xIu6xPN+DzvoWWEuWX5PLjWX2DPLUq1/MoY88IRNUGbQTu0iyBol+NxKFJOvNtv8\n",
       "qhV4mNc9x155bicbWkNT7acJBPEXOCKKJqknMZdthCZne8mw17y6LV5wWW1DE12pfM1/r5xEPvSp\n",
       "c1AyWygZI+1w5gaRkpZaetVpzce8to7mYu5NAZxTFQ04+0Vg5sOQJd6LtNiwzwAkwQN//zTMtMn4\n",
       "8MufzI006YUnhML590IvrZsRapEwAdpZauCFqPHr0lQGVDuO/3+LRiZOnf39+4dWlyE2LlEA8E9L\n",
       "3wyozJPS+rNp1EtS9peg9b791w6A6CI4EBAEklNMJCGzEk4shkSO0iE/Pg9I+hkgZDYBGjgdngvs\n",
       "GrXfdpFHAYTIRAdt+oYHZA9PYU/xU10vA3b/B3Cw5gy+g2VMIfd8LZEwA22E87iDeQ2jiJtHk/nv\n",
       "YWfvudugHmO2gO6Cmek+Jb3Wzq/rYsoinT5yYgX53xH4QrvdFmU+tyxoda+WNZRt+XIZtwK7XVQN\n",
       "u6TOeDCbZdLgJz2t9mbfn1wTJ1eoBhDirXeavo9HiyWk7asxGtJsGsFuCLH8GxrhhSP6CyrE4w6F\n",
       "gRNjQurJq6aChPNY6GfrCj/wwQmnLw6nBd4C3u2IEK0ESKasfV+1MLGEiuBGdbt69XZQFEFCZ3pZ\n",
       "9rC/Rl/ayALYCtEwRgF5SRg6VTVUcvoABWdtzMituWypwAbVh5hcPy9R8bnHsdSXwyq7KFxenf2W\n",
       "shGZWDYRzfmGjACkZSOkCixqehORMewxCP7QtrjRTkgc0gnjpgwuz7IZOXxn7AjpqOPkA1ibwx7t\n",
       "+7Z9wuE0u1epj/VLKCTD9NeVxWNIBiNMAme6w5Rz/pUZFAJdW/g/vGOddjsfMPOR5giOZUL6Yv02\n",
       "A5lnXEDPFNvv8hR28L+kL81XgmmBhR/9dOdh+hOf7e6HZv+GFe1EYeAkHNMxphGaYoT58gDA0o/Y\n",
       "WcHHVp70tVo/TxK2XmRsBotpBSr3OxlDS9GNL7nIVU/kbHsccBYpSynRs37fd3AoKDXPKJVhXaMq\n",
       "YqMXMOlAR4tOmsEONgHYJtgZN1TzvjNiwg/9MACk01N4UAVkwbvlDljazDOvMOsyYvfSkgydcaDx\n",
       "JvceZGvoRmo742DaXdyACGY13dLKJO5r512maQgXY/0JUZpKiiAoavxF0m7yERZmDb6/kCmmMGMy\n",
       "BPovKxMqrqhCfSZNQBSSIbQHtyJx8Yl1OJ+JjvkOpMUiFJ/KOT9gjT64QMzewVNgxun2+N79xZ37\n",
       "ALSNvpHZl4XhSEgGRAXFHOM777enpxelJBbB32q/lG3SbZyFBDnq2k3hft5m2Z3rDBCFwZnbfWdE\n",
       "tcnm9dJoOopzYDnvg6dZT38yKUyBnuss/BZ5nton4vB9Y+QpaxXA4sFrH/3rdqyLfw1AyMS9zpsk\n",
       "EHOa+GWYkhGGxV7dHiZMKQihX5dARin9PPy0zwyTaFJoLHVlHDVxa9w3AuJzUsJkdjJ17IrdbX6r\n",
       "900/+cxeHk4n/2U435vhhfYakjKA4IUeWQS1qcOlepo+EBIGMCCEkuNvWyikQ5dw4kT/5/WbqRHP\n",
       "P9YKmyTp45hFb5Hqs0XmMhfIq6YtbHyQKrlp7MaBY4+Bei+5Pft6ORDY1O+EHFxIxftMI19+qnHI\n",
       "wnMS3SueQB6XEBK6M+3scI64ly+MhTWGXdwTZ7u7x4sFa9Dn8uEtX2LSY/Td4/RX5HvXq2FsvdMH\n",
       "VDOlVSto3DHxTYrb1dTOKmmKV3cwZbAmW63TBlbA88SxzS/f8sV7VXCWq489eUDWO2uzPL/Z0gQw\n",
       "5cG5wZYMN5v5ylJ8UjAoUVH6SmcdLuOAB5iw+w36d0ifMzRqxLblvWQl44/ZbnWEYG17voXp2xZu\n",
       "+tkAAiJtkTfVx+95p5SDLUCGIPzIX3FHYMhOxsVcBcWF6B0yU0eHKoDKUpRfoLw9WLjZmdKymTac\n",
       "do60G+HYK7hWjHB+x03J10YCG1tY5F7nxR54JOz7WQVLt8moJveyg4yIZIdh3SSLzk96cfAgb7Ba\n",
       "jqDYfJGrrWyM2rZx5LFugDtA5poR1t/NHau+Exnme88EaGMo/IpabwNhfWRS1rieaYrcMuNApwD6\n",
       "l/2WDdSCt5FEot8eZ9fjWHP4X2hGxCJK0p0laAAHsbuy5biBkSLJfyftGpPbEA5yyOZAuAlydnsW\n",
       "ZeWZyIJhZq/QoQFlkSP0QF1SXJ4eg32vNpC7WWVysdGRLhWp4nM2i1O9J2jpYljZV58rWnJytuQd\n",
       "p1aNDL1+H2fu1adInRqYHhJHKmX7fLVmhT8GuVDqi5riC2zg/JRgg/fHuH8MfhsQayB/aT1Wrj/e\n",
       "tgcGGRY//Oh+QPf5t+F3zdqrgJgEJPLKFmdPq+78FCnKaXu0YJHLpH4MrM1rXqBkFl9YXmhgKuky\n",
       "YqePDDfH+wxJXtjuxBj7JqyemBAFALa4kef/Kcm7pu16kefMaVsGHVyVMHXgPCiBU2wzyPARjSid\n",
       "Y/ZqNRYkKKdBdNqTm756gjSv48SDF5Fx2+5MH0grARomvhit0MZGnzjkeDNTH5mZTec6pXeIFf6F\n",
       "mlzB7peZWRWzs5Mg+hAafz3wEgsvaJSBtel+6qTAgYCS9F/IRRGBZEbZtZlIaHnnjW5w/Vc6Uanr\n",
       "aLQRP3zOaPg3jynJaZ5uvG31DFqwEZZXxsRWKom4fDHYFAACSmIWQ/ZvM/gyyYbWSoGyyFGoBzNO\n",
       "j5wCXyEXpJSdiK9N9YuzTt8LHegYB8vWgDIP3cpZnw5oJXDZi6RTlXssh0TWX0vtYEfW8OBeGIlZ\n",
       "YY81UyBsBXu8DooqlUI8qYewlf/5sw10ejj9WW7E/3F28hnI/W59gBavzYgI5BQNKGbr/w1whisq\n",
       "Ni4ghMsxWC5m/BJWLOyFISHmjj4cw2HFR/hTO9tgwHyNU60mrQKG9MAos+XX6N/+CAhEZMungvsr\n",
       "xAxtoOPkkDkbAae9TaK7j7PRaqbe91F080/njRbjJ0xQdqhCtULGDifnuqf9NRGnG1S05ffbrXAl\n",
       "yoVpWFWSWM7G00EKdzkB4vpsY44rLEq/prafPzmSq0LxPv9uG6NJfHMGZw3BYxHYXR12euzE8339\n",
       "uYIq4S80F+fJ81ZpNw1IjfinD3EIAjmcpFqbzVLqU6LkdkIJMyq1vK2OCSQ/ZfCMLd8WvBKC+gK5\n",
       "Xk1T0lJhioGFKj6XisFx+B6VYeUxgODZhIzS1CSLfICDr0f7/n+l9HPiY7GINN04CFsMHWlqQqbs\n",
       "SGdschfE99/8n51if5wRuskh6GOU/0OKSU81aRbbnieKc6zCiysS0oczpq2BlY1oPbgtQu0SKYI2\n",
       "WsUpojTUeyalznOFNrO5lURO0ZEmCsOsa6j018MgCiaPQWno/aG86nsH5+oWxgu8mQ5MSzxa+ah4\n",
       "gX38+KWUK/OACedY3+qVZrurUCycq7iaDmO+i0XxH50w8CZ4FpqoV6sCV6r6xViRYibkekVmI23X\n",
       "E+dEN8FqCfgfgeR4fvJFwi2oG38YHNEGXIEA8DBbtu0es2uB9BTU1WgDQUzoY9RKU297vl/Vjurr\n",
       "RRmJa4PEwVwk6CME8lH0vz3TRBnxn/LOprP+ex30s/and2nOTVqeESMwh7yPOuxEcXwMsVre3OkE\n",
       "ocIWyRfNMIjm4cP6O00h1JQGfkNMsOQZ62wSLmnTe1xOYV+oSyWUlJIP3W29w5M3bgd7Jo0UXeyU\n",
       "QAvxuVBTyGCGB47F7X4CfhjlLRvz1/sBPcjiGvmvhM2juKE6KOosUImh5D4m5XLGe/q3ItIysAdO\n",
       "ETU4pW1tgEgdkK6goC067VC5t8/qNG7iiWOhYXQqS3kE4F5O/N8A7uy0ljmgR//rtPAspCDCb/33\n",
       "TTwm/v0Uo0JXBdEaTki9dOTeRx9j6PBAhM9C/OMjZx6EdGkZYEf/emv/WzeaxC9s0jtxwIkBnFLG\n",
       "vXbFUKiu+sQdxuHSRQJozx+fkRZXvQYlf14HGFyikexEO1p3Rt9PzJfE1vcatTDAUhEI2zNGqDi2\n",
       "6C/XSrf/uJt5x83tJ5FY24pJDn+/SXK/tN0JcI6xIrjKovfx8NflyoOsJhNhD5SrWNnVa0F9QBFr\n",
       "+L03YixrDoD+bcDa1Q3uGakzYK9Pz0DTZaFqN/A7Xx62Jp19vQGccSu4p7n6V4+IgjkigRlffhaf\n",
       "Dcn/qmRw5g5FZOZxbOCJMaIANm7yGFQL0z/dub2xkiWohZmSdg3UUM5yg4tKoU5D5Yllj73d7zNT\n",
       "7z+ENTxzNwfvD7h9+VC20xlzSRaSdoRkvK5rvh8O4vLi2GwPI/qhnOP/oOz21DlmkZ29ly4bEBcR\n",
       "BHt9tMv4U9E9g/Eaczrxy/4pBcJbugcK/WNfiyZZivD3Mst4h1/JBeS00fOG8lsm9EvfbeTr8oYF\n",
       "lvNFxo4+ienjDaukplqevKxf1RLqM1tR5bOIE0S66Ei6B4j0y4mH4QhQ7adOMN1Z4/p4+vBEdkzm\n",
       "u3EDtRYoZwvCDfV0jeGkY8nCG0wWLv8Ap2DOlZWS5/2+K8POms2T6w6fsXU+Q9H0IFm+bPtM4l3A\n",
       "FnDK4hDQAuyyG6lPyGR7iok2lb5TFJY4SKgOdSQL0G4VfdyLRIVQMafimqBjvkb/KSqXl0Q2E2E9\n",
       "Of33Noak1drxUbjSBVCOk+sNTeG/kFKDypYWdaH7u5d9vcjKfN8knIdMtUSW1RUhMyR/dinB0A90\n",
       "Gp0gaj5BFjpNE6CTAxq6FhQNvPq3qQGGaC2ZQyGQ0//+xrHkeDbXTdK0//rApT9tmW7PvtZR/zO2\n",
       "QVozbMEsnVEc9US7qXGWn2diPzKOMQ9fBaUE+4mF6X+q60P+Jc/a8ySiTXM9ifj572KIzIL/p28x\n",
       "1wKAL5zIx7HM+jytKZnMxBSsr3lHxHMSkX0tSuu6ThSsjHnGveOiQ31g6XIhEEIqq6gkOredAqaK\n",
       "8g/OlZDG++8vlvDTSkvHX+e5sRXo7IVOZ+VHMgS7ZBrC0557MIRJDPr/dfKSP/68FftiqJ0VsrNd\n",
       "2hsNwLIDRX5lB1AkycGwSYycYjSY+S4UhwihNj9Pi7016ZBZ9A7bI3zSM1v3ND638Sfw7dgQ9qJq\n",
       "DNfL3uG+JE9W9wy9sbeeYxCCFpSffe9G+mSf70TtCOrZot9ComG6BkmvjAr2T5IMM6lpihVGHBzb\n",
       "833F74la76G5urPqy1n1RGpBY7clhvmb/LV5rbnoL35DRDGiQ5j3UdUZK0NUULCmKf6gplLqSM2A\n",
       "ETq/OF+soVIlLxgZK17VgvXW33xj8Yu7r1Dqkrxue9wdbqnJc5neqAFkantgb/+9pUhQUhwGazYb\n",
       "4nvEr/v58sTUd65zYw6yrH13BHCVk3OKCjn80z/3kMWbWdko8FXJAnglpqNGG35XPs6cV6Far9yF\n",
       "jp/euwJurl0WRHsUbNJv8ulT2InfvEfrWpeApk71UXigDGB8A2stVZhzsCr5go7O7uN/vim7kAzf\n",
       "C9kX+T1NEZgRG44uGMCQdFD/pZMOQMcglUD5249cSWCIuft1CBHoWeDDJnCLX8gbp+J43h3Zzb1h\n",
       "2S2MaZ26pgGt2MAqKbl0FQnQbszMHIQ8asde1+JtJCmszJyirqx+k8k8ZnYaXB8g9lg4DjmJbccx\n",
       "Z5XbfdS4yGtSm+PtR/t0FM/Wxd7tyx1D+zVA2jN7cndvk43rY1Gz62cHZARDg7tQeWyFgLe44RPE\n",
       "YkCQRx5FmA/5FDni3HLGi3noI03cSKo2M9/kjTjE+RXVCXQ6TwXa6MJSniL3mRid9p+5Wbj+k0C0\n",
       "PL1N8deQLV7PVGXDH5bpR8hG67zZ3Im5ZhmFDO9RRYVdQ/8NRTX9RHZbOXsa0dgu2vNgihIlohxo\n",
       "yTjYtywxuUj1pJeT+SpavoL7RVRPyMGBYP4qomfn+Nh3eTnJ4tcPX9rruoDXZWVS5zRp8yspRHeD\n",
       "axh6zmizoyLiXRQ+CQ/bZSoZjwm79ayZJDgUnEpy/32nIAo5j3SdxHLch5J442l7awpKjZk4/q3R\n",
       "qv5/ec7pfRBNp/aHEAR5VcRfq6ekIvK2SN3vItamFU5WaKZmIbicEIDxfWaT2s727DyCZrr7RgGn\n",
       "B2UT+bSLQYDcg/KSttN6Smm3JSzGAGUuIdYtmh+9V/yKMqlPrH7mhoDw5XTG+rucRE95g5DPtSmM\n",
       "qRuV2T9HbyuvhHyZBCRuazRJj8N+MlWYCGN8Z7yVS3SexI4Gu8/3eRUy3jYGrnsju0K51aLTJz1B\n",
       "FGlzUQPoSMVJAYxRo9sQT/QD/mx/GJl00+HHrSY9CP6Q+C4F9bQTMpdaU5Mb853tCoPANOTreLUy\n",
       "dRboYOXD1rKm892n6VyI2v1Z+9aNSM5zb5P7TjWiK9bzhW8HG80gHYFaqNViaIeKYN/nHMQAJBJO\n",
       "aJzshoI7V6jmtvvCOUXx4OhyFjIkFeRcdnVnKBeSAKaw1kn13l2KDJZNp/NBAAAD5EGaI2xBX/7W\n",
       "pVAAlP4yxaSItA6PJOlrSRwAiFTbQB01VL6X6LmgqA4C44itSfxVTmFMQz6itS9h7gHo6T2Uvv0T\n",
       "llIv83C1WLjyDPMv9huQRnlXp645p4V0R1g/MxNWKKlW+ovBsLHuSvkxffoU5htIqe9o/5LQDB0T\n",
       "TbM2YzE9/ZsssbpOt+5GLr3+2qEJ22k6aDjBeFTHMX6lVs6ggEw8cYhtd2GNAXSwZweyauBaN9MC\n",
       "todan9ktHFWhAYAxSBX1X05pLVw+Jo9VdXelAH/hHaJgKemNY4gPbP20YqJtoL8DoZpaRLo/S6Nz\n",
       "iUS3E2E5ee32Fgs779jXEeCCUM+lfur9QwWZzWga+wqLejvNJpfyv7CdTPyCSM+drfHHZW8NBOMl\n",
       "7TF8cm6seIv0HzjiIk6u2x2gDG5J0ZGbHO3MPRsU847YXw5r8i1i+3KUknRuQm1CbjJFEwlJFslV\n",
       "u7WaZ0npMz6GrOnGHicPnNgKmlg71PQZ3ptEH9UjNZ6tO47F5bQADscW/UZ1tIGeQ/gpEtHZLBDi\n",
       "StSh08pzPFy5s0Z6ezQv2Lfa1YntErhP0vbU1ur9DXlqdxExBsrd/A1eX3NDsx1ZKRHu9MjOur6H\n",
       "KCWyRFDPpwT85nZVql2phourbtoQ/nzaNosEDitr70NmdSdSHGmaXS5nGbW9lFzFnilJe2f9XCtm\n",
       "9/9YrWM8iUh5zAIQAZNIkJlgoEaLxbxvXkaC22mJnypB6qxyasZN1JMzBAEBqYHZhD/EleH5oo+P\n",
       "cyD0vKCDxDXAtOAWL84mtwXkhMXfPecuX+GOH8cIXZHHOCZhFuayq4uWifrCiCrvGv0kb8k18H4Z\n",
       "IMVFZ5+SJs1/glX546KwK5j+MvCyq3SEo6iTWaKNWDbPWJTzxFw8vb6CfO9W798VJB+T9KiA2daL\n",
       "lKp8VpJlTqYQD70N0B2wvx9HxOq7osllNQKTAZ53Ov1fWRkffTK63NOkqJlVpC/Jpe1VNw4XhFlD\n",
       "bgRGDLLQxKwOnSepH5E2LLxJbN4xTdZw6ahRKW3LKA05E3XVkluy5yA8rBiZm0CiZrIj3EWnqcyA\n",
       "AAEIoGoybU2YSbGYMD2TMI0g0htoe2wPTwRwA12Aa3dVeMv8nX0BsbluoGuTO7kVYXFv5u0GHiMD\n",
       "QCHGSn0iSkAADV0xQkloEZFvO9LdhxB9WiOelZumn9wXK7r7WYzyQrfiOg3fu2fv1XOxAU8nJ3wk\n",
       "uGmCpUoH9GdriUbunD8EN2OB4npPpuqW3qD8ir/X21N7vJ+3GiVIFrJnCy+EXdilVeyILda7cTxw\n",
       "tFwAtYhNzkyiC6/JC5+endfnQAAAA/NBnkF4gr8AAGQpxLhFlmVoVueYtIHCADornes879ZGJhAm\n",
       "By5fAiP58+TxcOLhL2Spow1jDUoblf13fDmtfNU3kZ8492DWPVU1QDCfzewZ5GIMHlKSLmmERwO0\n",
       "3yy5iovldu073Jk9jRpntvsBlRTJPuPTngo8YS5j9qhvY673oTZFmCpsEv//V/IEGcHm4pPa0c2w\n",
       "x76iWC8TemgKgfUeLo9VH3pAyZ/MAZHx7K3kRzHWIgAPoONXY5//HeUIQTH+bbYY3TOfhY8vgsN9\n",
       "AYo6BNzG3pBPMfG9QxNGNDlFl/vfxqT79MWT55krCRSFcZ/TzUbucT5kOzgzSsMxY9VugraRqOEq\n",
       "TSsu08hFwKD0exTim07sCaH/GHZXIXh7hMMbt/uGW8v1kuOmzfV+/qsUhF9cTgUN9azlscDJs4O/\n",
       "0L9MFv6A5RdwRZvXAE/VvZlj08GwIjGpggCBclD2IPGQd1f8nKlUVl+SJI8GgXTxBGdwSA5wfGqL\n",
       "U9U8jeifGsA4hRmWnLdJxHFt9cc69LxSjimnjzxJCvlkF7a+xsvn+dsWc5GgtCvET99a9LZNKFzb\n",
       "z4ELuurv0zyOx4ZT56g8Zmc9PSgoYZlcRwIxSGeXu5ydhN3oLvhDm6k5bHgPpwOxInihLaNhcQpc\n",
       "LQoANqVrdwXXbiDLVexSSJ48dyISt/ucgNsbBFn4ETj0qlglUwV1dqreMZQvY2Sa6/QRAVRv7WfR\n",
       "qm/QbHe97/Jri4Cot6OwSluv9JVD2qqW/OFz9QQz3+c/eqIeJNiZhjqIriM6wCSdKQ/OOp6yyoeL\n",
       "G2yaDWjNC94FkWr6BVKq0GS0jktYP3IrYNilqd6USjqa8eGK+lK9hKvzvyYevm5R/izwaq6gdg7Y\n",
       "3lnETMZJ6ij9H63/3DX0AZTArw6TZnViy+op5SXjfOwhogZIN3SnQN9qZmWmN40TuRwrX8/ioV5F\n",
       "f0LgSpf/vyty2AeJLoMAB5g/5BvM3+o+cRoY+7Bdz35Xpg58nAEgO6YTNtVR48gdIp3/YYNQ4et6\n",
       "erpABgQcEZldSSa+XCz1k+G5HDc8c8GLXPmiAZP8V85dND4V+DcFIXV8jMYCfi97d8lrNAC0jlez\n",
       "Va1EM/i+iD15T4yfvXAf44j7FvOjGakfDWJX5ssls4tobmBD/eqGTKP+h52XviBZcAieJLEGyiRe\n",
       "NFjjzB75Ul9fOjPB/g4YKQOPm5wldFrnoxmpO1RLvwUJPOXXxKWKXGKFivEIshCwy2pujz+JP/Aa\n",
       "HOswboL5PENVZfcqrDQOMR5cpJObM11/Q43OaOy9YKmXG6wFYQAAVknkdxZBrFF2IN0jrwr4mspP\n",
       "43EYjRHwnYEAAANRAZ5iakFfAABLJ1XxZcUSRo+PGNi5sAEOsPqhaJ7EPVAQVRZY78N75j7/4BCU\n",
       "zRmcKytsTIH133pNkdQ2BdMu0+fSkEDp0Nb4pEqMGz/QhplOQAjxj1Il/frQrZZxvDlCGRQx2CoB\n",
       "6v9dXzh0/ObtvMk43cSKS9o5j1hAHZyo4tbCVGG6V2cZH4MR6fmE612mfS2XM+c2TjLJfK78IjgF\n",
       "uAUydxqfwwlgBJsFZH/A9ZAwXcdSuHgu9KU0Sd+4KTje2iAelAH/hmePEfMzYqyn+wAHAqclKsx0\n",
       "DJFU8K0g99+fSjQSNKcc9AcfU8Nizt+/MU37QEas/k77QV5IM5Crx6LWJ64EUF5zPQdc8+AHeLKM\n",
       "9Wq+iMMW8zC5EYtjyXLXtbuLf971tSeGZrkx9w6LltuJBp5IopXclByy6WdsYhTEdqsSd/iy+GUI\n",
       "YeUiXJt7navUa5k0xkkZhkZw7sys8Zk2IpjhVzcBkKDHg56Uuv7LMvtb6BQHy1p2x6P4TcuttSqH\n",
       "j4zWtvPhhk91lxZwhfh0nuuilljSfnpbsDL/l3Xeutu5wd+ckcHu252WQMlEe0VSSTP++7yZZHLk\n",
       "F4EeV9NJb3dTfuJCYfScQblgVnWQrdgxUP7d7Q4uyWLp0kEWFGysn//zPV+eIC6S5g6e2Qib6s0s\n",
       "NBSrGO4A2obhNHG1a7o7NqqhgOP8IwCU2V9xugV7NFGtfKSUL1ob9CKAbGHO5DMZCjrHBNkn4qt7\n",
       "DwsVQZYbzZ8VmGl4TZN6Kb0zwlgcbgOUYLdASs8Q03fPUZno0puZVt2k8KhM0yTKf0b0fciTyv88\n",
       "qoj5QoOyx83ETIuBRNtctulwPYLsLABIuK8OBFVDfUKOJiVRvn7EPGOAefGhYcHPiV/LR7/5PurU\n",
       "fpo1I+UjAUaLu2fG55J5tI/yPnZLC0C+2dlUmhvBT9ApCxIZ4njZ1w3nU3hfjp950eQBAt//HG10\n",
       "Ss78huHp5uYeyn/JTT5BkwGmtCfAJL6xHngsu4AC13gd09AWBV9PHr0YcdlBssDYNl+QMTmz+/1C\n",
       "j1gawBaL8ACYNpyia3AWo2W8zWsysBw5QkeC3W8zPOQa689miOmfcBVry+Z7o0Jqc/H7arIbRlGt\n",
       "7ewGUEh4AAADV21vb3YAAABsbXZoZAAAAAAAAAAAAAAAAAAAA+gAAB9AAAEAAAEAAAAAAAAAAAAA\n",
       "AAABAAAAAAAAAAAAAAAAAAAAAQAAAAAAAAAAAAAAAAAAQAAAAAAAAAAAAAAAAAAAAAAAAAAAAAAA\n",
       "AAAAAAAAAAIAAAKBdHJhawAAAFx0a2hkAAAAAwAAAAAAAAAAAAAAAQAAAAAAAB9AAAAAAAAAAAAA\n",
       "AAAAAAAAAAABAAAAAAAAAAAAAAAAAAAAAQAAAAAAAAAAAAAAAAAAQAAAAAKAAAABFgAAAAAAJGVk\n",
       "dHMAAAAcZWxzdAAAAAAAAAABAAAfQAABAAAAAQAAAAAB+W1kaWEAAAAgbWRoZAAAAAAAAAAAAAAA\n",
       "AAAAQAAAAgAAVcQAAAAAAC1oZGxyAAAAAAAAAAB2aWRlAAAAAAAAAAAAAAAAVmlkZW9IYW5kbGVy\n",
       "AAAAAaRtaW5mAAAAFHZtaGQAAAABAAAAAAAAAAAAAAAkZGluZgAAABxkcmVmAAAAAAAAAAEAAAAM\n",
       "dXJsIAAAAAEAAAFkc3RibAAAALRzdHNkAAAAAAAAAAEAAACkYXZjMQAAAAAAAAABAAAAAAAAAAAA\n",
       "AAAAAAAAAAKAARYASAAAAEgAAAAAAAAAAQAAAAAAAAAAAAAAAAAAAAAAAAAAAAAAAAAAAAAAAAAA\n",
       "ABj//wAAADJhdmNDAWQAFf/hABlnZAAVrNlAoCX5oQAAAwACAAADAAIPFi2WAQAGaOvjyyLAAAAA\n",
       "HHV1aWRraEDyXyRPxbo5pRvPAyPzAAAAAAAAABhzdHRzAAAAAAAAAAEAAAAEAACAAAAAABRzdHNz\n",
       "AAAAAAAAAAEAAAABAAAAKGN0dHMAAAAAAAAAAwAAAAEAAQAAAAAAAQACAAAAAAACAACAAAAAABxz\n",
       "dHNjAAAAAAAAAAEAAAABAAAABAAAAAEAAAAkc3RzegAAAAAAAAAAAAAABAAAHA8AAAPoAAAD9wAA\n",
       "A1UAAAAUc3RjbwAAAAAAAAABAAAALAAAAGJ1ZHRhAAAAWm1ldGEAAAAAAAAAIWhkbHIAAAAAAAAA\n",
       "AG1kaXJhcHBsAAAAAAAAAAAAAAAALWlsc3QAAAAlqXRvbwAAAB1kYXRhAAAAAQAAAABMYXZmNTgu\n",
       "MjkuMTAw\n",
       "\">\n",
       "  Your browser does not support the video tag.\n",
       "</video>"
      ],
      "text/plain": [
       "<plotnine.animation.PlotnineAnimation at 0x7fd7b06eb7f0>"
      ]
     },
     "execution_count": 127,
     "metadata": {},
     "output_type": "execute_result"
    }
   ],
   "source": [
    "animate_subject_event_times_and_mark_at_risk(sample_df)"
   ]
  },
  {
   "attachments": {},
   "cell_type": "markdown",
   "metadata": {},
   "source": [
    "#### 3. Find $\\beta$ for which sum of log-likelihoods is maximal"
   ]
  },
  {
   "attachments": {},
   "cell_type": "markdown",
   "metadata": {},
   "source": [
    "If each event occurs independently of each other, the total probability (likelihood) is simply the product of individual likelihoods $L = L_A L_B L_D L_C$. However, products of many expressions that contain exponential functions can produce very large numbers that can lead to large numerical errors, so typically this likelihood is log-transformed. Logarithm of a product then becomes a sum of logarithms across all subjects and we call this expression \"log-likelihood\":"
   ]
  },
  {
   "attachments": {},
   "cell_type": "markdown",
   "metadata": {},
   "source": [
    "$$\n",
    "\\log L = \\log L_A + \\log L_B + \\log L_D + \\log L_C\n",
    "$$"
   ]
  },
  {
   "attachments": {},
   "cell_type": "markdown",
   "metadata": {},
   "source": [
    "### Implementation\n",
    "\n",
    "We can implement this algorithm in Python:"
   ]
  },
  {
   "cell_type": "code",
   "execution_count": 8,
   "metadata": {},
   "outputs": [],
   "source": [
    "def log_likelihood(df, subject, beta):\n",
    "\n",
    "    x_subjects_at_risk = subjects_at_risk_data(df, subject)['x']\n",
    "    x_subject = event_time_and_x_from_subject(df, subject)[1]\n",
    "    at_risk_hazards = np.exp(beta*x_subjects_at_risk)\n",
    "    return beta*x_subject - np.log(np.sum(at_risk_hazards))"
   ]
  },
  {
   "cell_type": "code",
   "execution_count": 9,
   "metadata": {},
   "outputs": [],
   "source": [
    "def neg_log_likelihood_all_subjects(df, beta):\n",
    "    subjects = df.query(\"event == 1\")['subject'].tolist()\n",
    "    neg_log_likelihoods = [-log_likelihood(df, subject, beta) for subject in subjects]\n",
    "    return (\n",
    "        pd.DataFrame({\n",
    "            'subject': subjects,\n",
    "            'neg_log_likelihood': neg_log_likelihoods\n",
    "        })\n",
    "    )"
   ]
  },
  {
   "cell_type": "code",
   "execution_count": 10,
   "metadata": {},
   "outputs": [
    {
     "data": {
      "text/html": [
       "<div>\n",
       "<style scoped>\n",
       "    .dataframe tbody tr th:only-of-type {\n",
       "        vertical-align: middle;\n",
       "    }\n",
       "\n",
       "    .dataframe tbody tr th {\n",
       "        vertical-align: top;\n",
       "    }\n",
       "\n",
       "    .dataframe thead th {\n",
       "        text-align: right;\n",
       "    }\n",
       "</style>\n",
       "<table border=\"1\" class=\"dataframe\">\n",
       "  <thead>\n",
       "    <tr style=\"text-align: right;\">\n",
       "      <th></th>\n",
       "      <th>subject</th>\n",
       "      <th>neg_log_likelihood</th>\n",
       "    </tr>\n",
       "  </thead>\n",
       "  <tbody>\n",
       "    <tr>\n",
       "      <th>0</th>\n",
       "      <td>A</td>\n",
       "      <td>2.877968</td>\n",
       "    </tr>\n",
       "    <tr>\n",
       "      <th>1</th>\n",
       "      <td>B</td>\n",
       "      <td>2.820075</td>\n",
       "    </tr>\n",
       "    <tr>\n",
       "      <th>2</th>\n",
       "      <td>C</td>\n",
       "      <td>2.126928</td>\n",
       "    </tr>\n",
       "    <tr>\n",
       "      <th>3</th>\n",
       "      <td>D</td>\n",
       "      <td>0.758624</td>\n",
       "    </tr>\n",
       "  </tbody>\n",
       "</table>\n",
       "</div>"
      ],
      "text/plain": [
       "  subject  neg_log_likelihood\n",
       "0       A            2.877968\n",
       "1       B            2.820075\n",
       "2       C            2.126928\n",
       "3       D            0.758624"
      ]
     },
     "execution_count": 10,
     "metadata": {},
     "output_type": "execute_result"
    }
   ],
   "source": [
    "neg_log_likelihood_all_subjects(sample_df, 2)"
   ]
  },
  {
   "cell_type": "code",
   "execution_count": 11,
   "metadata": {},
   "outputs": [],
   "source": [
    "def neg_log_likelihood_all_subjects_betas(df, betas=np.arange(-5, 5, 0.5)):\n",
    "    loglikelihoods_per_beta = []\n",
    "    for beta in betas:\n",
    "        beta_df = neg_log_likelihood_all_subjects(df, beta)\n",
    "        beta_df.insert(0, 'beta', beta)\n",
    "        loglikelihoods_per_beta.append(beta_df)\n",
    "    return pd.concat(loglikelihoods_per_beta)"
   ]
  },
  {
   "cell_type": "code",
   "execution_count": 12,
   "metadata": {},
   "outputs": [],
   "source": [
    "def plot_cost_vs_beta(df, betas=np.arange(-5, 5.5, 0.1)):\n",
    "    negloglik_beta_df = neg_log_likelihood_all_subjects_betas(df, betas)\n",
    "    return (\n",
    "        p9.ggplot(negloglik_beta_df, p9.aes('beta', 'neg_log_likelihood', fill='subject'))\n",
    "        + p9.geom_col(width=betas[1]-betas[0])\n",
    "        + p9.scale_x_continuous(expand=[0, 0])\n",
    "        + p9.scale_y_continuous(name='negative log-likelihoods (\"cost\")', expand=[0, 0])\n",
    "        + p9.theme_classic()\n",
    "    )"
   ]
  },
  {
   "cell_type": "code",
   "execution_count": 13,
   "metadata": {},
   "outputs": [
    {
     "data": {
      "image/png": "[encoded data removed]",
      "text/plain": [
       "<Figure size 640x480 with 1 Axes>"
      ]
     },
     "metadata": {},
     "output_type": "display_data"
    },
    {
     "data": {
      "text/plain": [
       "<ggplot: (8785239008684)>"
      ]
     },
     "execution_count": 13,
     "metadata": {},
     "output_type": "execute_result"
    }
   ],
   "source": [
    "plot_cost_vs_beta(sample_df)"
   ]
  },
  {
   "attachments": {},
   "cell_type": "markdown",
   "metadata": {},
   "source": [
    "Large bars = small likelihoods\n",
    "\n",
    "If $\\beta$ is negative, then the hazards of subjects with x = 1 (A, B, C) get suppressed"
   ]
  },
  {
   "cell_type": "code",
   "execution_count": 14,
   "metadata": {},
   "outputs": [],
   "source": [
    "def total_log_likelihood(df, beta):\n",
    "    subjects = df['subject'].unique()\n",
    "    sum_log_likelihood = 0\n",
    "    for subject in subjects:\n",
    "        sum_log_likelihood += log_likelihood(df, subject, beta)\n",
    "    return(sum_log_likelihood)"
   ]
  },
  {
   "cell_type": "code",
   "execution_count": 15,
   "metadata": {},
   "outputs": [],
   "source": [
    "def total_loglik_vs_beta(df, betas=np.arange(-5, 5, 0.1)):\n",
    "    total_log_likelihoods = [total_log_likelihood(df, beta) for beta in betas]\n",
    "    return(\n",
    "        pd.DataFrame({\n",
    "            'beta': betas,\n",
    "            'total_log_lik': total_log_likelihoods\n",
    "        })\n",
    "    )"
   ]
  },
  {
   "cell_type": "code",
   "execution_count": 16,
   "metadata": {},
   "outputs": [
    {
     "data": {
      "text/html": [
       "<div>\n",
       "<style scoped>\n",
       "    .dataframe tbody tr th:only-of-type {\n",
       "        vertical-align: middle;\n",
       "    }\n",
       "\n",
       "    .dataframe tbody tr th {\n",
       "        vertical-align: top;\n",
       "    }\n",
       "\n",
       "    .dataframe thead th {\n",
       "        text-align: right;\n",
       "    }\n",
       "</style>\n",
       "<table border=\"1\" class=\"dataframe\">\n",
       "  <tbody>\n",
       "    <tr>\n",
       "      <th>model</th>\n",
       "      <td>lifelines.CoxPHFitter</td>\n",
       "    </tr>\n",
       "    <tr>\n",
       "      <th>duration col</th>\n",
       "      <td>'time'</td>\n",
       "    </tr>\n",
       "    <tr>\n",
       "      <th>event col</th>\n",
       "      <td>'event'</td>\n",
       "    </tr>\n",
       "    <tr>\n",
       "      <th>baseline estimation</th>\n",
       "      <td>breslow</td>\n",
       "    </tr>\n",
       "    <tr>\n",
       "      <th>number of observations</th>\n",
       "      <td>5</td>\n",
       "    </tr>\n",
       "    <tr>\n",
       "      <th>number of events observed</th>\n",
       "      <td>4</td>\n",
       "    </tr>\n",
       "    <tr>\n",
       "      <th>partial log-likelihood</th>\n",
       "      <td>-4.17</td>\n",
       "    </tr>\n",
       "    <tr>\n",
       "      <th>time fit was run</th>\n",
       "      <td>2023-06-03 13:40:16 UTC</td>\n",
       "    </tr>\n",
       "  </tbody>\n",
       "</table>\n",
       "</div><table border=\"1\" class=\"dataframe\">\n",
       "  <thead>\n",
       "    <tr style=\"text-align: right;\">\n",
       "      <th style=\"min-width: 12px;\"></th>\n",
       "      <th style=\"min-width: 12px;\">coef</th>\n",
       "      <th style=\"min-width: 12px;\">exp(coef)</th>\n",
       "      <th style=\"min-width: 12px;\">se(coef)</th>\n",
       "      <th style=\"min-width: 12px;\">coef lower 95%</th>\n",
       "      <th style=\"min-width: 12px;\">coef upper 95%</th>\n",
       "      <th style=\"min-width: 12px;\">exp(coef) lower 95%</th>\n",
       "      <th style=\"min-width: 12px;\">exp(coef) upper 95%</th>\n",
       "      <th style=\"min-width: 12px;\">cmp to</th>\n",
       "      <th style=\"min-width: 12px;\">z</th>\n",
       "      <th style=\"min-width: 12px;\">p</th>\n",
       "      <th style=\"min-width: 12px;\">-log2(p)</th>\n",
       "    </tr>\n",
       "  </thead>\n",
       "  <tbody>\n",
       "    <tr>\n",
       "      <th>x</th>\n",
       "      <td>-1.21</td>\n",
       "      <td>0.30</td>\n",
       "      <td>1.17</td>\n",
       "      <td>-3.51</td>\n",
       "      <td>1.09</td>\n",
       "      <td>0.03</td>\n",
       "      <td>2.98</td>\n",
       "      <td>0.00</td>\n",
       "      <td>-1.03</td>\n",
       "      <td>0.30</td>\n",
       "      <td>1.72</td>\n",
       "    </tr>\n",
       "  </tbody>\n",
       "</table><br><div>\n",
       "<style scoped>\n",
       "    .dataframe tbody tr th:only-of-type {\n",
       "        vertical-align: middle;\n",
       "    }\n",
       "\n",
       "    .dataframe tbody tr th {\n",
       "        vertical-align: top;\n",
       "    }\n",
       "\n",
       "    .dataframe thead th {\n",
       "        text-align: right;\n",
       "    }\n",
       "</style>\n",
       "<table border=\"1\" class=\"dataframe\">\n",
       "  <tbody>\n",
       "    <tr>\n",
       "      <th>Concordance</th>\n",
       "      <td>0.70</td>\n",
       "    </tr>\n",
       "    <tr>\n",
       "      <th>Partial AIC</th>\n",
       "      <td>10.35</td>\n",
       "    </tr>\n",
       "    <tr>\n",
       "      <th>log-likelihood ratio test</th>\n",
       "      <td>1.23 on 1 df</td>\n",
       "    </tr>\n",
       "    <tr>\n",
       "      <th>-log2(p) of ll-ratio test</th>\n",
       "      <td>1.90</td>\n",
       "    </tr>\n",
       "  </tbody>\n",
       "</table>\n",
       "</div>"
      ],
      "text/latex": [
       "\\begin{tabular}{lrrrrrrrrrrr}\n",
       " & coef & exp(coef) & se(coef) & coef lower 95% & coef upper 95% & exp(coef) lower 95% & exp(coef) upper 95% & cmp to & z & p & -log2(p) \\\\\n",
       "covariate &  &  &  &  &  &  &  &  &  &  &  \\\\\n",
       "x & -1.21 & 0.30 & 1.17 & -3.51 & 1.09 & 0.03 & 2.98 & 0.00 & -1.03 & 0.30 & 1.72 \\\\\n",
       "\\end{tabular}\n"
      ],
      "text/plain": [
       "<lifelines.CoxPHFitter: fitted with 5 total observations, 1 right-censored observations>\n",
       "             duration col = 'time'\n",
       "                event col = 'event'\n",
       "      baseline estimation = breslow\n",
       "   number of observations = 5\n",
       "number of events observed = 4\n",
       "   partial log-likelihood = -4.17\n",
       "         time fit was run = 2023-06-03 13:40:16 UTC\n",
       "\n",
       "---\n",
       "            coef  exp(coef)   se(coef)   coef lower 95%   coef upper 95%  exp(coef) lower 95%  exp(coef) upper 95%\n",
       "covariate                                                                                                         \n",
       "x          -1.21       0.30       1.17            -3.51             1.09                 0.03                 2.98\n",
       "\n",
       "            cmp to     z    p   -log2(p)\n",
       "covariate                               \n",
       "x             0.00 -1.03 0.30       1.72\n",
       "---\n",
       "Concordance = 0.70\n",
       "Partial AIC = 10.35\n",
       "log-likelihood ratio test = 1.23 on 1 df\n",
       "-log2(p) of ll-ratio test = 1.90"
      ]
     },
     "metadata": {},
     "output_type": "display_data"
    }
   ],
   "source": [
    "cph = CoxPHFitter()\n",
    "cph.fit(sample_df, duration_col='time', event_col='event', formula='x')\n",
    "cph.print_summary()"
   ]
  },
  {
   "attachments": {},
   "cell_type": "markdown",
   "metadata": {},
   "source": [
    "## Continuous example"
   ]
  },
  {
   "cell_type": "code",
   "execution_count": 17,
   "metadata": {},
   "outputs": [
    {
     "data": {
      "text/html": [
       "<div>\n",
       "<style scoped>\n",
       "    .dataframe tbody tr th:only-of-type {\n",
       "        vertical-align: middle;\n",
       "    }\n",
       "\n",
       "    .dataframe tbody tr th {\n",
       "        vertical-align: top;\n",
       "    }\n",
       "\n",
       "    .dataframe thead th {\n",
       "        text-align: right;\n",
       "    }\n",
       "</style>\n",
       "<table border=\"1\" class=\"dataframe\">\n",
       "  <thead>\n",
       "    <tr style=\"text-align: right;\">\n",
       "      <th></th>\n",
       "      <th>subject</th>\n",
       "      <th>time</th>\n",
       "      <th>event</th>\n",
       "      <th>x</th>\n",
       "    </tr>\n",
       "  </thead>\n",
       "  <tbody>\n",
       "    <tr>\n",
       "      <th>0</th>\n",
       "      <td>A</td>\n",
       "      <td>1</td>\n",
       "      <td>1</td>\n",
       "      <td>0.1</td>\n",
       "    </tr>\n",
       "    <tr>\n",
       "      <th>1</th>\n",
       "      <td>B</td>\n",
       "      <td>3</td>\n",
       "      <td>1</td>\n",
       "      <td>0.2</td>\n",
       "    </tr>\n",
       "    <tr>\n",
       "      <th>2</th>\n",
       "      <td>C</td>\n",
       "      <td>4</td>\n",
       "      <td>1</td>\n",
       "      <td>0.3</td>\n",
       "    </tr>\n",
       "    <tr>\n",
       "      <th>3</th>\n",
       "      <td>D</td>\n",
       "      <td>5</td>\n",
       "      <td>1</td>\n",
       "      <td>0.9</td>\n",
       "    </tr>\n",
       "    <tr>\n",
       "      <th>4</th>\n",
       "      <td>E</td>\n",
       "      <td>6</td>\n",
       "      <td>0</td>\n",
       "      <td>1.2</td>\n",
       "    </tr>\n",
       "  </tbody>\n",
       "</table>\n",
       "</div>"
      ],
      "text/plain": [
       "  subject  time  event    x\n",
       "0       A     1      1  0.1\n",
       "1       B     3      1  0.2\n",
       "2       C     4      1  0.3\n",
       "3       D     5      1  0.9\n",
       "4       E     6      0  1.2"
      ]
     },
     "execution_count": 17,
     "metadata": {},
     "output_type": "execute_result"
    }
   ],
   "source": [
    "sample_cont_df = pd.DataFrame({\n",
    "    'subject': ['A', 'B', 'C', 'D', 'E'],\n",
    "    'time': [1, 3, 4, 5, 6],\n",
    "    'event': [1, 1, 1, 1, 0],\n",
    "    'x': [0.1, 0.2, 0.3, 0.9, 1.2],\n",
    "})\n",
    "\n",
    "sample_cont_df"
   ]
  },
  {
   "cell_type": "code",
   "execution_count": 18,
   "metadata": {},
   "outputs": [
    {
     "data": {
      "image/png": "[encoded data removed]",
      "text/plain": [
       "<Figure size 640x480 with 1 Axes>"
      ]
     },
     "metadata": {},
     "output_type": "display_data"
    },
    {
     "data": {
      "text/plain": [
       "<ggplot: (8785236712183)>"
      ]
     },
     "execution_count": 18,
     "metadata": {},
     "output_type": "execute_result"
    }
   ],
   "source": [
    "plot_cost_vs_beta(sample_cont_df, betas=np.arange(-20, 7, 0.1))"
   ]
  },
  {
   "cell_type": "code",
   "execution_count": 19,
   "metadata": {},
   "outputs": [
    {
     "ename": "KeyError",
     "evalue": "None",
     "output_type": "error",
     "traceback": [
      "\u001b[0;31m---------------------------------------------------------------------------\u001b[0m",
      "\u001b[0;31mKeyError\u001b[0m                                  Traceback (most recent call last)",
      "Cell \u001b[0;32mIn[19], line 2\u001b[0m\n\u001b[1;32m      1\u001b[0m sample_cont_cox \u001b[39m=\u001b[39m CoxPHFitter()\n\u001b[0;32m----> 2\u001b[0m sample_cont_cox\u001b[39m.\u001b[39;49mfit(sample_cont_df, )\n",
      "File \u001b[0;32m~/.cache/pypoetry/virtualenvs/blog--v8k-B20-py3.8/lib/python3.8/site-packages/lifelines/utils/__init__.py:56\u001b[0m, in \u001b[0;36mCensoringType.right_censoring.<locals>.f\u001b[0;34m(model, *args, **kwargs)\u001b[0m\n\u001b[1;32m     53\u001b[0m \u001b[39m@wraps\u001b[39m(function)\n\u001b[1;32m     54\u001b[0m \u001b[39mdef\u001b[39;00m \u001b[39mf\u001b[39m(model, \u001b[39m*\u001b[39margs, \u001b[39m*\u001b[39m\u001b[39m*\u001b[39mkwargs):\n\u001b[1;32m     55\u001b[0m     \u001b[39mcls\u001b[39m\u001b[39m.\u001b[39mset_censoring_type(model, \u001b[39mcls\u001b[39m\u001b[39m.\u001b[39mRIGHT)\n\u001b[0;32m---> 56\u001b[0m     \u001b[39mreturn\u001b[39;00m function(model, \u001b[39m*\u001b[39;49margs, \u001b[39m*\u001b[39;49m\u001b[39m*\u001b[39;49mkwargs)\n",
      "File \u001b[0;32m~/.cache/pypoetry/virtualenvs/blog--v8k-B20-py3.8/lib/python3.8/site-packages/lifelines/fitters/coxph_fitter.py:290\u001b[0m, in \u001b[0;36mCoxPHFitter.fit\u001b[0;34m(self, df, duration_col, event_col, show_progress, initial_point, strata, weights_col, cluster_col, robust, batch_mode, timeline, formula, entry_col, fit_options)\u001b[0m\n\u001b[1;32m    184\u001b[0m \u001b[39m\u001b[39m\u001b[39m\"\"\"\u001b[39;00m\n\u001b[1;32m    185\u001b[0m \u001b[39mFit the Cox proportional hazard model to a right-censored dataset. Alias of `fit_right_censoring`.\u001b[39;00m\n\u001b[1;32m    186\u001b[0m \n\u001b[0;32m   (...)\u001b[0m\n\u001b[1;32m    287\u001b[0m \n\u001b[1;32m    288\u001b[0m \u001b[39m\"\"\"\u001b[39;00m\n\u001b[1;32m    289\u001b[0m \u001b[39mself\u001b[39m\u001b[39m.\u001b[39mstrata \u001b[39m=\u001b[39m utils\u001b[39m.\u001b[39m_to_list_or_singleton(utils\u001b[39m.\u001b[39mcoalesce(strata, \u001b[39mself\u001b[39m\u001b[39m.\u001b[39mstrata))\n\u001b[0;32m--> 290\u001b[0m \u001b[39mself\u001b[39m\u001b[39m.\u001b[39m_model \u001b[39m=\u001b[39m \u001b[39mself\u001b[39;49m\u001b[39m.\u001b[39;49m_fit_model(\n\u001b[1;32m    291\u001b[0m     df,\n\u001b[1;32m    292\u001b[0m     duration_col,\n\u001b[1;32m    293\u001b[0m     event_col\u001b[39m=\u001b[39;49mevent_col,\n\u001b[1;32m    294\u001b[0m     show_progress\u001b[39m=\u001b[39;49mshow_progress,\n\u001b[1;32m    295\u001b[0m     initial_point\u001b[39m=\u001b[39;49minitial_point,\n\u001b[1;32m    296\u001b[0m     strata\u001b[39m=\u001b[39;49m\u001b[39mself\u001b[39;49m\u001b[39m.\u001b[39;49mstrata,\n\u001b[1;32m    297\u001b[0m     weights_col\u001b[39m=\u001b[39;49mweights_col,\n\u001b[1;32m    298\u001b[0m     cluster_col\u001b[39m=\u001b[39;49mcluster_col,\n\u001b[1;32m    299\u001b[0m     robust\u001b[39m=\u001b[39;49mrobust,\n\u001b[1;32m    300\u001b[0m     batch_mode\u001b[39m=\u001b[39;49mbatch_mode,\n\u001b[1;32m    301\u001b[0m     timeline\u001b[39m=\u001b[39;49mtimeline,\n\u001b[1;32m    302\u001b[0m     formula\u001b[39m=\u001b[39;49mformula,\n\u001b[1;32m    303\u001b[0m     entry_col\u001b[39m=\u001b[39;49mentry_col,\n\u001b[1;32m    304\u001b[0m     fit_options\u001b[39m=\u001b[39;49mfit_options,\n\u001b[1;32m    305\u001b[0m )\n\u001b[1;32m    306\u001b[0m \u001b[39mreturn\u001b[39;00m \u001b[39mself\u001b[39m\n",
      "File \u001b[0;32m~/.cache/pypoetry/virtualenvs/blog--v8k-B20-py3.8/lib/python3.8/site-packages/lifelines/fitters/coxph_fitter.py:610\u001b[0m, in \u001b[0;36mCoxPHFitter._fit_model\u001b[0;34m(self, *args, **kwargs)\u001b[0m\n\u001b[1;32m    608\u001b[0m \u001b[39mdef\u001b[39;00m \u001b[39m_fit_model\u001b[39m(\u001b[39mself\u001b[39m, \u001b[39m*\u001b[39margs, \u001b[39m*\u001b[39m\u001b[39m*\u001b[39mkwargs):\n\u001b[1;32m    609\u001b[0m     \u001b[39mif\u001b[39;00m \u001b[39mself\u001b[39m\u001b[39m.\u001b[39mbaseline_estimation_method \u001b[39m==\u001b[39m \u001b[39m\"\u001b[39m\u001b[39mbreslow\u001b[39m\u001b[39m\"\u001b[39m:\n\u001b[0;32m--> 610\u001b[0m         \u001b[39mreturn\u001b[39;00m \u001b[39mself\u001b[39;49m\u001b[39m.\u001b[39;49m_fit_model_breslow(\u001b[39m*\u001b[39;49margs, \u001b[39m*\u001b[39;49m\u001b[39m*\u001b[39;49mkwargs)\n\u001b[1;32m    611\u001b[0m     \u001b[39melif\u001b[39;00m \u001b[39mself\u001b[39m\u001b[39m.\u001b[39mbaseline_estimation_method \u001b[39m==\u001b[39m \u001b[39m\"\u001b[39m\u001b[39mspline\u001b[39m\u001b[39m\"\u001b[39m:\n\u001b[1;32m    612\u001b[0m         \u001b[39mreturn\u001b[39;00m \u001b[39mself\u001b[39m\u001b[39m.\u001b[39m_fit_model_spline(\u001b[39m*\u001b[39margs, \u001b[39m*\u001b[39m\u001b[39m*\u001b[39mkwargs)\n",
      "File \u001b[0;32m~/.cache/pypoetry/virtualenvs/blog--v8k-B20-py3.8/lib/python3.8/site-packages/lifelines/fitters/coxph_fitter.py:623\u001b[0m, in \u001b[0;36mCoxPHFitter._fit_model_breslow\u001b[0;34m(self, *args, **kwargs)\u001b[0m\n\u001b[1;32m    619\u001b[0m model \u001b[39m=\u001b[39m SemiParametricPHFitter(\n\u001b[1;32m    620\u001b[0m     penalizer\u001b[39m=\u001b[39m\u001b[39mself\u001b[39m\u001b[39m.\u001b[39mpenalizer, l1_ratio\u001b[39m=\u001b[39m\u001b[39mself\u001b[39m\u001b[39m.\u001b[39ml1_ratio, strata\u001b[39m=\u001b[39m\u001b[39mself\u001b[39m\u001b[39m.\u001b[39mstrata, alpha\u001b[39m=\u001b[39m\u001b[39mself\u001b[39m\u001b[39m.\u001b[39malpha, label\u001b[39m=\u001b[39m\u001b[39mself\u001b[39m\u001b[39m.\u001b[39m_label\n\u001b[1;32m    621\u001b[0m )\n\u001b[1;32m    622\u001b[0m \u001b[39mif\u001b[39;00m utils\u001b[39m.\u001b[39mCensoringType\u001b[39m.\u001b[39mis_right_censoring(\u001b[39mself\u001b[39m):\n\u001b[0;32m--> 623\u001b[0m     model\u001b[39m.\u001b[39;49mfit(\u001b[39m*\u001b[39;49margs, \u001b[39m*\u001b[39;49m\u001b[39m*\u001b[39;49mkwargs)\n\u001b[1;32m    624\u001b[0m     \u001b[39mreturn\u001b[39;00m model\n\u001b[1;32m    625\u001b[0m \u001b[39melse\u001b[39;00m:\n",
      "File \u001b[0;32m~/.cache/pypoetry/virtualenvs/blog--v8k-B20-py3.8/lib/python3.8/site-packages/lifelines/utils/__init__.py:56\u001b[0m, in \u001b[0;36mCensoringType.right_censoring.<locals>.f\u001b[0;34m(model, *args, **kwargs)\u001b[0m\n\u001b[1;32m     53\u001b[0m \u001b[39m@wraps\u001b[39m(function)\n\u001b[1;32m     54\u001b[0m \u001b[39mdef\u001b[39;00m \u001b[39mf\u001b[39m(model, \u001b[39m*\u001b[39margs, \u001b[39m*\u001b[39m\u001b[39m*\u001b[39mkwargs):\n\u001b[1;32m     55\u001b[0m     \u001b[39mcls\u001b[39m\u001b[39m.\u001b[39mset_censoring_type(model, \u001b[39mcls\u001b[39m\u001b[39m.\u001b[39mRIGHT)\n\u001b[0;32m---> 56\u001b[0m     \u001b[39mreturn\u001b[39;00m function(model, \u001b[39m*\u001b[39;49margs, \u001b[39m*\u001b[39;49m\u001b[39m*\u001b[39;49mkwargs)\n",
      "File \u001b[0;32m~/.cache/pypoetry/virtualenvs/blog--v8k-B20-py3.8/lib/python3.8/site-packages/lifelines/fitters/coxph_fitter.py:1229\u001b[0m, in \u001b[0;36mSemiParametricPHFitter.fit\u001b[0;34m(self, df, duration_col, event_col, show_progress, initial_point, strata, weights_col, cluster_col, robust, batch_mode, timeline, formula, entry_col, fit_options)\u001b[0m\n\u001b[1;32m   1226\u001b[0m \u001b[39mself\u001b[39m\u001b[39m.\u001b[39mformula \u001b[39m=\u001b[39m formula\n\u001b[1;32m   1227\u001b[0m \u001b[39mself\u001b[39m\u001b[39m.\u001b[39mentry_col \u001b[39m=\u001b[39m entry_col\n\u001b[0;32m-> 1229\u001b[0m X, T, E, weights, entries, original_index, \u001b[39mself\u001b[39m\u001b[39m.\u001b[39m_clusters \u001b[39m=\u001b[39m \u001b[39mself\u001b[39;49m\u001b[39m.\u001b[39;49m_preprocess_dataframe(df)\n\u001b[1;32m   1231\u001b[0m \u001b[39mself\u001b[39m\u001b[39m.\u001b[39mdurations \u001b[39m=\u001b[39m T\u001b[39m.\u001b[39mcopy()\n\u001b[1;32m   1232\u001b[0m \u001b[39mself\u001b[39m\u001b[39m.\u001b[39mevent_observed \u001b[39m=\u001b[39m E\u001b[39m.\u001b[39mcopy()\n",
      "File \u001b[0;32m~/.cache/pypoetry/virtualenvs/blog--v8k-B20-py3.8/lib/python3.8/site-packages/lifelines/fitters/coxph_fitter.py:1306\u001b[0m, in \u001b[0;36mSemiParametricPHFitter._preprocess_dataframe\u001b[0;34m(self, df)\u001b[0m\n\u001b[1;32m   1304\u001b[0m \u001b[39melse\u001b[39;00m:\n\u001b[1;32m   1305\u001b[0m     sort_by \u001b[39m=\u001b[39m [\u001b[39mself\u001b[39m\u001b[39m.\u001b[39mduration_col, \u001b[39mself\u001b[39m\u001b[39m.\u001b[39mevent_col] \u001b[39mif\u001b[39;00m \u001b[39mself\u001b[39m\u001b[39m.\u001b[39mevent_col \u001b[39melse\u001b[39;00m [\u001b[39mself\u001b[39m\u001b[39m.\u001b[39mduration_col]\n\u001b[0;32m-> 1306\u001b[0m     df \u001b[39m=\u001b[39m df\u001b[39m.\u001b[39;49msort_values(by\u001b[39m=\u001b[39;49msort_by)\n\u001b[1;32m   1307\u001b[0m     original_index \u001b[39m=\u001b[39m df\u001b[39m.\u001b[39mindex\u001b[39m.\u001b[39mcopy()\n\u001b[1;32m   1309\u001b[0m \u001b[39m# Extract time, event and metadata\u001b[39;00m\n",
      "File \u001b[0;32m~/.cache/pypoetry/virtualenvs/blog--v8k-B20-py3.8/lib/python3.8/site-packages/pandas/core/frame.py:6766\u001b[0m, in \u001b[0;36mDataFrame.sort_values\u001b[0;34m(self, by, axis, ascending, inplace, kind, na_position, ignore_index, key)\u001b[0m\n\u001b[1;32m   6762\u001b[0m \u001b[39melif\u001b[39;00m \u001b[39mlen\u001b[39m(by):\n\u001b[1;32m   6763\u001b[0m     \u001b[39m# len(by) == 1\u001b[39;00m\n\u001b[1;32m   6765\u001b[0m     by \u001b[39m=\u001b[39m by[\u001b[39m0\u001b[39m]\n\u001b[0;32m-> 6766\u001b[0m     k \u001b[39m=\u001b[39m \u001b[39mself\u001b[39;49m\u001b[39m.\u001b[39;49m_get_label_or_level_values(by, axis\u001b[39m=\u001b[39;49maxis)\n\u001b[1;32m   6768\u001b[0m     \u001b[39m# need to rewrap column in Series to apply key function\u001b[39;00m\n\u001b[1;32m   6769\u001b[0m     \u001b[39mif\u001b[39;00m key \u001b[39mis\u001b[39;00m \u001b[39mnot\u001b[39;00m \u001b[39mNone\u001b[39;00m:\n\u001b[1;32m   6770\u001b[0m         \u001b[39m# error: Incompatible types in assignment (expression has type\u001b[39;00m\n\u001b[1;32m   6771\u001b[0m         \u001b[39m# \"Series\", variable has type \"ndarray\")\u001b[39;00m\n",
      "File \u001b[0;32m~/.cache/pypoetry/virtualenvs/blog--v8k-B20-py3.8/lib/python3.8/site-packages/pandas/core/generic.py:1778\u001b[0m, in \u001b[0;36mNDFrame._get_label_or_level_values\u001b[0;34m(self, key, axis)\u001b[0m\n\u001b[1;32m   1776\u001b[0m     values \u001b[39m=\u001b[39m \u001b[39mself\u001b[39m\u001b[39m.\u001b[39maxes[axis]\u001b[39m.\u001b[39mget_level_values(key)\u001b[39m.\u001b[39m_values\n\u001b[1;32m   1777\u001b[0m \u001b[39melse\u001b[39;00m:\n\u001b[0;32m-> 1778\u001b[0m     \u001b[39mraise\u001b[39;00m \u001b[39mKeyError\u001b[39;00m(key)\n\u001b[1;32m   1780\u001b[0m \u001b[39m# Check for duplicates\u001b[39;00m\n\u001b[1;32m   1781\u001b[0m \u001b[39mif\u001b[39;00m values\u001b[39m.\u001b[39mndim \u001b[39m>\u001b[39m \u001b[39m1\u001b[39m:\n",
      "\u001b[0;31mKeyError\u001b[0m: None"
     ]
    }
   ],
   "source": [
    "sample_cont_cox = CoxPHFitter()\n",
    "sample_cont_cox.fit(sample_cont_df, )"
   ]
  }
 ],
 "metadata": {
  "kernelspec": {
   "display_name": "blog--v8k-B20-py3.8",
   "language": "python",
   "name": "python3"
  },
  "language_info": {
   "codemirror_mode": {
    "name": "ipython",
    "version": 3
   },
   "file_extension": ".py",
   "mimetype": "text/x-python",
   "name": "python",
   "nbconvert_exporter": "python",
   "pygments_lexer": "ipython3",
   "version": "3.8.10"
  },
  "orig_nbformat": 4
 },
 "nbformat": 4,
 "nbformat_minor": 2
}
