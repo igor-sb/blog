{
 "cells": [
  {
   "attachments": {},
   "cell_type": "markdown",
   "metadata": {},
   "source": [
    "# Cox Regression: Deconstructed"
   ]
  },
  {
   "attachments": {},
   "cell_type": "markdown",
   "metadata": {},
   "source": [
    "What are the most probable parameters that explain rank-ordered times to event?"
   ]
  },
  {
   "attachments": {},
   "cell_type": "markdown",
   "metadata": {},
   "source": [
    "## Introduction\n",
    "\n",
    "The goal of Cox regression model is to asses the relationship of predictor variables to time-to-event of some event that can occur at most once - for example, death. We will start by creating a simple simulated dataset, with 5 subjects labeled A to E. Each subject either experienced an event or not, during the duration of the study. Each subject also has a predictor $x$, assigned before the study. For example, this could be a level of a drug tested to prolong longevity:"
   ]
  },
  {
   "cell_type": "code",
   "execution_count": 1,
   "metadata": {},
   "outputs": [
    {
     "data": {
      "text/html": [
       "<div>\n",
       "<style scoped>\n",
       "    .dataframe tbody tr th:only-of-type {\n",
       "        vertical-align: middle;\n",
       "    }\n",
       "\n",
       "    .dataframe tbody tr th {\n",
       "        vertical-align: top;\n",
       "    }\n",
       "\n",
       "    .dataframe thead th {\n",
       "        text-align: right;\n",
       "    }\n",
       "</style>\n",
       "<table border=\"1\" class=\"dataframe\">\n",
       "  <thead>\n",
       "    <tr style=\"text-align: right;\">\n",
       "      <th></th>\n",
       "      <th>subject</th>\n",
       "      <th>time</th>\n",
       "      <th>event</th>\n",
       "      <th>x</th>\n",
       "    </tr>\n",
       "  </thead>\n",
       "  <tbody>\n",
       "    <tr>\n",
       "      <th>0</th>\n",
       "      <td>A</td>\n",
       "      <td>1</td>\n",
       "      <td>1</td>\n",
       "      <td>-1.7</td>\n",
       "    </tr>\n",
       "    <tr>\n",
       "      <th>1</th>\n",
       "      <td>B</td>\n",
       "      <td>3</td>\n",
       "      <td>1</td>\n",
       "      <td>-0.4</td>\n",
       "    </tr>\n",
       "    <tr>\n",
       "      <th>2</th>\n",
       "      <td>C</td>\n",
       "      <td>5</td>\n",
       "      <td>1</td>\n",
       "      <td>0.0</td>\n",
       "    </tr>\n",
       "    <tr>\n",
       "      <th>3</th>\n",
       "      <td>D</td>\n",
       "      <td>4</td>\n",
       "      <td>1</td>\n",
       "      <td>0.9</td>\n",
       "    </tr>\n",
       "    <tr>\n",
       "      <th>4</th>\n",
       "      <td>E</td>\n",
       "      <td>6</td>\n",
       "      <td>0</td>\n",
       "      <td>1.2</td>\n",
       "    </tr>\n",
       "  </tbody>\n",
       "</table>\n",
       "</div>"
      ],
      "text/plain": [
       "  subject  time  event    x\n",
       "0       A     1      1 -1.7\n",
       "1       B     3      1 -0.4\n",
       "2       C     5      1  0.0\n",
       "3       D     4      1  0.9\n",
       "4       E     6      0  1.2"
      ]
     },
     "execution_count": 1,
     "metadata": {},
     "output_type": "execute_result"
    }
   ],
   "source": [
    "import pandas as pd\n",
    "import numpy as np\n",
    "\n",
    "sample_df = pd.DataFrame({\n",
    "    'subject': ['A', 'B', 'C', 'D', 'E'],\n",
    "    'time': [1, 3, 5, 4, 6],\n",
    "    'event': [1, 1, 1, 1, 0],\n",
    "    'x': [-1.7, -0.4, 0.0, 0.9, 1.2],\n",
    "})\n",
    "\n",
    "sample_df"
   ]
  },
  {
   "attachments": {},
   "cell_type": "markdown",
   "metadata": {},
   "source": [
    "If a subject experienced an event (event = 1), the `time` column indicates its event time. Subjects who do not experience an event (event = 0) throughout the study are called \"censored\", and have `time` as the last time we have information on them. If there are no censored subjects, `event` column will be 1 for all subjects and becomes reduntant. However, most statistical libraries still require having it.\n",
    "\n",
    "In order to better visualize the events, we use a \"lollipop\" 🍭 plot:"
   ]
  },
  {
   "cell_type": "code",
   "execution_count": 2,
   "metadata": {},
   "outputs": [
    {
     "data": {
      "image/png": "[encoded data removed]",
      "text/plain": [
       "<Figure size 640x279.134 with 1 Axes>"
      ]
     },
     "metadata": {},
     "output_type": "display_data"
    },
    {
     "data": {
      "text/plain": [
       "<ggplot: (8789404160693)>"
      ]
     },
     "execution_count": 2,
     "metadata": {},
     "output_type": "execute_result"
    }
   ],
   "source": [
    "from cox.plots import plot_subject_event_times\n",
    "plot_subject_event_times(sample_df)"
   ]
  },
  {
   "attachments": {},
   "cell_type": "markdown",
   "metadata": {},
   "source": [
    "On this plot, lines indicate the duration of time each subject experienced before an event, which is represented by a filled circle. Subject E does not have a circle since it survived the entire study. Color gradient represent levels of predictor $x$.\n",
    "\n",
    "Note: Throughout this post, we will focus on datasets where only one event occurs at each time (no \"ties\"). This simplification allows for a clearer understanding of the core of the Cox model."
   ]
  },
  {
   "attachments": {},
   "cell_type": "markdown",
   "metadata": {},
   "source": [
    "## Hazards\n",
    "\n",
    "Hazard represents the probability of an event occurring within a specific unit of time - assuming that the event did not occur before and that it can occur at most once. Hazard signifies the rate at which events take place and is measured in inverse time units. Unlike regular probability, which ranges between 0 and 1, hazard values can span from zero to infinity (e.g., 500 events per second). In a broader context, hazard can also vary over time. For instance, in the case of an event like \"diagnosis with cancer,\" the hazard tends to increase with time.\n",
    "\n",
    "In Cox regression, the hazard function, denoted as $h(t, x)$, is modeled in a manner similar to the odds in logistic regression. Logistic regression employs the odds ratio, represented as p/(1-p), to transform probabilities that range in [0, 1] into odds, which have a range in [0, ∞). Next, a logarithmic transformation is applied to the odds to produce values that reside within a symmetric interval of (-∞, ∞). This is done since values derived from linear combinations of predictor variables ($\\beta_1 x_1 + \\beta_2 x_2 + ...$) also fall within the same interval (-∞, ∞).\n",
    "\n",
    "Similarly, in Cox regression, the logarithm is utilized to transform the range of hazard values from [0, ∞) to (-∞, ∞):"
   ]
  },
  {
   "attachments": {},
   "cell_type": "markdown",
   "id": "eq_log_hazard",
   "metadata": {},
   "source": [
    "$$\\log h(t, x) = \\beta x + \\beta_0$$"
   ]
  },
  {
   "attachments": {},
   "cell_type": "markdown",
   "metadata": {},
   "source": [
    "If you read previous posts on logistic regression, you may remember that this type of log-probabilistic model could not fit perfectly separable data, which would result in infinite odds ratios. We will investigate this later.\n",
    "\n",
    "In addition to the assumption of log-hazards having linear relationship with predictors, Cox regression also assumes that any time dependence of log-hazard is contained _only_ in the intercept term, $\\beta_0(t)$:"
   ]
  },
  {
   "attachments": {},
   "cell_type": "markdown",
   "id": "eq_log_hazard_with_time",
   "metadata": {},
   "source": [
    "$$\\log h(t, x) = \\beta x + \\beta_0(t)$$"
   ]
  },
  {
   "attachments": {},
   "cell_type": "markdown",
   "metadata": {},
   "source": [
    "This assumption is motivated mathematically - we will see in the following section that it significantly simplifies the fitting process. It also happens to work well in practice. Across the literature, the intercept term $\\beta_0(t)$ is usually moved to the left side of this equation and instead expressed as a _baseline hazard_ $\\log[h_0(t)]$:"
   ]
  },
  {
   "attachments": {},
   "cell_type": "markdown",
   "id": "eq_log_hazard_with_baseline",
   "metadata": {},
   "source": [
    "$$\\log\\left[\\frac{h(t, x)}{h_0(t)}\\right] = \\beta x$$"
   ]
  },
  {
   "attachments": {},
   "cell_type": "markdown",
   "metadata": {},
   "source": [
    "From this equation, we can expressed the hazard $h(t, x)$:"
   ]
  },
  {
   "attachments": {},
   "cell_type": "markdown",
   "id": "eq_hazard",
   "metadata": {},
   "source": [
    "$$h(t, x) = h_0(t) e^{\\beta x}$$"
   ]
  },
  {
   "attachments": {},
   "cell_type": "markdown",
   "metadata": {},
   "source": [
    "Because of these assumption Cox model is also called a \"proportional hazard\" model. Still, this equation does not seem particularly useful, as it seems like we now also need a mathematical model for the baseline hazard $h_0(t)$?"
   ]
  },
  {
   "attachments": {},
   "cell_type": "markdown",
   "metadata": {},
   "source": [
    "## Fitting: 1. Concepts"
   ]
  },
  {
   "attachments": {},
   "cell_type": "markdown",
   "metadata": {},
   "source": [
    "It turns out, we can leave this pesky baseline hazard $h_0(t)$ undefined, as it will completely cancel out when fitting a model, using a technique called Maximum Likelihood Estimation. Likelihood is a probability of observing the data (here, survival times) given some model parameters (here, $\\beta$). How is likelihood defined in a Cox model?\n",
    "\n",
    "##### 1. Sort events by their survival times.\n",
    "\n",
    "_This is the only part where a survival time is used in a Cox model!_ In fact, as long as the ranking of survival times stays the same, their actual values _do not matter at all_. In our case:"
   ]
  },
  {
   "cell_type": "code",
   "execution_count": 3,
   "metadata": {},
   "outputs": [
    {
     "data": {
      "text/html": [
       "<div>\n",
       "<style scoped>\n",
       "    .dataframe tbody tr th:only-of-type {\n",
       "        vertical-align: middle;\n",
       "    }\n",
       "\n",
       "    .dataframe tbody tr th {\n",
       "        vertical-align: top;\n",
       "    }\n",
       "\n",
       "    .dataframe thead th {\n",
       "        text-align: right;\n",
       "    }\n",
       "</style>\n",
       "<table border=\"1\" class=\"dataframe\">\n",
       "  <thead>\n",
       "    <tr style=\"text-align: right;\">\n",
       "      <th></th>\n",
       "      <th>subject</th>\n",
       "      <th>time</th>\n",
       "      <th>event</th>\n",
       "      <th>x</th>\n",
       "    </tr>\n",
       "  </thead>\n",
       "  <tbody>\n",
       "    <tr>\n",
       "      <th>0</th>\n",
       "      <td>A</td>\n",
       "      <td>1</td>\n",
       "      <td>1</td>\n",
       "      <td>-1.7</td>\n",
       "    </tr>\n",
       "    <tr>\n",
       "      <th>1</th>\n",
       "      <td>B</td>\n",
       "      <td>3</td>\n",
       "      <td>1</td>\n",
       "      <td>-0.4</td>\n",
       "    </tr>\n",
       "    <tr>\n",
       "      <th>3</th>\n",
       "      <td>D</td>\n",
       "      <td>4</td>\n",
       "      <td>1</td>\n",
       "      <td>0.9</td>\n",
       "    </tr>\n",
       "    <tr>\n",
       "      <th>2</th>\n",
       "      <td>C</td>\n",
       "      <td>5</td>\n",
       "      <td>1</td>\n",
       "      <td>0.0</td>\n",
       "    </tr>\n",
       "    <tr>\n",
       "      <th>4</th>\n",
       "      <td>E</td>\n",
       "      <td>6</td>\n",
       "      <td>0</td>\n",
       "      <td>1.2</td>\n",
       "    </tr>\n",
       "  </tbody>\n",
       "</table>\n",
       "</div>"
      ],
      "text/plain": [
       "  subject  time  event    x\n",
       "0       A     1      1 -1.7\n",
       "1       B     3      1 -0.4\n",
       "3       D     4      1  0.9\n",
       "2       C     5      1  0.0\n",
       "4       E     6      0  1.2"
      ]
     },
     "execution_count": 3,
     "metadata": {},
     "output_type": "execute_result"
    }
   ],
   "source": [
    "sample_df.sort_values(by='time')"
   ]
  },
  {
   "attachments": {},
   "cell_type": "markdown",
   "metadata": {},
   "source": [
    "#### 2. Calculate likelihood for each time point\n",
    "\n",
    "We start from subject A that underwent an event at its own event time = 1. The likelihood of this event for subject A, is a proportion of the hazard of subject A among the hazards from all subjects _still at risk_ for undergoing an event at that time:"
   ]
  },
  {
   "attachments": {},
   "cell_type": "markdown",
   "id": "eq_likelihood_A_def",
   "metadata": {},
   "source": [
    "$$L_A = L(t=1, \\beta) = \\frac{h_A}{h_A + h_B + h_C + h_D + h_E}$$"
   ]
  },
  {
   "attachments": {},
   "cell_type": "markdown",
   "id": "eq_likelihood_A_expanded",
   "metadata": {},
   "source": [
    "$$L_A = \\frac{h_0(t) e^{\\beta x_A}}{h_0(t) e^{\\beta x_A} + h_0(t) e^{\\beta x_B} + h_0(t) e^{\\beta x_C} + h_0(t) e^{\\beta x_D} + h_0(t) e^{\\beta x_E}}$$"
   ]
  },
  {
   "attachments": {},
   "cell_type": "markdown",
   "metadata": {},
   "source": [
    "Here observe that $h_0(t)$ can be cancelled out from this expression, hence the reason for not modeling it earlier. After plugging in each subject's values for $x$, we get an expression that depends only on $\\beta$:"
   ]
  },
  {
   "attachments": {},
   "cell_type": "markdown",
   "id": "eq_likelihood_A_final",
   "metadata": {},
   "source": [
    "$$L_A = \\frac{e^{\\beta \\cdot 0}}{e^{\\beta \\cdot 0} + e^{\\beta \\cdot 0} + e^{\\beta \\cdot 0} + e^{\\beta \\cdot 1} + e^{\\beta \\cdot 1}} = \\frac{1}{3 + 2e^{\\beta}}$$"
   ]
  },
  {
   "attachments": {},
   "cell_type": "markdown",
   "metadata": {},
   "source": [
    "From any time after t = 1, hazard of subject A can be considered to be zero, so subject A will be excluded from further likelihoods. This is because events considered here occur at most once, and subject A already experienced the event. Next, we move on to the second time point (t = 3) when subject B undergoes an event and we repeat this process:"
   ]
  },
  {
   "attachments": {},
   "cell_type": "markdown",
   "id": "eq_likelihood_B",
   "metadata": {},
   "source": [
    "$$L_B = \\frac{h_B}{h_B + h_C + h_D + h_E} = \\frac{1}{2 + 2e^{\\beta}}$$"
   ]
  },
  {
   "attachments": {},
   "cell_type": "markdown",
   "metadata": {},
   "source": [
    "We keep going until we write down likelihoods for all subjects that experienced an event. Subject E never experienced an event during our simulated study (subject is \"censored\"), so we do not write any separate likelihood for it. In literature and computational packages this likelihood is also called \"partial likelihood\".\n",
    "\n",
    "We can visualize likelihood calculations on our lollipop plot:"
   ]
  },
  {
   "cell_type": "code",
   "execution_count": 4,
   "metadata": {},
   "outputs": [],
   "source": [
    "from cox.plots import animate_subject_event_times_and_mark_at_risk\n",
    "animate_subject_event_times_and_mark_at_risk(\n",
    "    sample_df\n",
    ").save('../images/cox_likelihood_fitting_sample.gif')"
   ]
  },
  {
   "attachments": {},
   "cell_type": "markdown",
   "metadata": {},
   "source": [
    "![Cox likelihood fitting animation](../images/cox_likelihood_fitting_sample.gif)"
   ]
  },
  {
   "attachments": {},
   "cell_type": "markdown",
   "metadata": {},
   "source": [
    "#### 3. Find $\\beta$ for which sum of log-likelihoods is maximal"
   ]
  },
  {
   "attachments": {},
   "cell_type": "markdown",
   "metadata": {},
   "source": [
    "If each event occurs independently of each other, then the joint probability (likelihood) of observing all events given some parameters $\\beta$, is the product of individual likelihoods $L = L_A L_B L_C L_D$. However, products of many expressions that contain exponential functions can produce very large numbers and can lead to large numerical errors. Therefore, this likelihood is log-transformed, because logarithm turns a product of likelihoods into sum of log-likelihoods:"
   ]
  },
  {
   "attachments": {},
   "cell_type": "markdown",
   "id": "eq_sum_likelihoods_def",
   "metadata": {},
   "source": [
    "$$\\log L = \\log L_A + \\log L_B + \\log L_C + \\log L_D$$"
   ]
  },
  {
   "attachments": {},
   "cell_type": "markdown",
   "id": "eq_log_likelihood_A",
   "metadata": {},
   "source": [
    "$$\\log L_A = \\beta x_A - \\log \\left(e^{\\beta x_A} + e^{\\beta x_B} + e^{\\beta x_C} + e^{\\beta x_D} + e^{\\beta x_E}\\right)$$"
   ]
  },
  {
   "attachments": {},
   "cell_type": "markdown",
   "metadata": {},
   "source": [
    "The fitting process then tries to find $\\beta$ s that maximize this sum of log-likelihoods. Alternatively, to make this comparable to cost functions we are familiar with from linear and logistic regressions, we could define cost as negative log-likelihood and then minimize the cost.\n",
    "\n",
    "### Fitting 2. Implementation\n",
    "\n",
    "We can implement this algorithm in Python as follows. Since we are iterating per each subject, we first need to find event time and a predictor $x$ of each subject - this is done using `event_time_and_x_from_subject()`. Next, using the event time of that subject, we subset our data frame to find rows for each subject that is _still at risk_ - this is done using `subjects_at_risk_data()`. Finally, the log-likelihood of that subject is calculated using `log_likelihood` based on the last equation:"
   ]
  },
  {
   "cell_type": "code",
   "execution_count": 5,
   "metadata": {},
   "outputs": [],
   "source": [
    "def event_time_and_x_from_subject(df, subject):\n",
    "    subject_with_event_df = df.query(f\"subject == '{subject}' & event == 1\")\n",
    "    if subject_with_event_df.empty: # For censored subjects return infinite time\n",
    "        return (np.inf, 0)\n",
    "    return subject_with_event_df.iloc[0][['time', 'x']]\n",
    "\n",
    "def subjects_at_risk_data(df, subject):\n",
    "    time = event_time_and_x_from_subject(df, subject)[0]\n",
    "    return df.query(f'time >= {time}')\n",
    "\n",
    "def log_likelihood(df, subject, beta):\n",
    "    x_subjects_at_risk = subjects_at_risk_data(df, subject)['x']\n",
    "    x_subject = event_time_and_x_from_subject(df, subject)[1]\n",
    "    at_risk_hazards = np.exp(beta * x_subjects_at_risk)\n",
    "    return beta * x_subject - np.log(np.sum(at_risk_hazards))"
   ]
  },
  {
   "attachments": {},
   "cell_type": "markdown",
   "metadata": {},
   "source": [
    "For visualization purposes we will be plotting the \"cost\" or negative log-likelihoods, so we need to calculate those for each subject for specific value of $\\beta$:\n"
   ]
  },
  {
   "cell_type": "code",
   "execution_count": 6,
   "metadata": {},
   "outputs": [],
   "source": [
    "def neg_log_likelihood_for_all_subjects(df, beta):\n",
    "    subjects = df.query(\"event == 1\")['subject'].tolist()\n",
    "    neg_log_likelihoods = [-log_likelihood(df, subject, beta) for subject in subjects]\n",
    "    return pd.DataFrame({\n",
    "        'subject': subjects,\n",
    "        'neg_log_likelihood': neg_log_likelihoods\n",
    "    })"
   ]
  },
  {
   "attachments": {},
   "cell_type": "markdown",
   "metadata": {},
   "source": [
    "In order to find the minimum of this cost, as a function of $\\beta$ we need to sweep a range of $\\beta$ s. Finally, instead of aggregating this data frame by summing log-likelihoods (grouped by subject), we will leave them as they are, but plot them as stacked bar charts. Then the total height of each bar represents the sum of negative log-likelihoods:"
   ]
  },
  {
   "cell_type": "code",
   "execution_count": 7,
   "metadata": {},
   "outputs": [
    {
     "data": {
      "text/html": [
       "<div>\n",
       "<style scoped>\n",
       "    .dataframe tbody tr th:only-of-type {\n",
       "        vertical-align: middle;\n",
       "    }\n",
       "\n",
       "    .dataframe tbody tr th {\n",
       "        vertical-align: top;\n",
       "    }\n",
       "\n",
       "    .dataframe thead th {\n",
       "        text-align: right;\n",
       "    }\n",
       "</style>\n",
       "<table border=\"1\" class=\"dataframe\">\n",
       "  <thead>\n",
       "    <tr style=\"text-align: right;\">\n",
       "      <th></th>\n",
       "      <th>beta</th>\n",
       "      <th>subject</th>\n",
       "      <th>neg_log_likelihood</th>\n",
       "    </tr>\n",
       "  </thead>\n",
       "  <tbody>\n",
       "    <tr>\n",
       "      <th>0</th>\n",
       "      <td>-5.0</td>\n",
       "      <td>A</td>\n",
       "      <td>0.001708</td>\n",
       "    </tr>\n",
       "    <tr>\n",
       "      <th>1</th>\n",
       "      <td>-5.0</td>\n",
       "      <td>B</td>\n",
       "      <td>0.128546</td>\n",
       "    </tr>\n",
       "    <tr>\n",
       "      <th>2</th>\n",
       "      <td>-5.0</td>\n",
       "      <td>C</td>\n",
       "      <td>0.002476</td>\n",
       "    </tr>\n",
       "    <tr>\n",
       "      <th>3</th>\n",
       "      <td>-5.0</td>\n",
       "      <td>D</td>\n",
       "      <td>4.513496</td>\n",
       "    </tr>\n",
       "    <tr>\n",
       "      <th>0</th>\n",
       "      <td>-4.9</td>\n",
       "      <td>A</td>\n",
       "      <td>0.001955</td>\n",
       "    </tr>\n",
       "    <tr>\n",
       "      <th>...</th>\n",
       "      <td>...</td>\n",
       "      <td>...</td>\n",
       "      <td>...</td>\n",
       "    </tr>\n",
       "    <tr>\n",
       "      <th>3</th>\n",
       "      <td>4.8</td>\n",
       "      <td>D</td>\n",
       "      <td>1.655175</td>\n",
       "    </tr>\n",
       "    <tr>\n",
       "      <th>0</th>\n",
       "      <td>4.9</td>\n",
       "      <td>A</td>\n",
       "      <td>14.419543</td>\n",
       "    </tr>\n",
       "    <tr>\n",
       "      <th>1</th>\n",
       "      <td>4.9</td>\n",
       "      <td>B</td>\n",
       "      <td>8.049543</td>\n",
       "    </tr>\n",
       "    <tr>\n",
       "      <th>2</th>\n",
       "      <td>4.9</td>\n",
       "      <td>C</td>\n",
       "      <td>5.882791</td>\n",
       "    </tr>\n",
       "    <tr>\n",
       "      <th>3</th>\n",
       "      <td>4.9</td>\n",
       "      <td>D</td>\n",
       "      <td>1.679223</td>\n",
       "    </tr>\n",
       "  </tbody>\n",
       "</table>\n",
       "<p>400 rows × 3 columns</p>\n",
       "</div>"
      ],
      "text/plain": [
       "    beta subject  neg_log_likelihood\n",
       "0   -5.0       A            0.001708\n",
       "1   -5.0       B            0.128546\n",
       "2   -5.0       C            0.002476\n",
       "3   -5.0       D            4.513496\n",
       "0   -4.9       A            0.001955\n",
       "..   ...     ...                 ...\n",
       "3    4.8       D            1.655175\n",
       "0    4.9       A           14.419543\n",
       "1    4.9       B            8.049543\n",
       "2    4.9       C            5.882791\n",
       "3    4.9       D            1.679223\n",
       "\n",
       "[400 rows x 3 columns]"
      ]
     },
     "execution_count": 7,
     "metadata": {},
     "output_type": "execute_result"
    }
   ],
   "source": [
    "def neg_log_likelihood_all_subjects_sweep_betas(df, betas=np.arange(-5, 5, 0.1)):\n",
    "    loglikelihoods_per_beta = []\n",
    "    for beta in betas:\n",
    "        beta_df = neg_log_likelihood_for_all_subjects(df, beta)\n",
    "        beta_df.insert(0, 'beta', beta) # Add beta column\n",
    "        loglikelihoods_per_beta.append(beta_df)\n",
    "    return pd.concat(loglikelihoods_per_beta)\n",
    "\n",
    "negloglik_sweep_betas_df = neg_log_likelihood_all_subjects_sweep_betas(sample_df)\n",
    "negloglik_sweep_betas_df"
   ]
  },
  {
   "attachments": {},
   "cell_type": "markdown",
   "metadata": {},
   "source": [
    "### Fitting 3. Making sense of it all"
   ]
  },
  {
   "attachments": {},
   "cell_type": "markdown",
   "metadata": {},
   "source": [
    "Here's a plot of the negative log-likelihoods, grouped by subject-level likelihoods to indicate each contribution to the total:"
   ]
  },
  {
   "cell_type": "code",
   "execution_count": 8,
   "metadata": {},
   "outputs": [
    {
     "data": {
      "image/png": "[encoded data removed]",
      "text/plain": [
       "<Figure size 640x480 with 1 Axes>"
      ]
     },
     "metadata": {},
     "output_type": "display_data"
    },
    {
     "data": {
      "text/plain": [
       "<ggplot: (8789401899795)>"
      ]
     },
     "execution_count": 8,
     "metadata": {},
     "output_type": "execute_result"
    }
   ],
   "source": [
    "from cox.plots import plot_cost_vs_beta\n",
    "plot_cost_vs_beta(negloglik_sweep_betas_df, width=0.1)"
   ]
  },
  {
   "attachments": {},
   "cell_type": "markdown",
   "metadata": {},
   "source": [
    "How do we make sense of this plot?\n",
    "\n",
    "First, each vertical colored bar represents the individual negative log-likelihood. **Negative log-likelihood (cost) is large when the likelihood and hazards are small.** When proportion of each subject's hazard is small compared to hazards of all subjects at risk, we have a large cost. Think of the y axis very similar to $-\\log(\\text{p-value})$; larger values = lower probability. Second, all censored subjects (here only subject E) do not have their own likelihoods so they do not show up on the plot.\n",
    "\n",
    "If $\\beta$ is large and positive, hazards of subjects with $x = 1$ (D and E), that are proportional to $e^{\\beta x}$ are going to be large. The higher we push the hazard of subject D, the better its fit is. In some cases, we can create arbitrarily good fits for individual likelihoods. However, large values of $\\beta$ produce small hazards for subjects A, B and C, since they all have $x = 0$, so the cost of fitting large $\\beta$ for them is high.\n",
    "\n",
    "On the other hand, if $\\beta$ is large and negative, it is the other way around. Subjects with hazards where $x = 0$ become constant. They would shrink to zero only if $x$ was negative, for example if we had a continuous predictor $x$. At the same time the hazard for subject D will be very low ($e^{\\beta}$ is small for large negative $\\beta$) and therefore its cost will be high.\n",
    "\n",
    "The optimal value of $\\beta$ (around 1.2 on our plot) strikes a balance between hazards of subjects A, B, C and hazard of subject D. When our predictor $x$ is continuous, then there will be a gradation of hazards that are being balanced simultaneously some increasing a lot, some little and some decreasing a lot or a little. This optimal value comes out around -1.2 with the \"cost\" or negative log-likelihood around 4.17:"
   ]
  },
  {
   "cell_type": "code",
   "execution_count": 9,
   "metadata": {},
   "outputs": [
    {
     "data": {
      "text/html": [
       "<div>\n",
       "<style scoped>\n",
       "    .dataframe tbody tr th:only-of-type {\n",
       "        vertical-align: middle;\n",
       "    }\n",
       "\n",
       "    .dataframe tbody tr th {\n",
       "        vertical-align: top;\n",
       "    }\n",
       "\n",
       "    .dataframe thead th {\n",
       "        text-align: right;\n",
       "    }\n",
       "</style>\n",
       "<table border=\"1\" class=\"dataframe\">\n",
       "  <thead>\n",
       "    <tr style=\"text-align: right;\">\n",
       "      <th></th>\n",
       "      <th>beta</th>\n",
       "      <th>sum_neg_log_likelihood</th>\n",
       "    </tr>\n",
       "  </thead>\n",
       "  <tbody>\n",
       "    <tr>\n",
       "      <th>33</th>\n",
       "      <td>-1.7</td>\n",
       "      <td>2.63925</td>\n",
       "    </tr>\n",
       "  </tbody>\n",
       "</table>\n",
       "</div>"
      ],
      "text/plain": [
       "    beta  sum_neg_log_likelihood\n",
       "33  -1.7                 2.63925"
      ]
     },
     "execution_count": 9,
     "metadata": {},
     "output_type": "execute_result"
    }
   ],
   "source": [
    "negloglik_sweep_betas_df \\\n",
    "    .groupby(\"beta\") \\\n",
    "    .agg(sum_neg_log_likelihood=('neg_log_likelihood', 'sum')) \\\n",
    "    .reset_index() \\\n",
    "    .sort_values('sum_neg_log_likelihood') \\\n",
    "    .head(1)"
   ]
  },
  {
   "attachments": {},
   "cell_type": "markdown",
   "metadata": {},
   "source": [
    "## Running Cox regressions"
   ]
  },
  {
   "attachments": {},
   "cell_type": "markdown",
   "metadata": {},
   "source": [
    "Now that we have a better idea of the concepts behind how Cox regression works, we can use Python's `lifelines` library on sample data to verify the results:"
   ]
  },
  {
   "cell_type": "code",
   "execution_count": 10,
   "metadata": {},
   "outputs": [
    {
     "data": {
      "text/html": [
       "<div>\n",
       "<style scoped>\n",
       "    .dataframe tbody tr th:only-of-type {\n",
       "        vertical-align: middle;\n",
       "    }\n",
       "\n",
       "    .dataframe tbody tr th {\n",
       "        vertical-align: top;\n",
       "    }\n",
       "\n",
       "    .dataframe thead th {\n",
       "        text-align: right;\n",
       "    }\n",
       "</style>\n",
       "<table border=\"1\" class=\"dataframe\">\n",
       "  <tbody>\n",
       "    <tr>\n",
       "      <th>model</th>\n",
       "      <td>lifelines.CoxPHFitter</td>\n",
       "    </tr>\n",
       "    <tr>\n",
       "      <th>duration col</th>\n",
       "      <td>'time'</td>\n",
       "    </tr>\n",
       "    <tr>\n",
       "      <th>event col</th>\n",
       "      <td>'event'</td>\n",
       "    </tr>\n",
       "    <tr>\n",
       "      <th>baseline estimation</th>\n",
       "      <td>breslow</td>\n",
       "    </tr>\n",
       "    <tr>\n",
       "      <th>number of observations</th>\n",
       "      <td>5</td>\n",
       "    </tr>\n",
       "    <tr>\n",
       "      <th>number of events observed</th>\n",
       "      <td>4</td>\n",
       "    </tr>\n",
       "    <tr>\n",
       "      <th>partial log-likelihood</th>\n",
       "      <td>-2.64</td>\n",
       "    </tr>\n",
       "    <tr>\n",
       "      <th>time fit was run</th>\n",
       "      <td>2023-06-04 14:47:09 UTC</td>\n",
       "    </tr>\n",
       "  </tbody>\n",
       "</table>\n",
       "</div><table border=\"1\" class=\"dataframe\">\n",
       "  <thead>\n",
       "    <tr style=\"text-align: right;\">\n",
       "      <th style=\"min-width: 12px;\"></th>\n",
       "      <th style=\"min-width: 12px;\">coef</th>\n",
       "      <th style=\"min-width: 12px;\">exp(coef)</th>\n",
       "      <th style=\"min-width: 12px;\">se(coef)</th>\n",
       "      <th style=\"min-width: 12px;\">coef lower 95%</th>\n",
       "      <th style=\"min-width: 12px;\">coef upper 95%</th>\n",
       "      <th style=\"min-width: 12px;\">exp(coef) lower 95%</th>\n",
       "      <th style=\"min-width: 12px;\">exp(coef) upper 95%</th>\n",
       "      <th style=\"min-width: 12px;\">cmp to</th>\n",
       "      <th style=\"min-width: 12px;\">z</th>\n",
       "      <th style=\"min-width: 12px;\">p</th>\n",
       "      <th style=\"min-width: 12px;\">-log2(p)</th>\n",
       "    </tr>\n",
       "  </thead>\n",
       "  <tbody>\n",
       "    <tr>\n",
       "      <th>x</th>\n",
       "      <td>-1.71</td>\n",
       "      <td>0.18</td>\n",
       "      <td>1.07</td>\n",
       "      <td>-3.81</td>\n",
       "      <td>0.38</td>\n",
       "      <td>0.02</td>\n",
       "      <td>1.46</td>\n",
       "      <td>0.00</td>\n",
       "      <td>-1.60</td>\n",
       "      <td>0.11</td>\n",
       "      <td>3.20</td>\n",
       "    </tr>\n",
       "  </tbody>\n",
       "</table><br><div>\n",
       "<style scoped>\n",
       "    .dataframe tbody tr th:only-of-type {\n",
       "        vertical-align: middle;\n",
       "    }\n",
       "\n",
       "    .dataframe tbody tr th {\n",
       "        vertical-align: top;\n",
       "    }\n",
       "\n",
       "    .dataframe thead th {\n",
       "        text-align: right;\n",
       "    }\n",
       "</style>\n",
       "<table border=\"1\" class=\"dataframe\">\n",
       "  <tbody>\n",
       "    <tr>\n",
       "      <th>Concordance</th>\n",
       "      <td>0.90</td>\n",
       "    </tr>\n",
       "    <tr>\n",
       "      <th>Partial AIC</th>\n",
       "      <td>7.28</td>\n",
       "    </tr>\n",
       "    <tr>\n",
       "      <th>log-likelihood ratio test</th>\n",
       "      <td>4.30 on 1 df</td>\n",
       "    </tr>\n",
       "    <tr>\n",
       "      <th>-log2(p) of ll-ratio test</th>\n",
       "      <td>4.71</td>\n",
       "    </tr>\n",
       "  </tbody>\n",
       "</table>\n",
       "</div>"
      ],
      "text/latex": [
       "\\begin{tabular}{lrrrrrrrrrrr}\n",
       " & coef & exp(coef) & se(coef) & coef lower 95% & coef upper 95% & exp(coef) lower 95% & exp(coef) upper 95% & cmp to & z & p & -log2(p) \\\\\n",
       "covariate &  &  &  &  &  &  &  &  &  &  &  \\\\\n",
       "x & -1.71 & 0.18 & 1.07 & -3.81 & 0.38 & 0.02 & 1.46 & 0.00 & -1.60 & 0.11 & 3.20 \\\\\n",
       "\\end{tabular}\n"
      ],
      "text/plain": [
       "<lifelines.CoxPHFitter: fitted with 5 total observations, 1 right-censored observations>\n",
       "             duration col = 'time'\n",
       "                event col = 'event'\n",
       "      baseline estimation = breslow\n",
       "   number of observations = 5\n",
       "number of events observed = 4\n",
       "   partial log-likelihood = -2.64\n",
       "         time fit was run = 2023-06-04 14:47:09 UTC\n",
       "\n",
       "---\n",
       "            coef  exp(coef)   se(coef)   coef lower 95%   coef upper 95%  exp(coef) lower 95%  exp(coef) upper 95%\n",
       "covariate                                                                                                         \n",
       "x          -1.71       0.18       1.07            -3.81             0.38                 0.02                 1.46\n",
       "\n",
       "            cmp to     z    p   -log2(p)\n",
       "covariate                               \n",
       "x             0.00 -1.60 0.11       3.20\n",
       "---\n",
       "Concordance = 0.90\n",
       "Partial AIC = 7.28\n",
       "log-likelihood ratio test = 4.30 on 1 df\n",
       "-log2(p) of ll-ratio test = 4.71"
      ]
     },
     "metadata": {},
     "output_type": "display_data"
    }
   ],
   "source": [
    "from lifelines import CoxPHFitter\n",
    "\n",
    "sample_cox_model = CoxPHFitter()\n",
    "sample_cox_model.fit(sample_df, duration_col='time', event_col='event', formula='x')\n",
    "sample_cox_model.print_summary()"
   ]
  },
  {
   "attachments": {},
   "cell_type": "markdown",
   "metadata": {},
   "source": [
    "We can see the `coef = -1.21`, which is a $\\beta$ coefficient. Next to it are `exp(coef)` which represents $e^{\\beta}$, and other columns that indicate standard errors and confidence intervals of both. Note that \"partial log-likelihood\" is -4.17, which is inline to the number we obtained manually. One last thing to note is that Cox regression implementations include an extension that allows the model to work with multiple events tied on the same event time."
   ]
  },
  {
   "attachments": {},
   "cell_type": "markdown",
   "metadata": {},
   "source": [
    "## Perfect predictors"
   ]
  },
  {
   "attachments": {},
   "cell_type": "markdown",
   "metadata": {},
   "source": [
    "Remember how we noted earlier that logistic regression has issue fitting perfectly separated data? In logistic regression, perfectly separated data results in infinite odds ratio ($\\beta$). In Cox regression, hazard takes place of odds is based on similar concept of modeling events using log-probabilities.\n",
    "\n",
    "Although the outcome is a continuous variable (event time), we can still have \"perfect predictors\". Here is a visual example with data similar to the previous sample data dataset, but with a continuous perfect predictor $x$:"
   ]
  },
  {
   "cell_type": "code",
   "execution_count": 11,
   "metadata": {},
   "outputs": [
    {
     "data": {
      "image/png": "[encoded data removed]",
      "text/plain": [
       "<Figure size 640x279.134 with 1 Axes>"
      ]
     },
     "metadata": {},
     "output_type": "display_data"
    },
    {
     "data": {
      "text/plain": [
       "<ggplot: (8789479187691)>"
      ]
     },
     "execution_count": 11,
     "metadata": {},
     "output_type": "execute_result"
    }
   ],
   "source": [
    "perfect_df = pd.DataFrame({\n",
    "    'subject': ['A', 'B', 'C', 'D', 'E'],\n",
    "    'time': [1, 3, 4, 5, 6],\n",
    "    'event': [1, 1, 1, 1, 0],\n",
    "    'x': [-1, -0.4, 0.3, 0.9, 1.2],\n",
    "})\n",
    "\n",
    "plot_subject_event_times(perfect_df, color_map='x')"
   ]
  },
  {
   "attachments": {},
   "cell_type": "markdown",
   "metadata": {},
   "source": [
    " From this image, we can see that perfect predictors are predictors $x$ whose ranks exactly match ranks of event times. Colors of $x$ going from purple to yellow exactly track the order of event times."
   ]
  },
  {
   "cell_type": "code",
   "execution_count": 12,
   "metadata": {},
   "outputs": [],
   "source": [
    "animate_subject_event_times_and_mark_at_risk(\n",
    "    perfect_df, color_map='x'\n",
    ").save('../images/cox_likelihood_fitting_perfect.gif')"
   ]
  },
  {
   "attachments": {},
   "cell_type": "markdown",
   "metadata": {},
   "source": [
    "![animated_likelihood_fitting](../images/cox_likelihood_fitting.gif)"
   ]
  },
  {
   "attachments": {},
   "cell_type": "markdown",
   "metadata": {},
   "source": [
    "In order to understand why these \"perfect predictors\" can be problematic for statistical inference, we will again plot our negative log-likelihood cost vs $\\beta$:"
   ]
  },
  {
   "cell_type": "code",
   "execution_count": 13,
   "metadata": {},
   "outputs": [
    {
     "data": {
      "image/png": "[encoded data removed]",
      "text/plain": [
       "<Figure size 640x480 with 1 Axes>"
      ]
     },
     "metadata": {},
     "output_type": "display_data"
    },
    {
     "data": {
      "text/plain": [
       "<ggplot: (8789437706819)>"
      ]
     },
     "execution_count": 13,
     "metadata": {},
     "output_type": "execute_result"
    }
   ],
   "source": [
    "negloglik_sweep_betas_perfect_df = neg_log_likelihood_all_subjects_sweep_betas(\n",
    "    perfect_df,\n",
    "    betas=np.arange(-5, 5, 0.1)\n",
    ")\n",
    "plot_cost_vs_beta(negloglik_sweep_betas_perfect_df, width=0.1)"
   ]
  },
  {
   "attachments": {},
   "cell_type": "markdown",
   "metadata": {},
   "source": [
    "From this plot, it is pretty obvious that negative log-likelihood does not have a minimum value. It can be made arbitrarily small, by having $\\beta$ arbitrarily large negative number. Why is that?\n",
    "\n",
    "Let us apply our logic to likelihood for subject A to experience an event at t = 1:"
   ]
  },
  {
   "attachments": {},
   "cell_type": "markdown",
   "id": "eq_perfectsep_likelihood_A",
   "metadata": {},
   "source": [
    "$$L_A = \\frac{e^{-\\beta}}{e^{-\\beta} + e^{-0.4\\beta} + e^{0.3\\beta} + e^{0.9\\beta} + e^{1.2\\beta}}$$"
   ]
  },
  {
   "attachments": {},
   "cell_type": "markdown",
   "metadata": {},
   "source": [
    "If $\\beta$ is large and positive, all terms that have a negative $x$ are approximately zero, so the entire likelihood becomes very small - hence the large cost. If $\\beta$ is large and negative, all terms with positive $x$ are approximately zero, so the entire likelihood "
   ]
  },
  {
   "attachments": {},
   "cell_type": "markdown",
   "metadata": {},
   "source": []
  }
 ],
 "metadata": {
  "kernelspec": {
   "display_name": "blog--v8k-B20-py3.8",
   "language": "python",
   "name": "python3"
  },
  "language_info": {
   "codemirror_mode": {
    "name": "ipython",
    "version": 3
   },
   "file_extension": ".py",
   "mimetype": "text/x-python",
   "name": "python",
   "nbconvert_exporter": "python",
   "pygments_lexer": "ipython3",
   "version": "3.8.10"
  },
  "orig_nbformat": 4
 },
 "nbformat": 4,
 "nbformat_minor": 2
}
