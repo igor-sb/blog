{
 "cells": [
  {
   "cell_type": "markdown",
   "id": "f7a0f10f",
   "metadata": {},
   "source": [
    "Logistic regression is not:\n",
    "\n",
    "- a fit of a sigmoid curve to a set of points $$(x_1, y_1), ..., (x_n, y_n)$$\n",
    "- a classification method - although it is often used for this purpose"
   ]
  },
  {
   "cell_type": "code",
   "execution_count": 2,
   "id": "c5e94cd1",
   "metadata": {},
   "outputs": [
    {
     "name": "stdout",
     "output_type": "stream",
     "text": [
      "new\n"
     ]
    }
   ],
   "source": [
    "print(\"new\")"
   ]
  },
  {
   "cell_type": "code",
   "execution_count": null,
   "id": "ac64373a",
   "metadata": {},
   "outputs": [],
   "source": []
  }
 ],
 "metadata": {
  "kernelspec": {
   "display_name": "Python 3 (ipykernel)",
   "language": "python",
   "name": "python3"
  },
  "language_info": {
   "codemirror_mode": {
    "name": "ipython",
    "version": 3
   },
   "file_extension": ".py",
   "mimetype": "text/x-python",
   "name": "python",
   "nbconvert_exporter": "python",
   "pygments_lexer": "ipython3",
   "version": "3.8.10"
  }
 },
 "nbformat": 4,
 "nbformat_minor": 5
}
